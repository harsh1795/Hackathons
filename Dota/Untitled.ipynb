{
 "cells": [
  {
   "cell_type": "markdown",
   "metadata": {},
   "source": [
    "### Author : BlackViper(Harshit Saxena)\n",
    "#### Created at 16:14:20 26-01-2018\n",
    "______"
   ]
  },
  {
   "cell_type": "code",
   "execution_count": 10,
   "metadata": {},
   "outputs": [],
   "source": [
    "# Loading packages\n",
    "import os\n",
    "import pandas as pd\n",
    "import numpy as np\n",
    "import datetime\n",
    "from dateutil import parser\n",
    "import dateutil\n",
    "from sklearn.cross_validation import train_test_split\n",
    "from sklearn.ensemble import RandomForestRegressor\n",
    "import xgboost as xgb\n",
    "import pylab\n",
    "from scipy.sparse import csr_matrix\n",
    "import os.path as op\n",
    "import nimfa as nf"
   ]
  },
  {
   "cell_type": "code",
   "execution_count": 11,
   "metadata": {},
   "outputs": [],
   "source": [
    "def importData(dataDir='/home/harshit/Desktop/Analytics/Dota'):\n",
    "    \n",
    "    Data = pd.read_csv(dataDir+\"/preprocessedtrain.csv\")\n",
    "    testdata = pd.read_csv(dataDir+\"/preprocessedtest.csv\")\n",
    "    Data['id'] = Data['id'].astype(\"category\")            #converting into categorical variables\n",
    "    Data['user_id'] = Data['user_id'].astype(\"category\")\n",
    "    Data['hero_id'] = Data['hero_id'].astype(\"category\")\n",
    "    testdata['id'] = testdata['id'].astype(\"category\")            #converting into categorical variables\n",
    "    testdata['user_id'] = testdata['user_id'].astype(\"category\")\n",
    "    testdata['hero_id'] = testdata['hero_id'].astype(\"category\")\n",
    "    Data = Data.dropna(how='any')\n",
    "    return Data, testdata"
   ]
  },
  {
   "cell_type": "code",
   "execution_count": 12,
   "metadata": {},
   "outputs": [],
   "source": [
    "data, testdata = importData()"
   ]
  },
  {
   "cell_type": "code",
   "execution_count": 13,
   "metadata": {},
   "outputs": [
    {
     "data": {
      "text/plain": [
       "(29022, 40)"
      ]
     },
     "execution_count": 13,
     "metadata": {},
     "output_type": "execute_result"
    }
   ],
   "source": [
    "data.shape"
   ]
  },
  {
   "cell_type": "code",
   "execution_count": 14,
   "metadata": {},
   "outputs": [
    {
     "name": "stdout",
     "output_type": "stream",
     "text": [
      "Splitting data.\n"
     ]
    }
   ],
   "source": [
    "print('Splitting data.')    \n",
    "train,test = train_test_split(data,test_size=0.2,random_state=1)"
   ]
  },
  {
   "cell_type": "code",
   "execution_count": 15,
   "metadata": {
    "scrolled": true
   },
   "outputs": [
    {
     "data": {
      "text/plain": [
       "array([   1,    2,    3, ..., 2990, 2991, 2992])"
      ]
     },
     "execution_count": 15,
     "metadata": {},
     "output_type": "execute_result"
    }
   ],
   "source": [
    "np.unique(data.user_id)"
   ]
  },
  {
   "cell_type": "code",
   "execution_count": 19,
   "metadata": {},
   "outputs": [],
   "source": [
    "def RMSE(y_pred,y_true):\n",
    "    return np.sqrt(np.mean((y_true - y_pred)**2))\n",
    "\n",
    "def RMSE_matrix(prediction, test_mat):\n",
    "    mask = test_mat>0; mask[mask==True]=1; mask[mask==False]=0\n",
    "    prediction = np.multiply(prediction, mask)\n",
    "    return (np.sum((prediction - test_mat)**2)/np.sum(mask))**0.5"
   ]
  },
  {
   "cell_type": "code",
   "execution_count": 16,
   "metadata": {},
   "outputs": [],
   "source": [
    "def alspreprocess(ratingData, test, train):\n",
    "    n_u = len(ratingData['user_id'].cat.categories)\n",
    "    print n_u\n",
    "    n_m = len(ratingData['hero_id'].cat.categories)+5\n",
    "    print n_m\n",
    "    test_col = np.array(test['user_id'].values)-1\n",
    "    print test_col.max()\n",
    "    test_row = np.array(test['hero_id'].values)-1\n",
    "    print test_row.max()\n",
    "    test_dat = np.array(test['kda_ratio'].values)\n",
    "    train_col = np.array(train['user_id'].values)-1\n",
    "    print train_col.max()\n",
    "    train_row = np.array(train['hero_id'].values)-1\n",
    "    print train_row.max()\n",
    "    train_dat = np.array(train['kda_ratio'].values)\n",
    "    train_mat = (csr_matrix((train_dat, (train_row, train_col)), shape=(n_m, n_u)).toarray()).T\n",
    "    test_mat = (csr_matrix((test_dat, (test_row, test_col)), shape=(n_m, n_u)).toarray()).T\n",
    "    return test_mat, train_mat"
   ]
  },
  {
   "cell_type": "code",
   "execution_count": 17,
   "metadata": {},
   "outputs": [
    {
     "name": "stdout",
     "output_type": "stream",
     "text": [
      "2992\n",
      "120\n",
      "2991\n",
      "119\n",
      "2991\n",
      "119\n"
     ]
    }
   ],
   "source": [
    "test_mat, train_mat = alspreprocess(data, test, train)"
   ]
  },
  {
   "cell_type": "code",
   "execution_count": null,
   "metadata": {},
   "outputs": [],
   "source": [
    "als  = nf.Lsnmf(train_mat,seed=\"random_vcol\",rank=25,max_iter = 50, beta = 0.5)\n",
    "als_fit = als.factorize()\n",
    "        \n",
    "U = np.array(als_fit.basis())\n",
    "V = np.array(als_fit.coef())\n",
    "predictedMat = np.round(np.array(np.dot(U, V)),2)\n",
    "trainRMSE = RMSE_matrix(predictedMat,train_mat)\n",
    "testRMSE = RMSE_matrix(predictedMat,test_mat)\n",
    "print \"ALS\\nTrain RMSE : %f  Test RMSE : %f\"%(trainRMSE, testRMSE)"
   ]
  },
  {
   "cell_type": "code",
   "execution_count": 51,
   "metadata": {},
   "outputs": [],
   "source": [
    "# def als(matrix, n_factors=8,n_iterations=15, lambda_=10):\n",
    "# \t\"\"\"\n",
    "#      Carries out ALS decomposition of a given matrix and returns\n",
    "#      the predicted matrix and the decomposed matrices X and Y\n",
    "     \n",
    "#      INPUT\n",
    "#      matrix : Numpy matrix to be decomposed\n",
    "#      n_factors : Number of features for the decomposed matrices\n",
    "#      lambda : Regularization factor\n",
    "     \n",
    "#      OUTPUT\n",
    "#      prediction : ALS predicted matrix i.e product of X.T and Y\n",
    "#      X,Y : Decomposed matrices computed by ALS\n",
    " \n",
    "#      \"\"\"\n",
    "# \tm, n = matrix.shape\n",
    "# \tQ = matrix\n",
    "# \tW = Q > 0.5\n",
    "# \tW = W.astype(int)\n",
    "# \tprint('X and Y randomly initialzied.')\n",
    "# \tX = 5 * np.random.rand(m, n_factors) \n",
    "# \tY = 5 * np.random.rand(n_factors, n)\n",
    "# \tfor ii in range(n_iterations):\n",
    "# \t\tfor u, Wu in enumerate(W):\n",
    "# \t\t\tX[u] = np.linalg.solve(np.dot(Y, np.dot(np.diag(Wu), Y.T)) + lambda_ * np.eye(n_factors),\n",
    "# \t                                np.dot(Y, np.dot(np.diag(Wu), Q[u].T))).T\n",
    "# \t\tfor i, Wi in enumerate(W.T):\n",
    "# \t\t\tY[:,i] = np.linalg.solve(np.dot(X.T, np.dot(np.diag(Wi), X)) + lambda_ * np.eye(n_factors),\n",
    "# \t                                np.dot(X.T, np.dot(np.diag(Wi), Q[:, i])))\n",
    "# \t\tprint('{}th iteration is completed of {}'.format(ii + 1,n_iterations))\n",
    "# \tprediction = np.dot(X,Y)\n",
    "# \tprint('Done.')\n",
    "# \treturn prediction, X, Y\n"
   ]
  },
  {
   "cell_type": "code",
   "execution_count": 22,
   "metadata": {},
   "outputs": [
    {
     "data": {
      "text/plain": [
       "Index([u'id', u'hero_id', u'user_id', u'num_games', u'num_wins', u'kda_ratio',\n",
       "       u'seqno', u'primary_attr_agi', u'primary_attr_int', u'primary_attr_str',\n",
       "       u'attack_type_Melee', u'attack_type_Ranged', u'base_health',\n",
       "       u'base_health_regen', u'base_mana', u'base_mana_regen', u'base_armor',\n",
       "       u'base_magic_resistance', u'base_attack_min', u'base_attack_max',\n",
       "       u'base_strength', u'base_agility', u'base_intelligence',\n",
       "       u'strength_gain', u'agility_gain', u'intelligence_gain',\n",
       "       u'attack_range', u'projectile_speed', u'attack_rate', u'move_speed',\n",
       "       u'turn_rate', u'role_Carry', u'role_Nuker', u'role_Disabler',\n",
       "       u'role_Escape', u'role_Pusher', u'role_Initiator', u'role_Jungler',\n",
       "       u'role_Durable', u'role_Support'],\n",
       "      dtype='object')"
      ]
     },
     "execution_count": 22,
     "metadata": {},
     "output_type": "execute_result"
    }
   ],
   "source": [
    "data.columns"
   ]
  },
  {
   "cell_type": "code",
   "execution_count": 63,
   "metadata": {},
   "outputs": [],
   "source": [
    "features = [ u'num_games', u'primary_attr_agi', u'primary_attr_int', u'primary_attr_str',\n",
    "       u'attack_type_Melee', u'attack_type_Ranged', u'base_health',\n",
    "       u'base_health_regen', u'base_mana', u'base_mana_regen', u'base_armor',\n",
    "       u'base_magic_resistance', u'base_attack_min', u'base_attack_max',\n",
    "       u'base_strength', u'base_agility', u'base_intelligence',\n",
    "       u'strength_gain', u'agility_gain', u'intelligence_gain',\n",
    "       u'attack_range', u'projectile_speed', u'attack_rate', u'move_speed',\n",
    "       u'turn_rate', u'role_Carry', u'role_Nuker', u'role_Disabler',\n",
    "       u'role_Escape', u'role_Pusher', u'role_Initiator', u'role_Jungler',\n",
    "       u'role_Durable', u'role_Support']"
   ]
  },
  {
   "cell_type": "code",
   "execution_count": 64,
   "metadata": {},
   "outputs": [],
   "source": [
    "def alspostprocess(data, prediction, features, user_features, movie_features, n_features=60):\n",
    "    \"\"\"\n",
    "    Adds ALS values obtained from ALS decomposition of ratings matrix as\n",
    "    feature to dataFrame.\n",
    "    Also adds movie and user features obtained ALS decomposition to \n",
    "    corresponding samples\n",
    "    INPUT     \n",
    "    data : DataFrame to which ALS, user_features and movie_features \n",
    "           are to be added.\n",
    "           \n",
    "    prediction : Numpy array containing ALS prediction\n",
    "    \n",
    "    user_features : ALS user features\n",
    "    \n",
    "    movie_features : ALS movie features\n",
    "    \n",
    "    n_features : Number of user_features and movie_features to be added to the DataFrame\n",
    "    \n",
    "    OUTPUT\n",
    "    data : DataFrame with ALS, user_features and movie_features added\n",
    "    \n",
    "    features : List of feature names to be used for further modelling\n",
    "    \"\"\"\n",
    "    \n",
    "\n",
    "    data['ALS'] = prediction[data.loc[:, 'user_id'].astype(int)-1, data.loc[:, 'hero_id'].astype(int)-1]\n",
    "    features.append('ALS')\n",
    "    \n",
    "    total_features = len(movie_features)\n",
    "    if n_features>total_features:\n",
    "        n_features = total_features\n",
    "        \n",
    "    for i in range(n_features):\n",
    "        data[\"UserFeature{}\".format(i)] = user_features[data.loc[:, 'user_id'].astype(int)-1, i]\n",
    "        features.append(\"UserFeature{}\".format(i))\n",
    "        data[\"MovieFeature{}\".format(i)] = movie_features[i, data.loc[:, 'hero_id'].astype(int)-1]\n",
    "        features.append(\"MovieFeature{}\".format(i))\n",
    "    return data, features"
   ]
  },
  {
   "cell_type": "code",
   "execution_count": 65,
   "metadata": {},
   "outputs": [],
   "source": [
    "finaldata, feature = alspostprocess(data, predictedMat,features=features, user_features=U, movie_features=V)"
   ]
  },
  {
   "cell_type": "code",
   "execution_count": 76,
   "metadata": {},
   "outputs": [],
   "source": [
    "finaltest, feature_test = alspostprocess(testdata, predictedMat,features=features, user_features=U, movie_features=V)"
   ]
  },
  {
   "cell_type": "code",
   "execution_count": 82,
   "metadata": {},
   "outputs": [],
   "source": [
    "ydata = data.pop('kda_ratio')"
   ]
  },
  {
   "cell_type": "code",
   "execution_count": 66,
   "metadata": {},
   "outputs": [],
   "source": [
    "train,test = train_test_split(finaldata,test_size=0.2,random_state=1)\n",
    "ytrain = train.pop('kda_ratio')\n",
    "ytest = test.pop('kda_ratio')"
   ]
  },
  {
   "cell_type": "code",
   "execution_count": 67,
   "metadata": {},
   "outputs": [
    {
     "data": {
      "text/plain": [
       "(23217, 90)"
      ]
     },
     "execution_count": 67,
     "metadata": {},
     "output_type": "execute_result"
    }
   ],
   "source": [
    "train.shape"
   ]
  },
  {
   "cell_type": "code",
   "execution_count": 75,
   "metadata": {},
   "outputs": [
    {
     "name": "stdout",
     "output_type": "stream",
     "text": [
      "Training Random Forest.\n",
      "Train RMSE : 437.246827  Test RMSE : 729.503177\n"
     ]
    }
   ],
   "source": [
    "print('Training Random Forest.')\n",
    "model = RandomForestRegressor(250,max_depth=15, oob_score=True,random_state=42, n_jobs=-1)\n",
    "model.fit(train[feature],ytrain)\n",
    "\n",
    "trainRMSE = RMSE(ytrain,model.predict(train[feature]))\n",
    "testRMSE = RMSE(ytest,model.predict(test[feature]))\n",
    "print \"Train RMSE : %f  Test RMSE : %f\"%(trainRMSE, testRMSE)"
   ]
  },
  {
   "cell_type": "code",
   "execution_count": 83,
   "metadata": {},
   "outputs": [
    {
     "name": "stdout",
     "output_type": "stream",
     "text": [
      "Training Random Forest.\n"
     ]
    },
    {
     "data": {
      "text/plain": [
       "RandomForestRegressor(bootstrap=True, criterion='mse', max_depth=15,\n",
       "           max_features='auto', max_leaf_nodes=None,\n",
       "           min_impurity_decrease=0.0, min_impurity_split=None,\n",
       "           min_samples_leaf=1, min_samples_split=2,\n",
       "           min_weight_fraction_leaf=0.0, n_estimators=250, n_jobs=-1,\n",
       "           oob_score=True, random_state=42, verbose=0, warm_start=False)"
      ]
     },
     "execution_count": 83,
     "metadata": {},
     "output_type": "execute_result"
    }
   ],
   "source": [
    "print('Training Random Forest.')\n",
    "model = RandomForestRegressor(250,max_depth=15, oob_score=True,random_state=42, n_jobs=-1)\n",
    "model.fit(data[feature],ydata)\n",
    "print(' Predicting and submission.')\n",
    "finaltest['predict_kda'] = model.predict(finaltest[feature])\n",
    "submit = pd.DataFrame(data=finaltest.id, columns=['id'])\n",
    "submit['kda_ratio'] = finaltest['predict_kda']\n",
    "submit.to_csv('submit_rf_250_15.csv', index=False)"
   ]
  }
 ],
 "metadata": {
  "kernelspec": {
   "display_name": "Python 2",
   "language": "python",
   "name": "python2"
  },
  "language_info": {
   "codemirror_mode": {
    "name": "ipython",
    "version": 2
   },
   "file_extension": ".py",
   "mimetype": "text/x-python",
   "name": "python",
   "nbconvert_exporter": "python",
   "pygments_lexer": "ipython2",
   "version": "2.7.12"
  }
 },
 "nbformat": 4,
 "nbformat_minor": 2
}
