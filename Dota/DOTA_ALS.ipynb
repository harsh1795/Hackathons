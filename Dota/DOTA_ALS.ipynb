{
 "cells": [
  {
   "cell_type": "markdown",
   "metadata": {},
   "source": [
    "### Author : BlackViper(Harshit Saxena)\n",
    "#### Created at 16:14:20 26-01-2018\n",
    "______"
   ]
  },
  {
   "cell_type": "code",
   "execution_count": 2,
   "metadata": {},
   "outputs": [],
   "source": [
    "# Loading packages\n",
    "import os\n",
    "import pandas as pd\n",
    "import numpy as np\n",
    "import datetime\n",
    "from dateutil import parser\n",
    "import dateutil\n",
    "from sklearn.cross_validation import train_test_split\n",
    "from sklearn.ensemble import RandomForestRegressor\n",
    "from sklearn.grid_search import GridSearchCV,RandomizedSearchCV\n",
    "import xgboost as xgb\n",
    "import pylab\n",
    "from scipy.sparse import csr_matrix\n",
    "import os.path as op\n",
    "import nimfa as nf\n",
    "import matplotlib.pyplot as plt\n",
    "from sklearn.decomposition import PCA"
   ]
  },
  {
   "cell_type": "code",
   "execution_count": 3,
   "metadata": {},
   "outputs": [],
   "source": [
    "def importData(dataDir='/home/harshit/Desktop/Analytics/Dota'):\n",
    "    \n",
    "    Data = pd.read_csv(dataDir+\"/preprocessedtrain4.csv\")\n",
    "    testdata = pd.read_csv(dataDir+\"/preprocessedtest4.csv\")\n",
    "    Data['id'] = Data['id'].astype(\"category\")            #converting into categorical variables\n",
    "    Data['user_id'] = Data['user_id'].astype(\"category\")\n",
    "    Data['hero_id'] = Data['hero_id'].astype(\"category\")\n",
    "    testdata['id'] = testdata['id'].astype(\"category\")            #converting into categorical variables\n",
    "    testdata['user_id'] = testdata['user_id'].astype(\"category\")\n",
    "    testdata['hero_id'] = testdata['hero_id'].astype(\"category\")\n",
    "    Data = Data.dropna(how='any')\n",
    "    return Data, testdata"
   ]
  },
  {
   "cell_type": "code",
   "execution_count": 4,
   "metadata": {},
   "outputs": [],
   "source": [
    "lessuserid = pd.read_csv('/home/harshit/Desktop/Analytics/Dota/overfitting.csv')"
   ]
  },
  {
   "cell_type": "code",
   "execution_count": 5,
   "metadata": {},
   "outputs": [],
   "source": [
    "lessuserid.columns = ['user_id']\n",
    "lessuserid['user_id'] = lessuserid['user_id'].astype(\"category\")\n",
    "ll = lessuserid.user_id.values"
   ]
  },
  {
   "cell_type": "code",
   "execution_count": null,
   "metadata": {},
   "outputs": [],
   "source": []
  },
  {
   "cell_type": "code",
   "execution_count": 6,
   "metadata": {},
   "outputs": [],
   "source": [
    "data, testdata = importData()"
   ]
  },
  {
   "cell_type": "code",
   "execution_count": 7,
   "metadata": {},
   "outputs": [
    {
     "data": {
      "text/html": [
       "<div>\n",
       "<style scoped>\n",
       "    .dataframe tbody tr th:only-of-type {\n",
       "        vertical-align: middle;\n",
       "    }\n",
       "\n",
       "    .dataframe tbody tr th {\n",
       "        vertical-align: top;\n",
       "    }\n",
       "\n",
       "    .dataframe thead th {\n",
       "        text-align: right;\n",
       "    }\n",
       "</style>\n",
       "<table border=\"1\" class=\"dataframe\">\n",
       "  <thead>\n",
       "    <tr style=\"text-align: right;\">\n",
       "      <th></th>\n",
       "      <th>hero_id</th>\n",
       "      <th>user_id</th>\n",
       "      <th>id</th>\n",
       "      <th>num_games</th>\n",
       "      <th>num_wins</th>\n",
       "      <th>kda_ratio</th>\n",
       "      <th>seqno</th>\n",
       "      <th>primary_attr_agi</th>\n",
       "      <th>primary_attr_int</th>\n",
       "      <th>primary_attr_str</th>\n",
       "      <th>...</th>\n",
       "      <th>role_Durable</th>\n",
       "      <th>role_Support</th>\n",
       "      <th>modeseq</th>\n",
       "      <th>meanseq</th>\n",
       "      <th>meankda10_hero</th>\n",
       "      <th>meankda_hero</th>\n",
       "      <th>winavg_hero</th>\n",
       "      <th>meankda_usr</th>\n",
       "      <th>winavg_usr</th>\n",
       "      <th>cluster_hero</th>\n",
       "    </tr>\n",
       "  </thead>\n",
       "  <tbody>\n",
       "    <tr>\n",
       "      <th>0</th>\n",
       "      <td>74</td>\n",
       "      <td>1</td>\n",
       "      <td>1_74</td>\n",
       "      <td>304</td>\n",
       "      <td>185</td>\n",
       "      <td>3743.699732</td>\n",
       "      <td>1</td>\n",
       "      <td>0</td>\n",
       "      <td>1</td>\n",
       "      <td>0</td>\n",
       "      <td>...</td>\n",
       "      <td>0</td>\n",
       "      <td>0</td>\n",
       "      <td>1</td>\n",
       "      <td>4.740152</td>\n",
       "      <td>3673.086026</td>\n",
       "      <td>3880.256807</td>\n",
       "      <td>175.644645</td>\n",
       "      <td>3844.926356</td>\n",
       "      <td>111.700000</td>\n",
       "      <td>1</td>\n",
       "    </tr>\n",
       "    <tr>\n",
       "      <th>1</th>\n",
       "      <td>74</td>\n",
       "      <td>1796</td>\n",
       "      <td>1796_74</td>\n",
       "      <td>385</td>\n",
       "      <td>220</td>\n",
       "      <td>3765.292842</td>\n",
       "      <td>1</td>\n",
       "      <td>0</td>\n",
       "      <td>1</td>\n",
       "      <td>0</td>\n",
       "      <td>...</td>\n",
       "      <td>0</td>\n",
       "      <td>0</td>\n",
       "      <td>1</td>\n",
       "      <td>4.740152</td>\n",
       "      <td>3673.086026</td>\n",
       "      <td>3880.256807</td>\n",
       "      <td>175.644645</td>\n",
       "      <td>3292.245658</td>\n",
       "      <td>111.009185</td>\n",
       "      <td>1</td>\n",
       "    </tr>\n",
       "    <tr>\n",
       "      <th>2</th>\n",
       "      <td>74</td>\n",
       "      <td>940</td>\n",
       "      <td>940_74</td>\n",
       "      <td>48</td>\n",
       "      <td>30</td>\n",
       "      <td>2985.074627</td>\n",
       "      <td>6</td>\n",
       "      <td>0</td>\n",
       "      <td>1</td>\n",
       "      <td>0</td>\n",
       "      <td>...</td>\n",
       "      <td>0</td>\n",
       "      <td>0</td>\n",
       "      <td>1</td>\n",
       "      <td>4.740152</td>\n",
       "      <td>3673.086026</td>\n",
       "      <td>3880.256807</td>\n",
       "      <td>175.644645</td>\n",
       "      <td>3020.996520</td>\n",
       "      <td>32.400000</td>\n",
       "      <td>1</td>\n",
       "    </tr>\n",
       "    <tr>\n",
       "      <th>3</th>\n",
       "      <td>74</td>\n",
       "      <td>1862</td>\n",
       "      <td>1862_74</td>\n",
       "      <td>339</td>\n",
       "      <td>221</td>\n",
       "      <td>4471.565174</td>\n",
       "      <td>1</td>\n",
       "      <td>0</td>\n",
       "      <td>1</td>\n",
       "      <td>0</td>\n",
       "      <td>...</td>\n",
       "      <td>0</td>\n",
       "      <td>0</td>\n",
       "      <td>1</td>\n",
       "      <td>4.740152</td>\n",
       "      <td>3673.086026</td>\n",
       "      <td>3880.256807</td>\n",
       "      <td>175.644645</td>\n",
       "      <td>4249.237433</td>\n",
       "      <td>88.500000</td>\n",
       "      <td>1</td>\n",
       "    </tr>\n",
       "    <tr>\n",
       "      <th>4</th>\n",
       "      <td>74</td>\n",
       "      <td>2550</td>\n",
       "      <td>2550_74</td>\n",
       "      <td>180</td>\n",
       "      <td>113</td>\n",
       "      <td>4045.112782</td>\n",
       "      <td>9</td>\n",
       "      <td>0</td>\n",
       "      <td>1</td>\n",
       "      <td>0</td>\n",
       "      <td>...</td>\n",
       "      <td>0</td>\n",
       "      <td>0</td>\n",
       "      <td>1</td>\n",
       "      <td>4.740152</td>\n",
       "      <td>3673.086026</td>\n",
       "      <td>3880.256807</td>\n",
       "      <td>175.644645</td>\n",
       "      <td>3680.931263</td>\n",
       "      <td>66.195842</td>\n",
       "      <td>1</td>\n",
       "    </tr>\n",
       "  </tbody>\n",
       "</table>\n",
       "<p>5 rows × 45 columns</p>\n",
       "</div>"
      ],
      "text/plain": [
       "  hero_id user_id       id  num_games  num_wins    kda_ratio  seqno  \\\n",
       "0      74       1     1_74        304       185  3743.699732      1   \n",
       "1      74    1796  1796_74        385       220  3765.292842      1   \n",
       "2      74     940   940_74         48        30  2985.074627      6   \n",
       "3      74    1862  1862_74        339       221  4471.565174      1   \n",
       "4      74    2550  2550_74        180       113  4045.112782      9   \n",
       "\n",
       "   primary_attr_agi  primary_attr_int  primary_attr_str      ...       \\\n",
       "0                 0                 1                 0      ...        \n",
       "1                 0                 1                 0      ...        \n",
       "2                 0                 1                 0      ...        \n",
       "3                 0                 1                 0      ...        \n",
       "4                 0                 1                 0      ...        \n",
       "\n",
       "   role_Durable  role_Support  modeseq   meanseq  meankda10_hero  \\\n",
       "0             0             0        1  4.740152     3673.086026   \n",
       "1             0             0        1  4.740152     3673.086026   \n",
       "2             0             0        1  4.740152     3673.086026   \n",
       "3             0             0        1  4.740152     3673.086026   \n",
       "4             0             0        1  4.740152     3673.086026   \n",
       "\n",
       "   meankda_hero  winavg_hero  meankda_usr  winavg_usr  cluster_hero  \n",
       "0   3880.256807   175.644645  3844.926356  111.700000             1  \n",
       "1   3880.256807   175.644645  3292.245658  111.009185             1  \n",
       "2   3880.256807   175.644645  3020.996520   32.400000             1  \n",
       "3   3880.256807   175.644645  4249.237433   88.500000             1  \n",
       "4   3880.256807   175.644645  3680.931263   66.195842             1  \n",
       "\n",
       "[5 rows x 45 columns]"
      ]
     },
     "execution_count": 7,
     "metadata": {},
     "output_type": "execute_result"
    }
   ],
   "source": [
    "data.head()"
   ]
  },
  {
   "cell_type": "code",
   "execution_count": 8,
   "metadata": {},
   "outputs": [],
   "source": [
    "## Data Preprocessing...\n"
   ]
  },
  {
   "cell_type": "code",
   "execution_count": null,
   "metadata": {},
   "outputs": [],
   "source": []
  },
  {
   "cell_type": "code",
   "execution_count": 9,
   "metadata": {},
   "outputs": [],
   "source": [
    "data_10 = data[data.seqno == 10]\n",
    "data_no10 = data[data.seqno != 10]"
   ]
  },
  {
   "cell_type": "code",
   "execution_count": 10,
   "metadata": {},
   "outputs": [
    {
     "name": "stdout",
     "output_type": "stream",
     "text": [
      "Splitting data.\n"
     ]
    }
   ],
   "source": [
    "print('Splitting data.')    \n",
    "train,test = train_test_split(data_10,test_size=0.8,random_state=1)\n",
    "train = pd.concat([train,data_no10], axis = 0)"
   ]
  },
  {
   "cell_type": "code",
   "execution_count": 11,
   "metadata": {},
   "outputs": [
    {
     "name": "stdout",
     "output_type": "stream",
     "text": [
      "(27339, 45)\n",
      "(1676, 45)\n"
     ]
    }
   ],
   "source": [
    "print(train.shape)\n",
    "print(test.shape)"
   ]
  },
  {
   "cell_type": "code",
   "execution_count": 12,
   "metadata": {},
   "outputs": [],
   "source": [
    "def RMSE(y_pred,y_true):\n",
    "    return np.sqrt(np.mean((y_true - y_pred)**2))\n",
    "\n",
    "def RMSE_matrix(prediction, test_mat):\n",
    "    mask = test_mat>0; mask[mask==True]=1; mask[mask==False]=0\n",
    "    prediction = np.multiply(prediction, mask)\n",
    "    return (np.sum((prediction - test_mat)**2)/np.sum(mask))**0.5"
   ]
  },
  {
   "cell_type": "code",
   "execution_count": 13,
   "metadata": {},
   "outputs": [],
   "source": [
    "def alspreprocess(ratingData, test, train):\n",
    "    n_u = len(ratingData['user_id'].cat.categories)\n",
    "    print n_u\n",
    "    n_m = len(ratingData['hero_id'].cat.categories)+5\n",
    "    print n_m\n",
    "    test_col = np.array(test['user_id'].values)-1\n",
    "    print test_col.max()\n",
    "    test_row = np.array(test['hero_id'].values)-1\n",
    "    print test_row.max()\n",
    "    test_dat = np.array(test['kda_ratio'].values)\n",
    "    train_col = np.array(train['user_id'].values)-1\n",
    "    print train_col.max()\n",
    "    train_row = np.array(train['hero_id'].values)-1\n",
    "    print train_row.max()\n",
    "    train_dat = np.array(train['kda_ratio'].values)\n",
    "    train_mat = (csr_matrix((train_dat, (train_row, train_col)), shape=(n_m, n_u)).toarray()).T\n",
    "    test_mat = (csr_matrix((test_dat, (test_row, test_col)), shape=(n_m, n_u)).toarray()).T\n",
    "    return test_mat, train_mat"
   ]
  },
  {
   "cell_type": "code",
   "execution_count": 14,
   "metadata": {},
   "outputs": [
    {
     "name": "stdout",
     "output_type": "stream",
     "text": [
      "2992\n",
      "120\n",
      "2991\n",
      "119\n",
      "2991\n",
      "119\n"
     ]
    }
   ],
   "source": [
    "test_mat, train_mat = alspreprocess(data, test, train)"
   ]
  },
  {
   "cell_type": "code",
   "execution_count": 47,
   "metadata": {},
   "outputs": [
    {
     "name": "stdout",
     "output_type": "stream",
     "text": [
      "ALS\n",
      "Train RMSE : 2669.151408  Test RMSE : 2621.447594\n"
     ]
    }
   ],
   "source": [
    "als  = nf.Lsnmf(train_mat,seed=\"random_vcol\",rank=300,max_iter = 50, beta = 0.5)\n",
    "als_fit = als.factorize()\n",
    "        \n",
    "U = np.array(als_fit.basis())\n",
    "V = np.array(als_fit.coef())\n",
    "predictedMat = np.round(np.array(np.dot(U, V)),2)\n",
    "trainRMSE = RMSE_matrix(predictedMat,train_mat)\n",
    "testRMSE = RMSE_matrix(predictedMat,test_mat)\n",
    "print \"ALS\\nTrain RMSE : %f  Test RMSE : %f\"%(trainRMSE, testRMSE)"
   ]
  },
  {
   "cell_type": "code",
   "execution_count": 16,
   "metadata": {},
   "outputs": [
    {
     "name": "stdout",
     "output_type": "stream",
     "text": [
      "ALS for 100ank and 0.100000 beta\n",
      "Train RMSE : 3135.381397  Test RMSE : 3098.429894\n",
      "ALS for 100ank and 0.300000 beta\n",
      "Train RMSE : 3064.939255  Test RMSE : 3028.115669\n",
      "ALS for 100ank and 0.500000 beta\n",
      "Train RMSE : 2956.284784  Test RMSE : 2919.099541\n",
      "ALS for 100ank and 0.700000 beta\n",
      "Train RMSE : 3137.272917  Test RMSE : 3103.038533\n",
      "ALS for 100ank and 0.900000 beta\n",
      "Train RMSE : 3750.431424  Test RMSE : 3700.287844\n",
      "ALS for 150ank and 0.100000 beta\n",
      "Train RMSE : 3187.719042  Test RMSE : 3150.283360\n",
      "ALS for 150ank and 0.300000 beta\n",
      "Train RMSE : 2798.883180  Test RMSE : 2758.170128\n",
      "ALS for 150ank and 0.500000 beta\n",
      "Train RMSE : 2863.015015  Test RMSE : 2825.604454\n",
      "ALS for 150ank and 0.700000 beta\n",
      "Train RMSE : 3218.963065  Test RMSE : 3184.296749\n",
      "ALS for 150ank and 0.900000 beta\n",
      "Train RMSE : 3750.431424  Test RMSE : 3700.287844\n",
      "ALS for 200ank and 0.100000 beta\n",
      "Train RMSE : 3194.847717  Test RMSE : 3157.556846\n",
      "ALS for 200ank and 0.300000 beta\n",
      "Train RMSE : 2720.439346  Test RMSE : 2678.262761\n",
      "ALS for 200ank and 0.500000 beta\n",
      "Train RMSE : 2950.044435  Test RMSE : 2913.060031\n",
      "ALS for 200ank and 0.700000 beta\n",
      "Train RMSE : 3287.818383  Test RMSE : 3250.744416\n"
     ]
    },
    {
     "ename": "KeyboardInterrupt",
     "evalue": "",
     "output_type": "error",
     "traceback": [
      "\u001b[0;31m---------------------------------------------------------------------------\u001b[0m",
      "\u001b[0;31mKeyboardInterrupt\u001b[0m                         Traceback (most recent call last)",
      "\u001b[0;32m<ipython-input-16-e77a03d6fec8>\u001b[0m in \u001b[0;36m<module>\u001b[0;34m()\u001b[0m\n\u001b[1;32m      4\u001b[0m     \u001b[0;32mfor\u001b[0m \u001b[0mj\u001b[0m \u001b[0;32min\u001b[0m \u001b[0mbetalist\u001b[0m\u001b[0;34m:\u001b[0m\u001b[0;34m\u001b[0m\u001b[0m\n\u001b[1;32m      5\u001b[0m         \u001b[0mals\u001b[0m  \u001b[0;34m=\u001b[0m \u001b[0mnf\u001b[0m\u001b[0;34m.\u001b[0m\u001b[0mLsnmf\u001b[0m\u001b[0;34m(\u001b[0m\u001b[0mtrain_mat\u001b[0m\u001b[0;34m,\u001b[0m\u001b[0mseed\u001b[0m\u001b[0;34m=\u001b[0m\u001b[0;34m\"random_vcol\"\u001b[0m\u001b[0;34m,\u001b[0m\u001b[0mrank\u001b[0m\u001b[0;34m=\u001b[0m\u001b[0mi\u001b[0m\u001b[0;34m,\u001b[0m\u001b[0mmax_iter\u001b[0m \u001b[0;34m=\u001b[0m \u001b[0;36m50\u001b[0m\u001b[0;34m,\u001b[0m \u001b[0mbeta\u001b[0m \u001b[0;34m=\u001b[0m \u001b[0mj\u001b[0m\u001b[0;34m)\u001b[0m\u001b[0;34m\u001b[0m\u001b[0m\n\u001b[0;32m----> 6\u001b[0;31m         \u001b[0mals_fit\u001b[0m \u001b[0;34m=\u001b[0m \u001b[0mals\u001b[0m\u001b[0;34m.\u001b[0m\u001b[0mfactorize\u001b[0m\u001b[0;34m(\u001b[0m\u001b[0;34m)\u001b[0m\u001b[0;34m\u001b[0m\u001b[0m\n\u001b[0m\u001b[1;32m      7\u001b[0m \u001b[0;34m\u001b[0m\u001b[0m\n\u001b[1;32m      8\u001b[0m         \u001b[0mU\u001b[0m \u001b[0;34m=\u001b[0m \u001b[0mnp\u001b[0m\u001b[0;34m.\u001b[0m\u001b[0marray\u001b[0m\u001b[0;34m(\u001b[0m\u001b[0mals_fit\u001b[0m\u001b[0;34m.\u001b[0m\u001b[0mbasis\u001b[0m\u001b[0;34m(\u001b[0m\u001b[0;34m)\u001b[0m\u001b[0;34m)\u001b[0m\u001b[0;34m\u001b[0m\u001b[0m\n",
      "\u001b[0;32m/home/harshit/.virtualenvs/cv/local/lib/python2.7/site-packages/nimfa/methods/factorization/lsnmf.pyc\u001b[0m in \u001b[0;36mfactorize\u001b[0;34m(self)\u001b[0m\n\u001b[1;32m    177\u001b[0m                 \u001b[0mself\u001b[0m\u001b[0;34m.\u001b[0m\u001b[0mcallback_init\u001b[0m\u001b[0;34m(\u001b[0m\u001b[0mmffit\u001b[0m\u001b[0;34m)\u001b[0m\u001b[0;34m\u001b[0m\u001b[0m\n\u001b[1;32m    178\u001b[0m             \u001b[0;32mwhile\u001b[0m \u001b[0mself\u001b[0m\u001b[0;34m.\u001b[0m\u001b[0mis_satisfied\u001b[0m\u001b[0;34m(\u001b[0m\u001b[0mc_obj\u001b[0m\u001b[0;34m,\u001b[0m \u001b[0miter\u001b[0m\u001b[0;34m)\u001b[0m\u001b[0;34m:\u001b[0m\u001b[0;34m\u001b[0m\u001b[0m\n\u001b[0;32m--> 179\u001b[0;31m                 \u001b[0mself\u001b[0m\u001b[0;34m.\u001b[0m\u001b[0mupdate\u001b[0m\u001b[0;34m(\u001b[0m\u001b[0;34m)\u001b[0m\u001b[0;34m\u001b[0m\u001b[0m\n\u001b[0m\u001b[1;32m    180\u001b[0m                 \u001b[0miter\u001b[0m \u001b[0;34m+=\u001b[0m \u001b[0;36m1\u001b[0m\u001b[0;34m\u001b[0m\u001b[0m\n\u001b[1;32m    181\u001b[0m                 c_obj = self.objective(\n",
      "\u001b[0;32m/home/harshit/.virtualenvs/cv/local/lib/python2.7/site-packages/nimfa/methods/factorization/lsnmf.pyc\u001b[0m in \u001b[0;36mupdate\u001b[0;34m(self)\u001b[0m\n\u001b[1;32m    228\u001b[0m         \u001b[0;34m\"\"\"Update basis and mixture matrix.\"\"\"\u001b[0m\u001b[0;34m\u001b[0m\u001b[0m\n\u001b[1;32m    229\u001b[0m         self.W, self.gW, self.iterW = self._subproblem(\n\u001b[0;32m--> 230\u001b[0;31m             self.V.T, self.H.T, self.W.T, self.epsW)\n\u001b[0m\u001b[1;32m    231\u001b[0m         \u001b[0mself\u001b[0m\u001b[0;34m.\u001b[0m\u001b[0mW\u001b[0m \u001b[0;34m=\u001b[0m \u001b[0mself\u001b[0m\u001b[0;34m.\u001b[0m\u001b[0mW\u001b[0m\u001b[0;34m.\u001b[0m\u001b[0mT\u001b[0m\u001b[0;34m\u001b[0m\u001b[0m\n\u001b[1;32m    232\u001b[0m         \u001b[0mself\u001b[0m\u001b[0;34m.\u001b[0m\u001b[0mgW\u001b[0m \u001b[0;34m=\u001b[0m \u001b[0mself\u001b[0m\u001b[0;34m.\u001b[0m\u001b[0mgW\u001b[0m\u001b[0;34m.\u001b[0m\u001b[0mT\u001b[0m\u001b[0;34m\u001b[0m\u001b[0m\n",
      "\u001b[0;32m/home/harshit/.virtualenvs/cv/local/lib/python2.7/site-packages/nimfa/methods/factorization/lsnmf.pyc\u001b[0m in \u001b[0;36m_subproblem\u001b[0;34m(self, V, W, Hinit, epsH)\u001b[0m\n\u001b[1;32m    273\u001b[0m             \u001b[0;31m# search for step size alpha\u001b[0m\u001b[0;34m\u001b[0m\u001b[0;34m\u001b[0m\u001b[0m\n\u001b[1;32m    274\u001b[0m             \u001b[0;32mfor\u001b[0m \u001b[0mn_iter\u001b[0m \u001b[0;32min\u001b[0m \u001b[0mrange\u001b[0m\u001b[0;34m(\u001b[0m\u001b[0mself\u001b[0m\u001b[0;34m.\u001b[0m\u001b[0minner_sub_iter\u001b[0m\u001b[0;34m)\u001b[0m\u001b[0;34m:\u001b[0m\u001b[0;34m\u001b[0m\u001b[0m\n\u001b[0;32m--> 275\u001b[0;31m                 \u001b[0mHn\u001b[0m \u001b[0;34m=\u001b[0m \u001b[0mmax\u001b[0m\u001b[0;34m(\u001b[0m\u001b[0mH\u001b[0m \u001b[0;34m-\u001b[0m \u001b[0malpha\u001b[0m \u001b[0;34m*\u001b[0m \u001b[0mgrad\u001b[0m\u001b[0;34m,\u001b[0m \u001b[0;36m0\u001b[0m\u001b[0;34m)\u001b[0m\u001b[0;34m\u001b[0m\u001b[0m\n\u001b[0m\u001b[1;32m    276\u001b[0m                 \u001b[0md\u001b[0m \u001b[0;34m=\u001b[0m \u001b[0mHn\u001b[0m \u001b[0;34m-\u001b[0m \u001b[0mH\u001b[0m\u001b[0;34m\u001b[0m\u001b[0m\n\u001b[1;32m    277\u001b[0m                 \u001b[0mgradd\u001b[0m \u001b[0;34m=\u001b[0m \u001b[0mmultiply\u001b[0m\u001b[0;34m(\u001b[0m\u001b[0mgrad\u001b[0m\u001b[0;34m,\u001b[0m \u001b[0md\u001b[0m\u001b[0;34m)\u001b[0m\u001b[0;34m.\u001b[0m\u001b[0msum\u001b[0m\u001b[0;34m(\u001b[0m\u001b[0;34m)\u001b[0m\u001b[0;34m\u001b[0m\u001b[0m\n",
      "\u001b[0;31mKeyboardInterrupt\u001b[0m: "
     ]
    }
   ],
   "source": [
    "ranklist = [100,150,200,250,300,350,400,450,500]\n",
    "betalist = [0.1,0.3,0.5,0.7,0.9]\n",
    "for i in ranklist:\n",
    "    for j in betalist:\n",
    "        als  = nf.Lsnmf(train_mat,seed=\"random_vcol\",rank=i,max_iter = 50, beta = j)\n",
    "        als_fit = als.factorize()\n",
    "\n",
    "        U = np.array(als_fit.basis())\n",
    "        V = np.array(als_fit.coef())\n",
    "        predictedMat = np.round(np.array(np.dot(U, V)),2)\n",
    "        trainRMSE = RMSE_matrix(predictedMat,train_mat)\n",
    "        testRMSE = RMSE_matrix(predictedMat,test_mat)\n",
    "        print \"ALS for % rank and %f beta\\nTrain RMSE : %f  Test RMSE : %f\"%(i, j, trainRMSE, testRMSE)"
   ]
  },
  {
   "cell_type": "code",
   "execution_count": 48,
   "metadata": {},
   "outputs": [
    {
     "data": {
      "text/plain": [
       "Index([u'hero_id', u'user_id', u'id', u'num_games', u'num_wins', u'kda_ratio',\n",
       "       u'seqno', u'primary_attr_agi', u'primary_attr_int', u'primary_attr_str',\n",
       "       ...\n",
       "       u'UserFeature195', u'MovieFeature195', u'UserFeature196',\n",
       "       u'MovieFeature196', u'UserFeature197', u'MovieFeature197',\n",
       "       u'UserFeature198', u'MovieFeature198', u'UserFeature199',\n",
       "       u'MovieFeature199'],\n",
       "      dtype='object', length=446)"
      ]
     },
     "execution_count": 48,
     "metadata": {},
     "output_type": "execute_result"
    }
   ],
   "source": [
    "data.columns"
   ]
  },
  {
   "cell_type": "code",
   "execution_count": 49,
   "metadata": {},
   "outputs": [],
   "source": [
    "def alspostprocess(data, prediction, user_features, movie_features, n_features=6000):\n",
    "    features = [u'num_games', u'seqno', u'primary_attr_agi', u'primary_attr_int', u'primary_attr_str',\n",
    "       u'attack_type_Melee', u'base_health_regen', u'base_armor',\n",
    "       u'base_magic_resistance', u'base_attack_min', u'base_attack_max',\n",
    "       u'base_strength', u'base_agility', u'base_intelligence',\n",
    "       u'strength_gain', u'agility_gain', u'intelligence_gain',\n",
    "       u'attack_range', u'projectile_speed', u'attack_rate', u'move_speed',\n",
    "       u'turn_rate', u'role_Carry', u'role_Nuker', u'role_Disabler',\n",
    "       u'role_Escape', u'role_Pusher', u'role_Initiator', u'role_Jungler',\n",
    "       u'role_Durable', u'role_Support', u'meankda_hero', u'winavg_hero',\n",
    "       u'winavg_usr', u'meankda_usr', u'modeseq']\n",
    "    new_features = []\n",
    "\n",
    "    data['ALS'] = prediction[data.loc[:, 'user_id'].astype(int)-1, data.loc[:, 'hero_id'].astype(int)-1]\n",
    "    features.append('ALS')\n",
    "    \n",
    "    total_features = len(movie_features)\n",
    "    if n_features>total_features:\n",
    "        n_features = total_features\n",
    "        \n",
    "    for i in range(n_features):\n",
    "        data[\"UserFeature{}\".format(i)] = user_features[data.loc[:, 'user_id'].astype(int)-1, i]\n",
    "        #features.append(\"UserFeature{}\".format(i))\n",
    "        new_features.append(\"UserFeature{}\".format(i))\n",
    "        data[\"MovieFeature{}\".format(i)] = movie_features[i, data.loc[:, 'hero_id'].astype(int)-1]\n",
    "        #features.append(\"MovieFeature{}\".format(i))\n",
    "        new_features.append(\"MovieFeature{}\".format(i))\n",
    "    return data, features, new_features"
   ]
  },
  {
   "cell_type": "code",
   "execution_count": 50,
   "metadata": {},
   "outputs": [],
   "source": [
    "finaldata, feature, new_feature = alspostprocess(data, predictedMat, user_features=U, movie_features=V)"
   ]
  },
  {
   "cell_type": "code",
   "execution_count": 51,
   "metadata": {},
   "outputs": [],
   "source": [
    "finaltest, feature_test, new_feature= alspostprocess(testdata, predictedMat, user_features=U, movie_features=V)"
   ]
  },
  {
   "cell_type": "code",
   "execution_count": 52,
   "metadata": {},
   "outputs": [
    {
     "data": {
      "text/plain": [
       "[u'num_games',\n",
       " u'seqno',\n",
       " u'primary_attr_agi',\n",
       " u'primary_attr_int',\n",
       " u'primary_attr_str',\n",
       " u'attack_type_Melee',\n",
       " u'base_health_regen',\n",
       " u'base_armor',\n",
       " u'base_magic_resistance',\n",
       " u'base_attack_min',\n",
       " u'base_attack_max',\n",
       " u'base_strength',\n",
       " u'base_agility',\n",
       " u'base_intelligence',\n",
       " u'strength_gain',\n",
       " u'agility_gain',\n",
       " u'intelligence_gain',\n",
       " u'attack_range',\n",
       " u'projectile_speed',\n",
       " u'attack_rate',\n",
       " u'move_speed',\n",
       " u'turn_rate',\n",
       " u'role_Carry',\n",
       " u'role_Nuker',\n",
       " u'role_Disabler',\n",
       " u'role_Escape',\n",
       " u'role_Pusher',\n",
       " u'role_Initiator',\n",
       " u'role_Jungler',\n",
       " u'role_Durable',\n",
       " u'role_Support',\n",
       " u'meankda_hero',\n",
       " u'winavg_hero',\n",
       " u'winavg_usr',\n",
       " u'meankda_usr',\n",
       " u'modeseq',\n",
       " 'ALS']"
      ]
     },
     "execution_count": 52,
     "metadata": {},
     "output_type": "execute_result"
    }
   ],
   "source": [
    "feature"
   ]
  },
  {
   "cell_type": "code",
   "execution_count": 53,
   "metadata": {},
   "outputs": [],
   "source": [
    "## Principle Component Analysis\n",
    "datacombined = pd.concat([finaldata, finaltest], axis=0)\n",
    "pca=PCA(n_components=25)\n",
    "X_new=pca.fit_transform(datacombined[new_feature])"
   ]
  },
  {
   "cell_type": "code",
   "execution_count": 54,
   "metadata": {},
   "outputs": [
    {
     "data": {
      "text/plain": [
       "0.99885981808255697"
      ]
     },
     "execution_count": 54,
     "metadata": {},
     "output_type": "execute_result"
    }
   ],
   "source": [
    "explained_variance=pca.explained_variance_ratio_\n",
    "explained_variance.sum()"
   ]
  },
  {
   "cell_type": "code",
   "execution_count": 55,
   "metadata": {},
   "outputs": [],
   "source": [
    "##Pca features.\n",
    "datacombined['pca-1'] = X_new[:,0]\n",
    "datacombined['pca-2'] = X_new[:,1]\n",
    "datacombined['pca-3'] = X_new[:,2]\n",
    "datacombined['pca-4'] = X_new[:,3]\n",
    "datacombined['pca-5'] = X_new[:,4]\n",
    "datacombined['pca-6'] = X_new[:,5]\n",
    "datacombined['pca-7'] = X_new[:,6]\n",
    "datacombined['pca-8'] = X_new[:,7]\n",
    "datacombined['pca-9'] = X_new[:,8]\n",
    "datacombined['pca-10'] = X_new[:,9]\n",
    "datacombined['pca-11'] = X_new[:,10]\n",
    "datacombined['pca-12'] = X_new[:,11]\n",
    "datacombined['pca-13'] = X_new[:,12]\n",
    "datacombined['pca-14'] = X_new[:,13]\n",
    "datacombined['pca-15'] = X_new[:,14]\n",
    "datacombined['pca-16'] = X_new[:,15]\n",
    "datacombined['pca-17'] = X_new[:,16]\n",
    "datacombined['pca-18'] = X_new[:,17]\n",
    "datacombined['pca-19'] = X_new[:,18]\n",
    "datacombined['pca-20'] = X_new[:,19]\n",
    "datacombined['pca-21'] = X_new[:,20]\n",
    "datacombined['pca-22'] = X_new[:,21]\n",
    "datacombined['pca-23'] = X_new[:,22]\n",
    "datacombined['pca-24'] = X_new[:,23]\n",
    "datacombined['pca-25'] = X_new[:,24]"
   ]
  },
  {
   "cell_type": "code",
   "execution_count": 56,
   "metadata": {},
   "outputs": [
    {
     "data": {
      "text/plain": [
       "(29913, 671)"
      ]
     },
     "execution_count": 56,
     "metadata": {},
     "output_type": "execute_result"
    }
   ],
   "source": [
    "datacombined.shape"
   ]
  },
  {
   "cell_type": "code",
   "execution_count": 57,
   "metadata": {},
   "outputs": [],
   "source": [
    "finaldata_ = datacombined.iloc[0:29015,:]\n",
    "finaltest_ = datacombined.iloc[29015:29913,:]"
   ]
  },
  {
   "cell_type": "code",
   "execution_count": null,
   "metadata": {},
   "outputs": [],
   "source": []
  },
  {
   "cell_type": "code",
   "execution_count": 58,
   "metadata": {},
   "outputs": [],
   "source": [
    "## Overfitting...\n",
    "fg = pd.DataFrame.from_items([(name, pd.Series(data=None, dtype=series.dtype))\n",
    "                              for name, series in finaldata_.iteritems()])\n",
    "for i in ll:\n",
    "    fl = finaldata_[finaldata_.user_id == i]\n",
    "    fg = fg.append(fl)"
   ]
  },
  {
   "cell_type": "code",
   "execution_count": 59,
   "metadata": {},
   "outputs": [],
   "source": [
    "overfinaldata_ = finaldata_.append(fg)"
   ]
  },
  {
   "cell_type": "code",
   "execution_count": 60,
   "metadata": {},
   "outputs": [],
   "source": [
    "# overfinaldata_ = overfinaldata_.append(fg)"
   ]
  },
  {
   "cell_type": "code",
   "execution_count": 61,
   "metadata": {},
   "outputs": [
    {
     "data": {
      "text/plain": [
       "(40990, 671)"
      ]
     },
     "execution_count": 61,
     "metadata": {},
     "output_type": "execute_result"
    }
   ],
   "source": [
    "overfinaldata_.shape"
   ]
  },
  {
   "cell_type": "code",
   "execution_count": 62,
   "metadata": {},
   "outputs": [],
   "source": [
    "## If overfitting..\n",
    "finaldata_ = overfinaldata_"
   ]
  },
  {
   "cell_type": "code",
   "execution_count": 63,
   "metadata": {},
   "outputs": [],
   "source": [
    "finaldata_10 = finaldata_[finaldata_.seqno == 10]\n",
    "finaldata_not10 = finaldata_[finaldata_.seqno != 10]"
   ]
  },
  {
   "cell_type": "code",
   "execution_count": 64,
   "metadata": {},
   "outputs": [],
   "source": [
    "train,test = train_test_split(finaldata_10,test_size=0.2,random_state=1)\n",
    "train = pd.concat([train, finaldata_not10], axis=0)\n",
    "ytrain = train.pop('kda_ratio')\n",
    "ytest = test.pop('kda_ratio')"
   ]
  },
  {
   "cell_type": "code",
   "execution_count": 65,
   "metadata": {},
   "outputs": [
    {
     "data": {
      "text/plain": [
       "(659, 670)"
      ]
     },
     "execution_count": 65,
     "metadata": {},
     "output_type": "execute_result"
    }
   ],
   "source": [
    "test.shape"
   ]
  },
  {
   "cell_type": "code",
   "execution_count": 66,
   "metadata": {},
   "outputs": [],
   "source": [
    "feature.extend([u'pca-1', u'pca-2', u'pca-3', u'pca-4', u'pca-5', u'pca-6',u'pca-7', u'pca-8', u'pca-9', u'pca-10',\n",
    "              u'pca-11', u'pca-12', u'pca-13', u'pca-14', u'pca-15', u'pca-16',u'pca-17', u'pca-18', u'pca-19', u'pca-20',\n",
    "              u'pca-21', u'pca-22', u'pca-23', u'pca-24', u'pca-25'])"
   ]
  },
  {
   "cell_type": "code",
   "execution_count": 67,
   "metadata": {},
   "outputs": [
    {
     "name": "stdout",
     "output_type": "stream",
     "text": [
      "Training Random Forest.\n",
      "Train RMSE : 469.593638  Test RMSE : 514.667430\n"
     ]
    }
   ],
   "source": [
    "print('Training Random Forest.')\n",
    "model = RandomForestRegressor(200,max_depth=10, oob_score=True,random_state=42, n_jobs=-1)\n",
    "model.fit(train[feature],ytrain)\n",
    "\n",
    "trainRMSE = RMSE(ytrain,model.predict(train[feature]))\n",
    "testRMSE = RMSE(ytest,model.predict(test[feature]))\n",
    "print \"Train RMSE : %f  Test RMSE : %f\"%(trainRMSE, testRMSE)"
   ]
  },
  {
   "cell_type": "code",
   "execution_count": 68,
   "metadata": {},
   "outputs": [
    {
     "name": "stdout",
     "output_type": "stream",
     "text": [
      "Training XGBoost.\n",
      "Train RMSE : 471.822759  Test RMSE : 490.067648\n"
     ]
    },
    {
     "data": {
      "image/png": "[encoded data removed]",
      "text/plain": [
       "<matplotlib.figure.Figure at 0x7ff0995221d0>"
      ]
     },
     "metadata": {},
     "output_type": "display_data"
    }
   ],
   "source": [
    "#%%##### XGBoost ########################\n",
    "print('Training XGBoost.')\n",
    "model = xgb.XGBRegressor(max_depth=5,\n",
    "                         colsample_bylevel=1,\n",
    "                         objective=\"reg:linear\",\n",
    "                         learning_rate=0.1,\n",
    "                         colsample_bytree = 1,\n",
    "                         n_estimators=200,\n",
    "                         silent= 1,\n",
    "                         nthread=-1)\n",
    "model.fit(train[feature] ,ytrain)\n",
    "\n",
    "trainPred,testPred = model.predict(train[feature]),model.predict(test[feature])\n",
    "trainRMSE,testRMSE = RMSE(ytrain,trainPred) , RMSE(ytest,testPred)\n",
    "print \"Train RMSE : %f  Test RMSE : %f\"%(trainRMSE, testRMSE)\n",
    "#%%\n",
    "fig, ax = plt.subplots(figsize=(12, 12))\n",
    "xgb.plot_importance(model, ax=ax,max_num_features=100)\n",
    "pylab.show()"
   ]
  },
  {
   "cell_type": "code",
   "execution_count": 69,
   "metadata": {},
   "outputs": [],
   "source": [
    "ydata = finaldata_.pop('kda_ratio')"
   ]
  },
  {
   "cell_type": "code",
   "execution_count": 70,
   "metadata": {},
   "outputs": [
    {
     "name": "stdout",
     "output_type": "stream",
     "text": [
      "[0]\ttrain-rmse:3344.44+2.00809\ttest-rmse:3344.58+8.32702\n",
      "[1]\ttrain-rmse:3023.06+3.14711\ttest-rmse:3023.6+9.02599\n",
      "[2]\ttrain-rmse:2733.43+2.74725\ttest-rmse:2734.35+8.53762\n",
      "[3]\ttrain-rmse:2475.43+1.73752\ttest-rmse:2476.51+9.1412\n",
      "[4]\ttrain-rmse:2245.45+1.40219\ttest-rmse:2246.72+9.20443\n",
      "[5]\ttrain-rmse:2038.29+0.78472\ttest-rmse:2039.82+7.70015\n",
      "[6]\ttrain-rmse:1853.28+1.31319\ttest-rmse:1855.43+8.14034\n",
      "[7]\ttrain-rmse:1689.75+1.63968\ttest-rmse:1692.57+8.83486\n",
      "[8]\ttrain-rmse:1543.05+2.44489\ttest-rmse:1546.41+9.62793\n",
      "[9]\ttrain-rmse:1412.34+2.35916\ttest-rmse:1416.14+9.53248\n",
      "[10]\ttrain-rmse:1296.58+3.19091\ttest-rmse:1301.2+9.67951\n",
      "[11]\ttrain-rmse:1193.34+2.63523\ttest-rmse:1198.61+9.09982\n",
      "[12]\ttrain-rmse:1102.69+1.57344\ttest-rmse:1108.49+8.19776\n",
      "[13]\ttrain-rmse:1022.87+1.27427\ttest-rmse:1029.4+7.95695\n",
      "[14]\ttrain-rmse:953.315+1.58308\ttest-rmse:960.962+7.58627\n",
      "[15]\ttrain-rmse:892.831+2.1888\ttest-rmse:901.508+6.99491\n",
      "[16]\ttrain-rmse:840.964+2.05067\ttest-rmse:850.498+7.98183\n",
      "[17]\ttrain-rmse:795.027+1.9284\ttest-rmse:805.586+7.73388\n",
      "[18]\ttrain-rmse:755.338+1.74806\ttest-rmse:766.872+7.49871\n",
      "[19]\ttrain-rmse:721.26+1.61768\ttest-rmse:733.813+7.10865\n",
      "[20]\ttrain-rmse:692.19+1.59448\ttest-rmse:705.514+7.31198\n",
      "[21]\ttrain-rmse:667.733+1.59503\ttest-rmse:681.57+7.53352\n",
      "[22]\ttrain-rmse:647.206+1.90506\ttest-rmse:661.968+7.5111\n",
      "[23]\ttrain-rmse:629.356+1.98035\ttest-rmse:644.967+7.5517\n",
      "[24]\ttrain-rmse:614.325+1.85371\ttest-rmse:630.7+7.39538\n",
      "[25]\ttrain-rmse:601.812+2.06718\ttest-rmse:619.018+7.03811\n",
      "[26]\ttrain-rmse:591.125+2.15147\ttest-rmse:608.919+7.2001\n",
      "[27]\ttrain-rmse:581.823+2.10442\ttest-rmse:600.001+7.22044\n",
      "[28]\ttrain-rmse:574.366+2.19325\ttest-rmse:593.071+7.36082\n",
      "[29]\ttrain-rmse:567.671+2.57212\ttest-rmse:586.94+7.06727\n",
      "[30]\ttrain-rmse:562.109+2.49758\ttest-rmse:581.701+7.3461\n",
      "[31]\ttrain-rmse:557.291+2.43938\ttest-rmse:577.384+7.51959\n",
      "[32]\ttrain-rmse:553.249+2.57012\ttest-rmse:573.793+7.56072\n",
      "[33]\ttrain-rmse:549.705+2.64286\ttest-rmse:570.819+7.56004\n",
      "[34]\ttrain-rmse:546.438+2.52767\ttest-rmse:568.101+7.67683\n",
      "[35]\ttrain-rmse:543.76+2.52125\ttest-rmse:565.673+7.829\n",
      "[36]\ttrain-rmse:541.373+2.65523\ttest-rmse:563.567+7.6432\n",
      "[37]\ttrain-rmse:539.328+2.36884\ttest-rmse:561.795+7.97643\n",
      "[38]\ttrain-rmse:537.489+2.31323\ttest-rmse:560.381+8.10964\n",
      "[39]\ttrain-rmse:535.829+2.12573\ttest-rmse:558.96+8.30709\n",
      "[40]\ttrain-rmse:534.289+2.13638\ttest-rmse:557.768+8.28025\n",
      "[41]\ttrain-rmse:532.85+2.29498\ttest-rmse:556.815+8.18158\n",
      "[42]\ttrain-rmse:531.515+2.23514\ttest-rmse:555.745+8.17187\n",
      "[43]\ttrain-rmse:530.192+2.28119\ttest-rmse:554.726+8.29243\n",
      "[44]\ttrain-rmse:529.05+2.30999\ttest-rmse:554.039+8.46767\n",
      "[45]\ttrain-rmse:527.975+2.32447\ttest-rmse:553.338+8.49486\n",
      "[46]\ttrain-rmse:526.966+2.30318\ttest-rmse:552.663+8.44255\n",
      "[47]\ttrain-rmse:526.029+2.33732\ttest-rmse:552.042+8.42187\n",
      "[48]\ttrain-rmse:525.177+2.309\ttest-rmse:551.49+8.51025\n",
      "[49]\ttrain-rmse:524.342+2.22206\ttest-rmse:550.901+8.57637\n",
      "[50]\ttrain-rmse:523.632+2.26099\ttest-rmse:550.326+8.52047\n",
      "[51]\ttrain-rmse:522.776+2.30066\ttest-rmse:549.764+8.62399\n",
      "[52]\ttrain-rmse:521.778+2.28928\ttest-rmse:549.143+8.68796\n",
      "[53]\ttrain-rmse:521.032+2.28134\ttest-rmse:548.76+8.6484\n",
      "[54]\ttrain-rmse:520.294+2.36518\ttest-rmse:548.361+8.69522\n",
      "[55]\ttrain-rmse:519.649+2.4531\ttest-rmse:547.98+8.57488\n",
      "[56]\ttrain-rmse:518.964+2.52234\ttest-rmse:547.778+8.52197\n",
      "[57]\ttrain-rmse:518.169+2.44735\ttest-rmse:547.344+8.62534\n",
      "[58]\ttrain-rmse:517.558+2.42997\ttest-rmse:547.04+8.71797\n",
      "[59]\ttrain-rmse:516.946+2.35446\ttest-rmse:546.74+8.82414\n",
      "[60]\ttrain-rmse:516.533+2.25508\ttest-rmse:546.506+8.99853\n",
      "[61]\ttrain-rmse:515.918+2.33056\ttest-rmse:546.206+9.10043\n",
      "[62]\ttrain-rmse:515.291+2.28089\ttest-rmse:545.904+9.10931\n",
      "[63]\ttrain-rmse:514.871+2.15527\ttest-rmse:545.733+9.10637\n",
      "[64]\ttrain-rmse:514.369+2.12026\ttest-rmse:545.496+9.15543\n",
      "[65]\ttrain-rmse:513.889+2.22597\ttest-rmse:545.145+9.06431\n",
      "[66]\ttrain-rmse:513.29+2.1318\ttest-rmse:544.814+9.13828\n",
      "[67]\ttrain-rmse:512.772+2.16644\ttest-rmse:544.505+9.20932\n",
      "[68]\ttrain-rmse:512.255+2.08343\ttest-rmse:544.217+9.24771\n",
      "[69]\ttrain-rmse:511.825+2.06209\ttest-rmse:544.113+9.3336\n",
      "[70]\ttrain-rmse:511.333+1.98768\ttest-rmse:543.887+9.43475\n",
      "[71]\ttrain-rmse:510.959+2.09142\ttest-rmse:543.703+9.4201\n",
      "[72]\ttrain-rmse:510.429+2.13258\ttest-rmse:543.515+9.47917\n",
      "[73]\ttrain-rmse:509.988+2.19553\ttest-rmse:543.292+9.41165\n",
      "[74]\ttrain-rmse:509.588+2.17423\ttest-rmse:543.134+9.34102\n",
      "[75]\ttrain-rmse:509.121+2.05103\ttest-rmse:542.878+9.42015\n",
      "[76]\ttrain-rmse:508.577+1.91199\ttest-rmse:542.596+9.57051\n",
      "[77]\ttrain-rmse:508.08+1.83738\ttest-rmse:542.334+9.6022\n",
      "[78]\ttrain-rmse:507.519+1.76838\ttest-rmse:542.191+9.68412\n",
      "[79]\ttrain-rmse:507.078+1.87322\ttest-rmse:541.895+9.61449\n",
      "[80]\ttrain-rmse:506.627+1.92408\ttest-rmse:541.693+9.58561\n",
      "[81]\ttrain-rmse:506.048+1.8966\ttest-rmse:541.295+9.60449\n",
      "[82]\ttrain-rmse:505.692+1.8841\ttest-rmse:541.164+9.57567\n",
      "[83]\ttrain-rmse:505.227+1.86429\ttest-rmse:540.932+9.60148\n",
      "[84]\ttrain-rmse:504.762+2.00144\ttest-rmse:540.765+9.57016\n",
      "[85]\ttrain-rmse:504.325+1.88367\ttest-rmse:540.511+9.50461\n",
      "[86]\ttrain-rmse:503.821+1.72869\ttest-rmse:540.178+9.7209\n",
      "[87]\ttrain-rmse:503.291+1.68467\ttest-rmse:539.813+9.74864\n",
      "[88]\ttrain-rmse:503.024+1.68227\ttest-rmse:539.629+9.84332\n",
      "[89]\ttrain-rmse:502.515+1.6845\ttest-rmse:539.362+9.87035\n",
      "[90]\ttrain-rmse:502.035+1.66589\ttest-rmse:539.17+9.99954\n",
      "[91]\ttrain-rmse:501.688+1.62686\ttest-rmse:538.996+10.0513\n",
      "[92]\ttrain-rmse:501.331+1.60282\ttest-rmse:538.758+10.0746\n",
      "[93]\ttrain-rmse:500.905+1.58473\ttest-rmse:538.554+10.0652\n",
      "[94]\ttrain-rmse:500.452+1.59377\ttest-rmse:538.399+10.0674\n",
      "[95]\ttrain-rmse:500.099+1.61839\ttest-rmse:538.289+10.1423\n",
      "[96]\ttrain-rmse:499.653+1.70993\ttest-rmse:538.159+10.1771\n",
      "[97]\ttrain-rmse:499.208+1.63956\ttest-rmse:537.945+10.1996\n",
      "[98]\ttrain-rmse:498.797+1.65901\ttest-rmse:537.669+10.171\n",
      "[99]\ttrain-rmse:498.503+1.58535\ttest-rmse:537.488+10.196\n",
      "[100]\ttrain-rmse:498.205+1.53009\ttest-rmse:537.384+10.226\n",
      "[101]\ttrain-rmse:497.759+1.55637\ttest-rmse:537.094+10.1745\n",
      "[102]\ttrain-rmse:497.344+1.57436\ttest-rmse:536.903+10.0999\n",
      "[103]\ttrain-rmse:497.02+1.59731\ttest-rmse:536.838+10.1307\n",
      "[104]\ttrain-rmse:496.676+1.59989\ttest-rmse:536.62+10.1322\n",
      "[105]\ttrain-rmse:496.384+1.56174\ttest-rmse:536.448+10.1937\n",
      "[106]\ttrain-rmse:496.11+1.52687\ttest-rmse:536.397+10.1861\n",
      "[107]\ttrain-rmse:495.726+1.46504\ttest-rmse:536.241+10.221\n",
      "[108]\ttrain-rmse:495.224+1.47858\ttest-rmse:535.889+10.2162\n",
      "[109]\ttrain-rmse:494.992+1.45951\ttest-rmse:535.78+10.2134\n",
      "[110]\ttrain-rmse:494.586+1.33286\ttest-rmse:535.641+10.2367\n",
      "[111]\ttrain-rmse:494.293+1.35158\ttest-rmse:535.499+10.1853\n",
      "[112]\ttrain-rmse:493.891+1.43828\ttest-rmse:535.419+10.1842\n",
      "[113]\ttrain-rmse:493.457+1.51565\ttest-rmse:535.225+10.1619\n",
      "[114]\ttrain-rmse:493.047+1.42451\ttest-rmse:535.057+10.2761\n",
      "[115]\ttrain-rmse:492.571+1.50202\ttest-rmse:534.821+10.2548\n",
      "[116]\ttrain-rmse:492.311+1.43627\ttest-rmse:534.73+10.2592\n",
      "[117]\ttrain-rmse:492.013+1.46505\ttest-rmse:534.579+10.2387\n",
      "[118]\ttrain-rmse:491.662+1.55406\ttest-rmse:534.461+10.229\n",
      "[119]\ttrain-rmse:491.297+1.48415\ttest-rmse:534.315+10.2543\n",
      "[120]\ttrain-rmse:491+1.51446\ttest-rmse:534.247+10.3411\n",
      "[121]\ttrain-rmse:490.726+1.59877\ttest-rmse:534.134+10.3168\n",
      "[122]\ttrain-rmse:490.413+1.51752\ttest-rmse:534.01+10.3043\n",
      "[123]\ttrain-rmse:490.056+1.468\ttest-rmse:533.838+10.2849\n",
      "[124]\ttrain-rmse:489.68+1.28713\ttest-rmse:533.659+10.3624\n",
      "[125]\ttrain-rmse:489.289+1.23742\ttest-rmse:533.454+10.4899\n",
      "[126]\ttrain-rmse:488.922+1.30557\ttest-rmse:533.264+10.4455\n",
      "[127]\ttrain-rmse:488.558+1.35339\ttest-rmse:533.139+10.4594\n",
      "[128]\ttrain-rmse:488.33+1.37432\ttest-rmse:533.03+10.4052\n",
      "[129]\ttrain-rmse:487.915+1.36432\ttest-rmse:532.879+10.4015\n",
      "[130]\ttrain-rmse:487.47+1.36743\ttest-rmse:532.605+10.5462\n",
      "[131]\ttrain-rmse:487.171+1.38467\ttest-rmse:532.5+10.5321\n",
      "[132]\ttrain-rmse:486.916+1.36761\ttest-rmse:532.415+10.5263\n",
      "[133]\ttrain-rmse:486.634+1.38684\ttest-rmse:532.321+10.5432\n",
      "[134]\ttrain-rmse:486.253+1.3563\ttest-rmse:532.2+10.5092\n",
      "[135]\ttrain-rmse:485.944+1.33655\ttest-rmse:532.144+10.5454\n",
      "[136]\ttrain-rmse:485.548+1.29595\ttest-rmse:531.985+10.6132\n",
      "[137]\ttrain-rmse:485.149+1.22375\ttest-rmse:531.863+10.6702\n",
      "[138]\ttrain-rmse:484.894+1.22018\ttest-rmse:531.635+10.68\n",
      "[139]\ttrain-rmse:484.506+1.27539\ttest-rmse:531.48+10.6851\n",
      "[140]\ttrain-rmse:484.246+1.17755\ttest-rmse:531.338+10.7274\n",
      "[141]\ttrain-rmse:483.919+1.20417\ttest-rmse:531.143+10.6595\n"
     ]
    },
    {
     "name": "stdout",
     "output_type": "stream",
     "text": [
      "[142]\ttrain-rmse:483.644+1.31058\ttest-rmse:530.986+10.6002\n",
      "[143]\ttrain-rmse:483.246+1.3225\ttest-rmse:530.812+10.5403\n",
      "[144]\ttrain-rmse:482.861+1.24224\ttest-rmse:530.62+10.5403\n",
      "[145]\ttrain-rmse:482.602+1.22431\ttest-rmse:530.526+10.5368\n",
      "[146]\ttrain-rmse:482.215+1.22156\ttest-rmse:530.288+10.6476\n",
      "[147]\ttrain-rmse:481.929+1.23845\ttest-rmse:530.16+10.64\n",
      "[148]\ttrain-rmse:481.686+1.24003\ttest-rmse:530.041+10.6949\n",
      "[149]\ttrain-rmse:481.194+1.27757\ttest-rmse:529.848+10.6668\n",
      "[150]\ttrain-rmse:480.955+1.1782\ttest-rmse:529.705+10.6869\n",
      "[151]\ttrain-rmse:480.622+1.1815\ttest-rmse:529.564+10.704\n",
      "[152]\ttrain-rmse:480.276+1.18148\ttest-rmse:529.453+10.6552\n",
      "[153]\ttrain-rmse:479.956+1.15539\ttest-rmse:529.325+10.6214\n",
      "[154]\ttrain-rmse:479.644+1.12051\ttest-rmse:529.183+10.543\n",
      "[155]\ttrain-rmse:479.386+1.12777\ttest-rmse:529.112+10.5579\n",
      "[156]\ttrain-rmse:479.091+1.08091\ttest-rmse:528.987+10.569\n",
      "[157]\ttrain-rmse:478.813+1.12277\ttest-rmse:528.838+10.5541\n",
      "[158]\ttrain-rmse:478.569+1.17417\ttest-rmse:528.736+10.5725\n",
      "[159]\ttrain-rmse:478.302+1.23392\ttest-rmse:528.676+10.5711\n",
      "[160]\ttrain-rmse:477.987+1.42532\ttest-rmse:528.516+10.5183\n",
      "[161]\ttrain-rmse:477.67+1.42169\ttest-rmse:528.402+10.5243\n",
      "[162]\ttrain-rmse:477.338+1.35283\ttest-rmse:528.273+10.5378\n",
      "[163]\ttrain-rmse:477.095+1.40997\ttest-rmse:528.157+10.5179\n",
      "[164]\ttrain-rmse:476.771+1.40636\ttest-rmse:528.001+10.4959\n",
      "[165]\ttrain-rmse:476.44+1.367\ttest-rmse:527.873+10.5271\n",
      "[166]\ttrain-rmse:476.181+1.27988\ttest-rmse:527.783+10.5362\n",
      "[167]\ttrain-rmse:475.943+1.30895\ttest-rmse:527.666+10.5159\n",
      "[168]\ttrain-rmse:475.698+1.30315\ttest-rmse:527.574+10.48\n",
      "[169]\ttrain-rmse:475.405+1.27529\ttest-rmse:527.452+10.426\n",
      "[170]\ttrain-rmse:475.113+1.23455\ttest-rmse:527.289+10.4322\n",
      "[171]\ttrain-rmse:474.78+1.30323\ttest-rmse:527.079+10.4734\n",
      "[172]\ttrain-rmse:474.386+1.25529\ttest-rmse:526.933+10.5135\n",
      "[173]\ttrain-rmse:474.173+1.23704\ttest-rmse:526.886+10.5257\n",
      "[174]\ttrain-rmse:473.833+1.17013\ttest-rmse:526.681+10.5335\n",
      "[175]\ttrain-rmse:473.48+1.06446\ttest-rmse:526.559+10.5132\n",
      "[176]\ttrain-rmse:473.11+1.14272\ttest-rmse:526.401+10.4229\n",
      "[177]\ttrain-rmse:472.815+1.11257\ttest-rmse:526.282+10.4342\n",
      "[178]\ttrain-rmse:472.42+1.2477\ttest-rmse:526.001+10.378\n",
      "[179]\ttrain-rmse:472.143+1.2002\ttest-rmse:525.911+10.4176\n",
      "[180]\ttrain-rmse:471.888+1.17779\ttest-rmse:525.813+10.4909\n",
      "[181]\ttrain-rmse:471.66+1.19558\ttest-rmse:525.721+10.5062\n",
      "[182]\ttrain-rmse:471.445+1.15854\ttest-rmse:525.633+10.4817\n",
      "[183]\ttrain-rmse:471.076+1.15994\ttest-rmse:525.457+10.5647\n",
      "[184]\ttrain-rmse:470.791+1.14938\ttest-rmse:525.331+10.571\n",
      "[185]\ttrain-rmse:470.463+1.10946\ttest-rmse:525.257+10.5882\n",
      "[186]\ttrain-rmse:470.292+1.09673\ttest-rmse:525.122+10.5504\n",
      "[187]\ttrain-rmse:470.046+1.01807\ttest-rmse:524.978+10.5309\n",
      "[188]\ttrain-rmse:469.81+0.996791\ttest-rmse:524.9+10.4984\n",
      "[189]\ttrain-rmse:469.541+1.06615\ttest-rmse:524.769+10.5194\n",
      "[190]\ttrain-rmse:469.361+1.1184\ttest-rmse:524.722+10.5101\n",
      "[191]\ttrain-rmse:469.053+1.08462\ttest-rmse:524.584+10.4773\n",
      "[192]\ttrain-rmse:468.849+1.14534\ttest-rmse:524.528+10.4529\n",
      "[193]\ttrain-rmse:468.614+1.12003\ttest-rmse:524.428+10.456\n",
      "[194]\ttrain-rmse:468.32+1.15104\ttest-rmse:524.267+10.5152\n",
      "[195]\ttrain-rmse:468.003+1.17629\ttest-rmse:524.189+10.5592\n",
      "[196]\ttrain-rmse:467.761+1.13177\ttest-rmse:524.109+10.5797\n",
      "[197]\ttrain-rmse:467.534+1.19936\ttest-rmse:524.053+10.5807\n",
      "[198]\ttrain-rmse:467.247+1.23667\ttest-rmse:523.95+10.589\n",
      "[199]\ttrain-rmse:466.984+1.23839\ttest-rmse:523.739+10.574\n",
      "[200]\ttrain-rmse:466.687+1.25032\ttest-rmse:523.646+10.5579\n",
      "[201]\ttrain-rmse:466.417+1.24096\ttest-rmse:523.572+10.5166\n",
      "[202]\ttrain-rmse:466.118+1.23619\ttest-rmse:523.426+10.5571\n",
      "[203]\ttrain-rmse:465.852+1.23337\ttest-rmse:523.328+10.5375\n",
      "[204]\ttrain-rmse:465.572+1.24122\ttest-rmse:523.179+10.4893\n",
      "[205]\ttrain-rmse:465.24+1.26748\ttest-rmse:523.034+10.49\n",
      "[206]\ttrain-rmse:464.993+1.23491\ttest-rmse:522.947+10.4876\n",
      "[207]\ttrain-rmse:464.752+1.33538\ttest-rmse:522.87+10.4665\n",
      "[208]\ttrain-rmse:464.577+1.33883\ttest-rmse:522.845+10.473\n",
      "[209]\ttrain-rmse:464.323+1.21735\ttest-rmse:522.813+10.468\n",
      "[210]\ttrain-rmse:464.005+1.21858\ttest-rmse:522.704+10.4476\n",
      "[211]\ttrain-rmse:463.704+1.24777\ttest-rmse:522.594+10.4308\n",
      "[212]\ttrain-rmse:463.514+1.19013\ttest-rmse:522.519+10.4284\n",
      "[213]\ttrain-rmse:463.34+1.24257\ttest-rmse:522.403+10.4699\n",
      "[214]\ttrain-rmse:463.062+1.31004\ttest-rmse:522.268+10.4352\n",
      "[215]\ttrain-rmse:462.877+1.34774\ttest-rmse:522.201+10.4432\n",
      "[216]\ttrain-rmse:462.559+1.33757\ttest-rmse:522.082+10.4652\n",
      "[217]\ttrain-rmse:462.3+1.31486\ttest-rmse:521.996+10.485\n",
      "[218]\ttrain-rmse:462.048+1.28066\ttest-rmse:521.908+10.5058\n",
      "[219]\ttrain-rmse:461.82+1.32827\ttest-rmse:521.862+10.5333\n",
      "[220]\ttrain-rmse:461.614+1.38388\ttest-rmse:521.845+10.5287\n",
      "[221]\ttrain-rmse:461.34+1.38565\ttest-rmse:521.712+10.5678\n",
      "[222]\ttrain-rmse:461.09+1.37285\ttest-rmse:521.591+10.4982\n",
      "[223]\ttrain-rmse:460.821+1.41343\ttest-rmse:521.493+10.5034\n",
      "[224]\ttrain-rmse:460.564+1.35646\ttest-rmse:521.39+10.4907\n",
      "[225]\ttrain-rmse:460.304+1.37197\ttest-rmse:521.269+10.4123\n",
      "[226]\ttrain-rmse:460.054+1.30143\ttest-rmse:521.167+10.4132\n",
      "[227]\ttrain-rmse:459.768+1.39218\ttest-rmse:521.091+10.3909\n",
      "[228]\ttrain-rmse:459.546+1.35942\ttest-rmse:520.999+10.3924\n",
      "[229]\ttrain-rmse:459.268+1.42506\ttest-rmse:520.93+10.4067\n",
      "[230]\ttrain-rmse:458.995+1.42379\ttest-rmse:520.777+10.4324\n",
      "[231]\ttrain-rmse:458.778+1.45817\ttest-rmse:520.684+10.4447\n",
      "[232]\ttrain-rmse:458.482+1.46132\ttest-rmse:520.576+10.4197\n",
      "[233]\ttrain-rmse:458.225+1.51046\ttest-rmse:520.422+10.4279\n",
      "[234]\ttrain-rmse:457.961+1.56467\ttest-rmse:520.342+10.4509\n",
      "[235]\ttrain-rmse:457.759+1.64444\ttest-rmse:520.227+10.4108\n",
      "[236]\ttrain-rmse:457.513+1.60153\ttest-rmse:520.061+10.2951\n",
      "[237]\ttrain-rmse:457.265+1.57512\ttest-rmse:519.986+10.2838\n",
      "[238]\ttrain-rmse:457.029+1.57869\ttest-rmse:519.882+10.2414\n",
      "[239]\ttrain-rmse:456.704+1.55368\ttest-rmse:519.759+10.2084\n",
      "[240]\ttrain-rmse:456.551+1.50332\ttest-rmse:519.7+10.205\n",
      "[241]\ttrain-rmse:456.266+1.36514\ttest-rmse:519.617+10.2022\n",
      "[242]\ttrain-rmse:456.032+1.36986\ttest-rmse:519.48+10.2028\n",
      "[243]\ttrain-rmse:455.807+1.37142\ttest-rmse:519.406+10.1978\n",
      "[244]\ttrain-rmse:455.587+1.32616\ttest-rmse:519.313+10.157\n",
      "[245]\ttrain-rmse:455.336+1.29495\ttest-rmse:519.209+10.1278\n",
      "[246]\ttrain-rmse:455.151+1.30787\ttest-rmse:519.144+10.1386\n",
      "[247]\ttrain-rmse:454.956+1.22428\ttest-rmse:519.096+10.1397\n",
      "[248]\ttrain-rmse:454.792+1.28571\ttest-rmse:519.013+10.1032\n",
      "[249]\ttrain-rmse:454.497+1.16713\ttest-rmse:518.914+10.1001\n",
      "[250]\ttrain-rmse:454.277+1.21052\ttest-rmse:518.883+10.1133\n",
      "[251]\ttrain-rmse:454.052+1.1902\ttest-rmse:518.796+10.1156\n",
      "[252]\ttrain-rmse:453.852+1.25159\ttest-rmse:518.705+10.056\n",
      "[253]\ttrain-rmse:453.58+1.20787\ttest-rmse:518.61+10.0966\n",
      "[254]\ttrain-rmse:453.377+1.19594\ttest-rmse:518.52+10.1133\n",
      "[255]\ttrain-rmse:453.051+1.27431\ttest-rmse:518.314+10.0227\n",
      "[256]\ttrain-rmse:452.868+1.27812\ttest-rmse:518.293+9.97798\n",
      "[257]\ttrain-rmse:452.594+1.26333\ttest-rmse:518.188+9.93294\n",
      "[258]\ttrain-rmse:452.283+1.32265\ttest-rmse:517.969+9.92059\n",
      "[259]\ttrain-rmse:452.049+1.35896\ttest-rmse:517.914+9.86714\n",
      "[260]\ttrain-rmse:451.783+1.4745\ttest-rmse:517.809+9.83118\n",
      "[261]\ttrain-rmse:451.497+1.39603\ttest-rmse:517.687+9.81703\n",
      "[262]\ttrain-rmse:451.273+1.41251\ttest-rmse:517.594+9.7976\n",
      "[263]\ttrain-rmse:451.027+1.41831\ttest-rmse:517.497+9.76475\n",
      "[264]\ttrain-rmse:450.766+1.37916\ttest-rmse:517.41+9.75189\n",
      "[265]\ttrain-rmse:450.513+1.41724\ttest-rmse:517.333+9.7163\n",
      "[266]\ttrain-rmse:450.367+1.39534\ttest-rmse:517.273+9.74203\n",
      "[267]\ttrain-rmse:450.173+1.38415\ttest-rmse:517.23+9.72867\n",
      "[268]\ttrain-rmse:449.944+1.32034\ttest-rmse:517.144+9.73837\n",
      "[269]\ttrain-rmse:449.768+1.26377\ttest-rmse:517.055+9.74036\n",
      "[270]\ttrain-rmse:449.601+1.34849\ttest-rmse:517.008+9.72565\n",
      "[271]\ttrain-rmse:449.418+1.26725\ttest-rmse:516.995+9.72015\n",
      "[272]\ttrain-rmse:449.24+1.22817\ttest-rmse:516.97+9.74096\n",
      "[273]\ttrain-rmse:449.005+1.3087\ttest-rmse:516.832+9.75088\n",
      "[274]\ttrain-rmse:448.707+1.37872\ttest-rmse:516.796+9.74202\n",
      "[275]\ttrain-rmse:448.446+1.43007\ttest-rmse:516.725+9.76277\n",
      "[276]\ttrain-rmse:448.242+1.39872\ttest-rmse:516.622+9.72472\n",
      "[277]\ttrain-rmse:448.046+1.37256\ttest-rmse:516.557+9.74604\n",
      "[278]\ttrain-rmse:447.895+1.33802\ttest-rmse:516.514+9.77301\n",
      "[279]\ttrain-rmse:447.616+1.31733\ttest-rmse:516.449+9.78343\n",
      "[280]\ttrain-rmse:447.393+1.38892\ttest-rmse:516.381+9.78029\n",
      "[281]\ttrain-rmse:447.248+1.35206\ttest-rmse:516.294+9.73595\n"
     ]
    },
    {
     "name": "stdout",
     "output_type": "stream",
     "text": [
      "[282]\ttrain-rmse:446.93+1.44509\ttest-rmse:516.147+9.72634\n",
      "[283]\ttrain-rmse:446.625+1.42707\ttest-rmse:516.042+9.63394\n",
      "[284]\ttrain-rmse:446.264+1.33295\ttest-rmse:515.938+9.69776\n",
      "[285]\ttrain-rmse:445.976+1.38241\ttest-rmse:515.804+9.69446\n",
      "[286]\ttrain-rmse:445.721+1.45789\ttest-rmse:515.647+9.71395\n",
      "[287]\ttrain-rmse:445.532+1.5299\ttest-rmse:515.554+9.66715\n",
      "[288]\ttrain-rmse:445.249+1.56317\ttest-rmse:515.454+9.70393\n",
      "[289]\ttrain-rmse:445.024+1.6184\ttest-rmse:515.339+9.70087\n",
      "[290]\ttrain-rmse:444.736+1.56689\ttest-rmse:515.214+9.73214\n",
      "[291]\ttrain-rmse:444.501+1.64326\ttest-rmse:515.163+9.7558\n",
      "[292]\ttrain-rmse:444.221+1.64512\ttest-rmse:515.046+9.7491\n",
      "[293]\ttrain-rmse:443.977+1.60005\ttest-rmse:514.985+9.77483\n",
      "[294]\ttrain-rmse:443.815+1.56255\ttest-rmse:514.919+9.78126\n",
      "[295]\ttrain-rmse:443.645+1.60133\ttest-rmse:514.862+9.73654\n",
      "[296]\ttrain-rmse:443.442+1.60368\ttest-rmse:514.727+9.75706\n",
      "[297]\ttrain-rmse:443.203+1.58228\ttest-rmse:514.628+9.7542\n",
      "[298]\ttrain-rmse:443.024+1.56482\ttest-rmse:514.585+9.74839\n",
      "[299]\ttrain-rmse:442.731+1.54604\ttest-rmse:514.499+9.76362\n",
      "[300]\ttrain-rmse:442.589+1.5661\ttest-rmse:514.446+9.74578\n",
      "[301]\ttrain-rmse:442.362+1.6306\ttest-rmse:514.33+9.75154\n",
      "[302]\ttrain-rmse:442.192+1.67259\ttest-rmse:514.26+9.73145\n",
      "[303]\ttrain-rmse:441.942+1.7308\ttest-rmse:514.246+9.72039\n",
      "[304]\ttrain-rmse:441.729+1.73019\ttest-rmse:514.139+9.72468\n",
      "[305]\ttrain-rmse:441.432+1.82931\ttest-rmse:514+9.68484\n",
      "[306]\ttrain-rmse:441.179+1.80046\ttest-rmse:513.955+9.69363\n",
      "[307]\ttrain-rmse:441.011+1.79627\ttest-rmse:513.903+9.70615\n",
      "[308]\ttrain-rmse:440.763+1.67987\ttest-rmse:513.777+9.69963\n",
      "[309]\ttrain-rmse:440.499+1.59965\ttest-rmse:513.632+9.6916\n",
      "[310]\ttrain-rmse:440.298+1.59692\ttest-rmse:513.515+9.70665\n",
      "[311]\ttrain-rmse:440.155+1.57792\ttest-rmse:513.406+9.76898\n",
      "[312]\ttrain-rmse:439.958+1.59765\ttest-rmse:513.327+9.77086\n",
      "[313]\ttrain-rmse:439.716+1.61483\ttest-rmse:513.264+9.81414\n",
      "[314]\ttrain-rmse:439.49+1.68391\ttest-rmse:513.181+9.81784\n",
      "[315]\ttrain-rmse:439.355+1.68411\ttest-rmse:513.107+9.84448\n",
      "[316]\ttrain-rmse:439.095+1.67187\ttest-rmse:513.038+9.84747\n",
      "[317]\ttrain-rmse:438.865+1.70086\ttest-rmse:512.968+9.80814\n",
      "[318]\ttrain-rmse:438.7+1.65959\ttest-rmse:512.943+9.79127\n",
      "[319]\ttrain-rmse:438.52+1.64476\ttest-rmse:512.89+9.82074\n",
      "[320]\ttrain-rmse:438.33+1.581\ttest-rmse:512.818+9.7816\n",
      "[321]\ttrain-rmse:438.204+1.5562\ttest-rmse:512.756+9.78622\n",
      "[322]\ttrain-rmse:437.97+1.58812\ttest-rmse:512.62+9.81399\n",
      "[323]\ttrain-rmse:437.764+1.60918\ttest-rmse:512.54+9.84538\n",
      "[324]\ttrain-rmse:437.47+1.53268\ttest-rmse:512.47+9.79514\n",
      "[325]\ttrain-rmse:437.265+1.55331\ttest-rmse:512.42+9.81045\n",
      "[326]\ttrain-rmse:437.137+1.60817\ttest-rmse:512.396+9.78969\n",
      "[327]\ttrain-rmse:436.863+1.64628\ttest-rmse:512.283+9.72255\n",
      "[328]\ttrain-rmse:436.676+1.73605\ttest-rmse:512.216+9.75654\n",
      "[329]\ttrain-rmse:436.5+1.78327\ttest-rmse:512.148+9.73618\n",
      "[330]\ttrain-rmse:436.327+1.82387\ttest-rmse:512.128+9.7402\n",
      "[331]\ttrain-rmse:436.142+1.86193\ttest-rmse:512.071+9.77459\n",
      "[332]\ttrain-rmse:435.924+1.8547\ttest-rmse:511.959+9.76886\n",
      "[333]\ttrain-rmse:435.71+1.82806\ttest-rmse:511.866+9.7871\n",
      "[334]\ttrain-rmse:435.478+1.8471\ttest-rmse:511.772+9.76892\n",
      "[335]\ttrain-rmse:435.342+1.82577\ttest-rmse:511.675+9.75085\n",
      "[336]\ttrain-rmse:435.192+1.79177\ttest-rmse:511.601+9.72916\n",
      "[337]\ttrain-rmse:435.031+1.79062\ttest-rmse:511.538+9.71601\n",
      "[338]\ttrain-rmse:434.749+1.77964\ttest-rmse:511.423+9.73031\n",
      "[339]\ttrain-rmse:434.599+1.69414\ttest-rmse:511.342+9.70553\n",
      "[340]\ttrain-rmse:434.399+1.67531\ttest-rmse:511.227+9.74523\n",
      "[341]\ttrain-rmse:434.202+1.69483\ttest-rmse:511.116+9.72978\n",
      "[342]\ttrain-rmse:434.028+1.71098\ttest-rmse:511.015+9.77175\n",
      "[343]\ttrain-rmse:433.884+1.78199\ttest-rmse:510.96+9.7983\n",
      "[344]\ttrain-rmse:433.698+1.80125\ttest-rmse:510.907+9.78326\n",
      "[345]\ttrain-rmse:433.512+1.81328\ttest-rmse:510.859+9.76421\n",
      "[346]\ttrain-rmse:433.313+1.79272\ttest-rmse:510.726+9.83293\n",
      "[347]\ttrain-rmse:433.102+1.77094\ttest-rmse:510.64+9.83011\n",
      "[348]\ttrain-rmse:432.865+1.69568\ttest-rmse:510.546+9.83676\n",
      "[349]\ttrain-rmse:432.673+1.67018\ttest-rmse:510.473+9.87585\n",
      "[350]\ttrain-rmse:432.423+1.70973\ttest-rmse:510.395+9.87203\n",
      "[351]\ttrain-rmse:432.229+1.69651\ttest-rmse:510.34+9.8634\n",
      "[352]\ttrain-rmse:432.077+1.65271\ttest-rmse:510.304+9.88857\n",
      "[353]\ttrain-rmse:431.892+1.64895\ttest-rmse:510.223+9.87216\n",
      "[354]\ttrain-rmse:431.682+1.61235\ttest-rmse:510.147+9.91505\n",
      "[355]\ttrain-rmse:431.466+1.5762\ttest-rmse:510.038+9.89939\n",
      "[356]\ttrain-rmse:431.315+1.58706\ttest-rmse:510.013+9.89397\n",
      "[357]\ttrain-rmse:431.079+1.57654\ttest-rmse:509.915+9.90113\n",
      "[358]\ttrain-rmse:430.903+1.4951\ttest-rmse:509.853+9.89881\n",
      "[359]\ttrain-rmse:430.699+1.57815\ttest-rmse:509.752+9.92627\n",
      "[360]\ttrain-rmse:430.515+1.50816\ttest-rmse:509.673+9.96627\n",
      "[361]\ttrain-rmse:430.275+1.46144\ttest-rmse:509.645+9.97378\n",
      "[362]\ttrain-rmse:430.111+1.43509\ttest-rmse:509.596+9.9627\n",
      "[363]\ttrain-rmse:429.9+1.4611\ttest-rmse:509.472+9.9649\n",
      "[364]\ttrain-rmse:429.759+1.41519\ttest-rmse:509.4+9.95349\n",
      "[365]\ttrain-rmse:429.521+1.35364\ttest-rmse:509.325+9.94611\n",
      "[366]\ttrain-rmse:429.317+1.35089\ttest-rmse:509.248+9.98247\n",
      "[367]\ttrain-rmse:429.081+1.38939\ttest-rmse:509.163+9.97662\n",
      "[368]\ttrain-rmse:428.865+1.43283\ttest-rmse:509.121+9.98894\n",
      "[369]\ttrain-rmse:428.591+1.44104\ttest-rmse:509.008+9.99316\n",
      "[370]\ttrain-rmse:428.434+1.49673\ttest-rmse:508.925+9.96618\n",
      "[371]\ttrain-rmse:428.247+1.53629\ttest-rmse:508.823+9.98197\n",
      "[372]\ttrain-rmse:428.018+1.54833\ttest-rmse:508.766+9.97374\n",
      "[373]\ttrain-rmse:427.798+1.48005\ttest-rmse:508.706+9.95461\n",
      "[374]\ttrain-rmse:427.649+1.48235\ttest-rmse:508.689+9.97695\n",
      "[375]\ttrain-rmse:427.461+1.53789\ttest-rmse:508.58+10.0128\n",
      "[376]\ttrain-rmse:427.222+1.48878\ttest-rmse:508.473+10.0068\n",
      "[377]\ttrain-rmse:426.93+1.50606\ttest-rmse:508.358+9.99515\n",
      "[378]\ttrain-rmse:426.783+1.58643\ttest-rmse:508.286+9.97581\n",
      "[379]\ttrain-rmse:426.622+1.62514\ttest-rmse:508.214+9.94729\n",
      "[380]\ttrain-rmse:426.394+1.62495\ttest-rmse:508.114+9.97114\n",
      "[381]\ttrain-rmse:426.176+1.62111\ttest-rmse:508.019+9.98464\n",
      "[382]\ttrain-rmse:425.984+1.61259\ttest-rmse:507.961+10.0133\n",
      "[383]\ttrain-rmse:425.759+1.6099\ttest-rmse:507.846+10.0479\n",
      "[384]\ttrain-rmse:425.574+1.55925\ttest-rmse:507.779+10.0086\n",
      "[385]\ttrain-rmse:425.404+1.50023\ttest-rmse:507.723+10.0032\n",
      "[386]\ttrain-rmse:425.278+1.50243\ttest-rmse:507.675+10.0157\n",
      "[387]\ttrain-rmse:425.002+1.51393\ttest-rmse:507.588+10.0765\n",
      "[388]\ttrain-rmse:424.851+1.60915\ttest-rmse:507.522+10.0194\n",
      "[389]\ttrain-rmse:424.73+1.64002\ttest-rmse:507.5+10.0249\n",
      "[390]\ttrain-rmse:424.579+1.64993\ttest-rmse:507.455+10.0546\n",
      "[391]\ttrain-rmse:424.376+1.71737\ttest-rmse:507.353+10.0536\n",
      "[392]\ttrain-rmse:424.198+1.69693\ttest-rmse:507.334+10.1106\n",
      "[393]\ttrain-rmse:424.088+1.72002\ttest-rmse:507.322+10.0992\n",
      "[394]\ttrain-rmse:423.924+1.67845\ttest-rmse:507.294+10.0862\n",
      "[395]\ttrain-rmse:423.716+1.74967\ttest-rmse:507.18+10.1342\n",
      "[396]\ttrain-rmse:423.541+1.79697\ttest-rmse:507.15+10.1488\n",
      "[397]\ttrain-rmse:423.367+1.75808\ttest-rmse:507.071+10.1417\n",
      "[398]\ttrain-rmse:423.182+1.78267\ttest-rmse:507.03+10.1153\n",
      "[399]\ttrain-rmse:423.022+1.73329\ttest-rmse:506.961+10.1018\n",
      "[400]\ttrain-rmse:422.866+1.75551\ttest-rmse:506.95+10.1337\n",
      "[401]\ttrain-rmse:422.614+1.77546\ttest-rmse:506.885+10.1218\n",
      "[402]\ttrain-rmse:422.412+1.79553\ttest-rmse:506.798+10.1206\n",
      "[403]\ttrain-rmse:422.246+1.78385\ttest-rmse:506.733+10.0846\n",
      "[404]\ttrain-rmse:422.06+1.81921\ttest-rmse:506.693+10.1009\n",
      "[405]\ttrain-rmse:421.81+1.78378\ttest-rmse:506.586+10.1292\n",
      "[406]\ttrain-rmse:421.611+1.77614\ttest-rmse:506.539+10.1627\n",
      "[407]\ttrain-rmse:421.416+1.77362\ttest-rmse:506.463+10.1929\n",
      "[408]\ttrain-rmse:421.282+1.78134\ttest-rmse:506.433+10.1986\n",
      "[409]\ttrain-rmse:421.122+1.74602\ttest-rmse:506.398+10.2236\n",
      "[410]\ttrain-rmse:420.954+1.71267\ttest-rmse:506.343+10.2383\n",
      "[411]\ttrain-rmse:420.72+1.74593\ttest-rmse:506.313+10.2303\n",
      "[412]\ttrain-rmse:420.556+1.80559\ttest-rmse:506.269+10.2108\n",
      "[413]\ttrain-rmse:420.395+1.8566\ttest-rmse:506.244+10.1961\n",
      "[414]\ttrain-rmse:420.14+1.91592\ttest-rmse:506.125+10.154\n",
      "[415]\ttrain-rmse:419.95+1.85781\ttest-rmse:506.045+10.1568\n",
      "[416]\ttrain-rmse:419.764+1.82795\ttest-rmse:505.983+10.147\n",
      "[417]\ttrain-rmse:419.571+1.81236\ttest-rmse:505.89+10.0857\n",
      "[418]\ttrain-rmse:419.413+1.77096\ttest-rmse:505.801+10.0511\n",
      "[419]\ttrain-rmse:419.226+1.8435\ttest-rmse:505.743+10.0541\n",
      "[420]\ttrain-rmse:419.05+1.88756\ttest-rmse:505.669+10.1011\n",
      "[421]\ttrain-rmse:418.889+1.91824\ttest-rmse:505.66+10.0889\n",
      "[422]\ttrain-rmse:418.713+1.96254\ttest-rmse:505.618+10.098\n"
     ]
    },
    {
     "name": "stdout",
     "output_type": "stream",
     "text": [
      "[423]\ttrain-rmse:418.485+1.83681\ttest-rmse:505.493+10.0392\n",
      "[424]\ttrain-rmse:418.258+1.91677\ttest-rmse:505.372+9.93752\n",
      "[425]\ttrain-rmse:418.104+1.91383\ttest-rmse:505.337+9.93728\n",
      "[426]\ttrain-rmse:417.957+1.90728\ttest-rmse:505.36+9.96363\n",
      "[427]\ttrain-rmse:417.79+1.92791\ttest-rmse:505.293+9.96001\n",
      "[428]\ttrain-rmse:417.619+1.92895\ttest-rmse:505.188+10.0233\n",
      "[429]\ttrain-rmse:417.409+1.94868\ttest-rmse:505.074+9.9743\n",
      "[430]\ttrain-rmse:417.218+1.99295\ttest-rmse:504.977+10.0149\n",
      "[431]\ttrain-rmse:417.034+1.97883\ttest-rmse:504.931+9.99774\n",
      "[432]\ttrain-rmse:416.872+1.98556\ttest-rmse:504.872+10.0061\n",
      "[433]\ttrain-rmse:416.71+2.0281\ttest-rmse:504.83+10.0052\n",
      "[434]\ttrain-rmse:416.556+2.06857\ttest-rmse:504.781+9.98927\n",
      "[435]\ttrain-rmse:416.391+2.03923\ttest-rmse:504.718+10.007\n",
      "[436]\ttrain-rmse:416.151+2.04461\ttest-rmse:504.634+9.98074\n",
      "[437]\ttrain-rmse:415.903+2.11723\ttest-rmse:504.551+9.99287\n",
      "[438]\ttrain-rmse:415.661+2.05502\ttest-rmse:504.443+9.93401\n",
      "[439]\ttrain-rmse:415.541+2.12176\ttest-rmse:504.412+9.93315\n",
      "[440]\ttrain-rmse:415.347+2.16411\ttest-rmse:504.35+9.92163\n",
      "[441]\ttrain-rmse:415.205+2.18161\ttest-rmse:504.335+9.89601\n",
      "[442]\ttrain-rmse:415.023+2.15843\ttest-rmse:504.252+9.94454\n",
      "[443]\ttrain-rmse:414.857+2.14657\ttest-rmse:504.182+9.95763\n",
      "[444]\ttrain-rmse:414.713+2.08526\ttest-rmse:504.112+9.93212\n",
      "[445]\ttrain-rmse:414.533+2.09618\ttest-rmse:504.06+9.96386\n",
      "[446]\ttrain-rmse:414.388+2.0744\ttest-rmse:504.016+9.96859\n",
      "[447]\ttrain-rmse:414.226+2.12499\ttest-rmse:503.982+9.98106\n",
      "[448]\ttrain-rmse:414.065+2.10901\ttest-rmse:503.925+9.9862\n",
      "[449]\ttrain-rmse:413.892+2.14464\ttest-rmse:503.88+9.98356\n",
      "[450]\ttrain-rmse:413.709+2.17949\ttest-rmse:503.823+10.0076\n",
      "[451]\ttrain-rmse:413.608+2.1806\ttest-rmse:503.783+10.0173\n",
      "[452]\ttrain-rmse:413.507+2.20463\ttest-rmse:503.762+10.0082\n",
      "[453]\ttrain-rmse:413.411+2.214\ttest-rmse:503.704+9.99997\n",
      "[454]\ttrain-rmse:413.23+2.28266\ttest-rmse:503.64+9.97924\n",
      "[455]\ttrain-rmse:413.05+2.31508\ttest-rmse:503.576+9.98771\n",
      "[456]\ttrain-rmse:412.906+2.31362\ttest-rmse:503.547+9.96839\n",
      "[457]\ttrain-rmse:412.693+2.2575\ttest-rmse:503.457+9.92987\n",
      "[458]\ttrain-rmse:412.522+2.1892\ttest-rmse:503.399+9.92391\n",
      "[459]\ttrain-rmse:412.326+2.19283\ttest-rmse:503.284+9.9407\n",
      "[460]\ttrain-rmse:412.2+2.18975\ttest-rmse:503.254+9.94095\n",
      "[461]\ttrain-rmse:411.984+2.19709\ttest-rmse:503.175+9.96964\n",
      "[462]\ttrain-rmse:411.854+2.16975\ttest-rmse:503.122+9.95362\n",
      "[463]\ttrain-rmse:411.652+2.18214\ttest-rmse:503.046+9.92568\n",
      "[464]\ttrain-rmse:411.429+2.22118\ttest-rmse:502.921+9.89878\n",
      "[465]\ttrain-rmse:411.252+2.13613\ttest-rmse:502.87+9.90363\n",
      "[466]\ttrain-rmse:411.124+2.12674\ttest-rmse:502.85+9.87036\n",
      "[467]\ttrain-rmse:410.915+2.12334\ttest-rmse:502.793+9.85131\n",
      "[468]\ttrain-rmse:410.76+2.15907\ttest-rmse:502.734+9.82463\n",
      "[469]\ttrain-rmse:410.604+2.20536\ttest-rmse:502.648+9.86943\n",
      "[470]\ttrain-rmse:410.414+2.20418\ttest-rmse:502.548+9.80992\n",
      "[471]\ttrain-rmse:410.143+2.19549\ttest-rmse:502.447+9.82165\n",
      "[472]\ttrain-rmse:409.949+2.23368\ttest-rmse:502.319+9.80025\n",
      "[473]\ttrain-rmse:409.759+2.17766\ttest-rmse:502.237+9.77403\n",
      "[474]\ttrain-rmse:409.566+2.159\ttest-rmse:502.14+9.7245\n",
      "[475]\ttrain-rmse:409.425+2.19941\ttest-rmse:502.093+9.74983\n",
      "[476]\ttrain-rmse:409.309+2.19223\ttest-rmse:502.042+9.73268\n",
      "[477]\ttrain-rmse:409.053+2.18768\ttest-rmse:501.942+9.7697\n",
      "[478]\ttrain-rmse:408.942+2.16023\ttest-rmse:501.871+9.78133\n",
      "[479]\ttrain-rmse:408.757+2.18765\ttest-rmse:501.753+9.76693\n",
      "[480]\ttrain-rmse:408.556+2.20475\ttest-rmse:501.687+9.73957\n",
      "[481]\ttrain-rmse:408.407+2.2172\ttest-rmse:501.618+9.72295\n",
      "[482]\ttrain-rmse:408.246+2.29483\ttest-rmse:501.585+9.69872\n",
      "[483]\ttrain-rmse:408.05+2.20896\ttest-rmse:501.408+9.69063\n",
      "[484]\ttrain-rmse:407.833+2.09852\ttest-rmse:501.344+9.69165\n",
      "[485]\ttrain-rmse:407.638+2.00455\ttest-rmse:501.239+9.71413\n",
      "[486]\ttrain-rmse:407.377+2.01077\ttest-rmse:501.118+9.69067\n",
      "[487]\ttrain-rmse:407.201+2.00598\ttest-rmse:501.047+9.67186\n",
      "[488]\ttrain-rmse:406.989+2.03862\ttest-rmse:501.003+9.65033\n",
      "[489]\ttrain-rmse:406.845+2.02777\ttest-rmse:500.953+9.63573\n",
      "[490]\ttrain-rmse:406.655+2.00865\ttest-rmse:500.885+9.60862\n",
      "[491]\ttrain-rmse:406.494+1.97308\ttest-rmse:500.833+9.55403\n",
      "[492]\ttrain-rmse:406.281+1.98614\ttest-rmse:500.759+9.51992\n",
      "[493]\ttrain-rmse:406.135+1.95985\ttest-rmse:500.702+9.53898\n",
      "[494]\ttrain-rmse:405.962+1.89133\ttest-rmse:500.639+9.53172\n",
      "[495]\ttrain-rmse:405.774+1.80791\ttest-rmse:500.573+9.54724\n",
      "[496]\ttrain-rmse:405.596+1.82959\ttest-rmse:500.528+9.56532\n",
      "[497]\ttrain-rmse:405.437+1.80757\ttest-rmse:500.445+9.52015\n",
      "[498]\ttrain-rmse:405.318+1.82227\ttest-rmse:500.404+9.55677\n",
      "[499]\ttrain-rmse:405.17+1.87059\ttest-rmse:500.358+9.59909\n"
     ]
    }
   ],
   "source": [
    "xgdmat = xgb.DMatrix(finaldata_[feature], ydata)\n",
    "our_params = {'eta': 0.1, 'seed':0, 'colsample_bylevel': 1,'colsample_bytree': 0.8, \n",
    "             'objective': 'reg:linear', 'max_depth':5, 'min_child_weight':1} \n",
    "# Grid Search CV optimized settings\n",
    "\n",
    "cv_xgb = xgb.cv(params = our_params, dtrain = xgdmat, num_boost_round = 500, nfold = 5,\n",
    "                metrics = ['rmse'],  early_stopping_rounds = 200,verbose_eval = True)"
   ]
  },
  {
   "cell_type": "code",
   "execution_count": 71,
   "metadata": {},
   "outputs": [],
   "source": [
    "# # Linear regression\n",
    "# from sklearn import datasets, linear_model\n",
    "# lm = linear_model.LinearRegression()\n",
    "# model = lm.fit(train[feature], ytrain)\n",
    "# predictions = lm.predict(test[feature])\n",
    "# predictions_train = lm.predict(train[feature])\n",
    "# print ' Train Score:', RMSE(predictions_train, ytrain)\n",
    "# print ' Test Score:', RMSE(predictions, ytest)"
   ]
  },
  {
   "cell_type": "code",
   "execution_count": 72,
   "metadata": {},
   "outputs": [
    {
     "data": {
      "text/plain": [
       "XGBRegressor(base_score=0.5, booster='gbtree', colsample_bylevel=1,\n",
       "       colsample_bytree=1, gamma=0, learning_rate=0.1, max_delta_step=0,\n",
       "       max_depth=5, min_child_weight=1, missing=None, n_estimators=200,\n",
       "       n_jobs=1, nthread=-1, objective='reg:linear', random_state=0,\n",
       "       reg_alpha=0, reg_lambda=1, scale_pos_weight=1, seed=None, silent=1,\n",
       "       subsample=1)"
      ]
     },
     "execution_count": 72,
     "metadata": {},
     "output_type": "execute_result"
    }
   ],
   "source": [
    "# with full data\n",
    "# ydata = finaldata_.pop('kda_ratio')\n",
    "model.fit(finaldata_[feature] ,ydata)"
   ]
  },
  {
   "cell_type": "code",
   "execution_count": 73,
   "metadata": {},
   "outputs": [
    {
     "name": "stdout",
     "output_type": "stream",
     "text": [
      "Train RMSE : 474.422197  Test RMSE : 447.074488\n"
     ]
    }
   ],
   "source": [
    "trainPred,testPred = model.predict(train[feature]),model.predict(test[feature])\n",
    "trainRMSE,testRMSE = RMSE(ytrain,trainPred) , RMSE(ytest,testPred)\n",
    "print \"Train RMSE : %f  Test RMSE : %f\"%(trainRMSE, testRMSE)"
   ]
  },
  {
   "cell_type": "code",
   "execution_count": 74,
   "metadata": {},
   "outputs": [
    {
     "name": "stderr",
     "output_type": "stream",
     "text": [
      "/home/harshit/.virtualenvs/cv/lib/python2.7/site-packages/ipykernel_launcher.py:2: SettingWithCopyWarning: \n",
      "A value is trying to be set on a copy of a slice from a DataFrame.\n",
      "Try using .loc[row_indexer,col_indexer] = value instead\n",
      "\n",
      "See the caveats in the documentation: http://pandas.pydata.org/pandas-docs/stable/indexing.html#indexing-view-versus-copy\n",
      "  \n"
     ]
    }
   ],
   "source": [
    "## Submission\n",
    "finaltest_['predict_kda'] = model.predict(finaltest_[feature])\n",
    "submit = pd.DataFrame(data=finaltest_.id, columns=['id'])\n",
    "submit['kda_ratio'] = finaltest_['predict_kda']\n",
    "submit['user_id'] = finaltest_['user_id']\n",
    "submit = submit.sort_values(by='user_id')\n",
    "submit = submit.drop(['user_id'], axis=1)"
   ]
  },
  {
   "cell_type": "code",
   "execution_count": 75,
   "metadata": {},
   "outputs": [
    {
     "data": {
      "text/html": [
       "<div>\n",
       "<style scoped>\n",
       "    .dataframe tbody tr th:only-of-type {\n",
       "        vertical-align: middle;\n",
       "    }\n",
       "\n",
       "    .dataframe tbody tr th {\n",
       "        vertical-align: top;\n",
       "    }\n",
       "\n",
       "    .dataframe thead th {\n",
       "        text-align: right;\n",
       "    }\n",
       "</style>\n",
       "<table border=\"1\" class=\"dataframe\">\n",
       "  <thead>\n",
       "    <tr style=\"text-align: right;\">\n",
       "      <th></th>\n",
       "      <th>id</th>\n",
       "      <th>kda_ratio</th>\n",
       "    </tr>\n",
       "  </thead>\n",
       "  <tbody>\n",
       "    <tr>\n",
       "      <th>405</th>\n",
       "      <td>3_53</td>\n",
       "      <td>2769.328369</td>\n",
       "    </tr>\n",
       "    <tr>\n",
       "      <th>156</th>\n",
       "      <td>4_17</td>\n",
       "      <td>3318.691406</td>\n",
       "    </tr>\n",
       "    <tr>\n",
       "      <th>138</th>\n",
       "      <td>9_51</td>\n",
       "      <td>2819.020264</td>\n",
       "    </tr>\n",
       "    <tr>\n",
       "      <th>507</th>\n",
       "      <td>10_54</td>\n",
       "      <td>4614.799316</td>\n",
       "    </tr>\n",
       "    <tr>\n",
       "      <th>1</th>\n",
       "      <td>15_74</td>\n",
       "      <td>4903.519043</td>\n",
       "    </tr>\n",
       "  </tbody>\n",
       "</table>\n",
       "</div>"
      ],
      "text/plain": [
       "        id    kda_ratio\n",
       "405   3_53  2769.328369\n",
       "156   4_17  3318.691406\n",
       "138   9_51  2819.020264\n",
       "507  10_54  4614.799316\n",
       "1    15_74  4903.519043"
      ]
     },
     "execution_count": 75,
     "metadata": {},
     "output_type": "execute_result"
    }
   ],
   "source": [
    "submit.head()"
   ]
  },
  {
   "cell_type": "code",
   "execution_count": 42,
   "metadata": {},
   "outputs": [],
   "source": [
    "submit.to_csv('submit_als_14_pca_10_rf_200_6depth_overfit1_500_300_once.csv', index=False)"
   ]
  },
  {
   "cell_type": "code",
   "execution_count": null,
   "metadata": {},
   "outputs": [],
   "source": []
  }
 ],
 "metadata": {
  "kernelspec": {
   "display_name": "Python 2",
   "language": "python",
   "name": "python2"
  },
  "language_info": {
   "codemirror_mode": {
    "name": "ipython",
    "version": 2
   },
   "file_extension": ".py",
   "mimetype": "text/x-python",
   "name": "python",
   "nbconvert_exporter": "python",
   "pygments_lexer": "ipython2",
   "version": "2.7.12"
  }
 },
 "nbformat": 4,
 "nbformat_minor": 2
}
