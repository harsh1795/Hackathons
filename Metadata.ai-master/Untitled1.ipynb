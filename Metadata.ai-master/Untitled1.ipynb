{
 "cells": [
  {
   "cell_type": "code",
   "execution_count": null,
   "metadata": {
    "collapsed": false
   },
   "outputs": [],
   "source": [
    "import psycopg2\n",
    "import pandas.io.sql as pdsql\n",
    "import pandas as pd\n",
    "conn = psycopg2.connect(database=\"ge_hackathon\", user=\"root\", password=\"\", host=\"localhost\", port=\"80\")\n",
    "print \"Opened database successfully\"\n",
    "\n",
    "cursor = conn.cursor()\n",
    "cursor.execute(\"SELECT * FROM answers\")"
   ]
  },
  {
   "cell_type": "code",
   "execution_count": 2,
   "metadata": {
    "collapsed": false
   },
   "outputs": [
    {
     "data": {
      "text/plain": [
       "['Collecting psycopg2',\n",
       " '  Downloading psycopg2-2.6.2-cp27-none-win_amd64.whl (1.2MB)',\n",
       " 'Installing collected packages: psycopg2',\n",
       " 'Successfully installed psycopg2-2.6.2']"
      ]
     },
     "execution_count": 2,
     "metadata": {},
     "output_type": "execute_result"
    }
   ],
   "source": [
    "!!pip install psycopg2"
   ]
  },
  {
   "cell_type": "code",
   "execution_count": 4,
   "metadata": {
    "collapsed": true
   },
   "outputs": [],
   "source": [
    "import MySQLdb\n",
    "import pandas\n",
    "from pandas.io.sql import frame_query\n",
    "from sklearn.ensemble import GradientBoostingClassifier\n",
    "from sklearn.feature_selection import SelectFromModel\n",
    "from sklearn.feature_extraction import DictVectorizer \n",
    "from sklearn.externals import joblib"
   ]
  },
  {
   "cell_type": "code",
   "execution_count": 5,
   "metadata": {
    "collapsed": true
   },
   "outputs": [],
   "source": [
    "def L21pred():\n",
    "    URL = 'DUMB.csv'\n",
    "    DUMB = pandas.read_csv(URL)\n",
    "    df_DUMB = DUMB[DUMB.columns[1:7]+ DUMB.columns[9:14]]\n",
    "\n",
    "    db = MySQLdb.connect(\"localhost\",\"root\",\"\",\"ge_hackathon\" )\n",
    "    cursor = db.cursor()\n",
    "    sql = \"SELECT * FROM answers WHERE finished='0'\"\n",
    "    data = frame_query(sql, db)\n",
    "\n",
    "    df_test = data[list(data.columns[2:8])+ list(data.columns[10:15])]\n",
    "    frames = [ df_DUMB,df_test]\n",
    "    df_WH = pandas.concat(frames)\n",
    "\n",
    "    #ENCODING\n",
    "    X_test = df_WH.to_dict('records')\n",
    "    X_te = []\n",
    "    X_te.extend(X_test)\n",
    "\n",
    "\n",
    "    encoder = DictVectorizer(sparse = True)\n",
    "    X_encoded_test = encoder.fit_transform(X_te)\n",
    "    clf2 = joblib.load('EstL21.pkl') \n",
    "    Predictions = clf2.predict(X_encoded_test.toarray()[-1])\n",
    "    return str(int(Predictions))"
   ]
  },
  {
   "cell_type": "code",
   "execution_count": 7,
   "metadata": {
    "collapsed": false
   },
   "outputs": [
    {
     "name": "stderr",
     "output_type": "stream",
     "text": [
      "C:\\Users\\sai_praneeth7777\\Anaconda2\\lib\\site-packages\\ipykernel\\__main__.py:4: FutureWarning: frame_query is deprecated, use read_sql\n"
     ]
    }
   ],
   "source": [
    "db = MySQLdb.connect(\"localhost\",\"root\",\"\",\"ge_hackathon\" )\n",
    "cursor = db.cursor()\n",
    "sql = \"SELECT * FROM answers WHERE finished='0'\"\n",
    "data = frame_query(sql, db)"
   ]
  },
  {
   "cell_type": "code",
   "execution_count": 8,
   "metadata": {
    "collapsed": false
   },
   "outputs": [
    {
     "data": {
      "text/html": [
       "<div>\n",
       "<table border=\"1\" class=\"dataframe\">\n",
       "  <thead>\n",
       "    <tr style=\"text-align: right;\">\n",
       "      <th></th>\n",
       "      <th>id</th>\n",
       "      <th>name</th>\n",
       "      <th>Age</th>\n",
       "      <th>BP</th>\n",
       "      <th>Morning Sickness</th>\n",
       "      <th>Breast discomfort</th>\n",
       "      <th>Sugar</th>\n",
       "      <th>UTI Burning maturation</th>\n",
       "      <th>L11P</th>\n",
       "      <th>L11A</th>\n",
       "      <th>...</th>\n",
       "      <th>Contraseption used</th>\n",
       "      <th>Fetal moments</th>\n",
       "      <th>L32P</th>\n",
       "      <th>L32A</th>\n",
       "      <th>dio-femoral delay</th>\n",
       "      <th>any deficit</th>\n",
       "      <th>Respiratory Rate</th>\n",
       "      <th>L33P</th>\n",
       "      <th>L33A</th>\n",
       "      <th>finished</th>\n",
       "    </tr>\n",
       "  </thead>\n",
       "  <tbody>\n",
       "    <tr>\n",
       "      <th>0</th>\n",
       "      <td>1051</td>\n",
       "      <td>kowshik</td>\n",
       "      <td>23</td>\n",
       "      <td>29</td>\n",
       "      <td>Yes</td>\n",
       "      <td>No</td>\n",
       "      <td>21</td>\n",
       "      <td>No</td>\n",
       "      <td>24</td>\n",
       "      <td>22</td>\n",
       "      <td>...</td>\n",
       "      <td>NaN</td>\n",
       "      <td>NaN</td>\n",
       "      <td>NaN</td>\n",
       "      <td>NaN</td>\n",
       "      <td>NaN</td>\n",
       "      <td>NaN</td>\n",
       "      <td>NaN</td>\n",
       "      <td>NaN</td>\n",
       "      <td>NaN</td>\n",
       "      <td>0</td>\n",
       "    </tr>\n",
       "    <tr>\n",
       "      <th>1</th>\n",
       "      <td>1052</td>\n",
       "      <td>praneeth</td>\n",
       "      <td>21</td>\n",
       "      <td>21</td>\n",
       "      <td>Yes</td>\n",
       "      <td>Yes</td>\n",
       "      <td>21</td>\n",
       "      <td>No</td>\n",
       "      <td>24</td>\n",
       "      <td>22</td>\n",
       "      <td>...</td>\n",
       "      <td>NaN</td>\n",
       "      <td>NaN</td>\n",
       "      <td>NaN</td>\n",
       "      <td>NaN</td>\n",
       "      <td>NaN</td>\n",
       "      <td>NaN</td>\n",
       "      <td>NaN</td>\n",
       "      <td>NaN</td>\n",
       "      <td>NaN</td>\n",
       "      <td>0</td>\n",
       "    </tr>\n",
       "    <tr>\n",
       "      <th>2</th>\n",
       "      <td>1053</td>\n",
       "      <td>ko</td>\n",
       "      <td>21</td>\n",
       "      <td>33</td>\n",
       "      <td>Yes</td>\n",
       "      <td>No</td>\n",
       "      <td>21</td>\n",
       "      <td>Yes</td>\n",
       "      <td>NaN</td>\n",
       "      <td>NaN</td>\n",
       "      <td>...</td>\n",
       "      <td>NaN</td>\n",
       "      <td>NaN</td>\n",
       "      <td>NaN</td>\n",
       "      <td>NaN</td>\n",
       "      <td>NaN</td>\n",
       "      <td>NaN</td>\n",
       "      <td>NaN</td>\n",
       "      <td>NaN</td>\n",
       "      <td>NaN</td>\n",
       "      <td>0</td>\n",
       "    </tr>\n",
       "    <tr>\n",
       "      <th>3</th>\n",
       "      <td>1054</td>\n",
       "      <td>Sai</td>\n",
       "      <td>23</td>\n",
       "      <td>22</td>\n",
       "      <td>Yes</td>\n",
       "      <td>Yes</td>\n",
       "      <td>21</td>\n",
       "      <td>No</td>\n",
       "      <td>24</td>\n",
       "      <td>22</td>\n",
       "      <td>...</td>\n",
       "      <td>NaN</td>\n",
       "      <td>NaN</td>\n",
       "      <td>NaN</td>\n",
       "      <td>NaN</td>\n",
       "      <td>NaN</td>\n",
       "      <td>NaN</td>\n",
       "      <td>NaN</td>\n",
       "      <td>NaN</td>\n",
       "      <td>NaN</td>\n",
       "      <td>0</td>\n",
       "    </tr>\n",
       "  </tbody>\n",
       "</table>\n",
       "<p>4 rows × 51 columns</p>\n",
       "</div>"
      ],
      "text/plain": [
       "     id      name  Age  BP Morning Sickness Breast discomfort  Sugar  \\\n",
       "0  1051   kowshik   23  29              Yes                No     21   \n",
       "1  1052  praneeth   21  21              Yes               Yes     21   \n",
       "2  1053        ko   21  33              Yes                No     21   \n",
       "3  1054       Sai   23  22              Yes               Yes     21   \n",
       "\n",
       "  UTI Burning maturation  L11P  L11A   ...     Contraseption used  \\\n",
       "0                     No    24    22   ...                    NaN   \n",
       "1                     No    24    22   ...                    NaN   \n",
       "2                    Yes   NaN   NaN   ...                    NaN   \n",
       "3                     No    24    22   ...                    NaN   \n",
       "\n",
       "   Fetal moments L32P L32A dio-femoral delay any deficit Respiratory Rate  \\\n",
       "0            NaN  NaN  NaN               NaN         NaN              NaN   \n",
       "1            NaN  NaN  NaN               NaN         NaN              NaN   \n",
       "2            NaN  NaN  NaN               NaN         NaN              NaN   \n",
       "3            NaN  NaN  NaN               NaN         NaN              NaN   \n",
       "\n",
       "  L33P  L33A finished  \n",
       "0  NaN   NaN        0  \n",
       "1  NaN   NaN        0  \n",
       "2  NaN   NaN        0  \n",
       "3  NaN   NaN        0  \n",
       "\n",
       "[4 rows x 51 columns]"
      ]
     },
     "execution_count": 8,
     "metadata": {},
     "output_type": "execute_result"
    }
   ],
   "source": [
    "data"
   ]
  },
  {
   "cell_type": "code",
   "execution_count": 2,
   "metadata": {
    "collapsed": true
   },
   "outputs": [],
   "source": [
    "def Basicpred():\n",
    "    URL = 'DUMB.csv'\n",
    "    DUMB = pandas.read_csv(URL)\n",
    "    df_DUMB = DUMB[DUMB.columns[1:7]]\n",
    "\n",
    "    db = MySQLdb.connect(\"localhost\",\"root\",\"\",\"ge_hackathon\" )\n",
    "    cursor = db.cursor()\n",
    "    sql = \"SELECT * FROM answers WHERE finished='0'\"\n",
    "    data = frame_query(sql, db)\n",
    "\n",
    "    df_test = data[data.columns[2:8]]\n",
    "    frames = [ df_DUMB,df_test]\n",
    "    df_WH = pandas.concat(frames)\n",
    "\n",
    "    #ENCODING\n",
    "    X_test = df_WH.to_dict('records')\n",
    "    X_te = []\n",
    "    X_te.extend(X_test)\n",
    "\n",
    "\n",
    "    encoder = DictVectorizer(sparse = True)\n",
    "    X_encoded_test = encoder.fit_transform(X_te)\n",
    "    clf2 = joblib.load('Estbasic.pkl') \n",
    "    Predictions = clf2.predict(X_encoded_test.toarray()[-1])\n",
    "    return str(int(Predictions))"
   ]
  },
  {
   "cell_type": "code",
   "execution_count": 3,
   "metadata": {
    "collapsed": false
   },
   "outputs": [
    {
     "ename": "NameError",
     "evalue": "name 'Basicpred' is not defined",
     "output_type": "error",
     "traceback": [
      "\u001b[1;31m---------------------------------------------------------------------------\u001b[0m",
      "\u001b[1;31mNameError\u001b[0m                                 Traceback (most recent call last)",
      "\u001b[1;32m<ipython-input-3-ad30c2a8db9a>\u001b[0m in \u001b[0;36m<module>\u001b[1;34m()\u001b[0m\n\u001b[1;32m----> 1\u001b[1;33m \u001b[0mBasicpred\u001b[0m\u001b[1;33m(\u001b[0m\u001b[1;33m)\u001b[0m\u001b[1;33m\u001b[0m\u001b[0m\n\u001b[0m",
      "\u001b[1;31mNameError\u001b[0m: name 'Basicpred' is not defined"
     ]
    }
   ],
   "source": [
    "Basicpred()"
   ]
  },
  {
   "cell_type": "code",
   "execution_count": 4,
   "metadata": {
    "collapsed": false
   },
   "outputs": [
    {
     "name": "stderr",
     "output_type": "stream",
     "text": [
      "C:\\Users\\sai_praneeth7777\\Anaconda2\\lib\\site-packages\\ipykernel\\__main__.py:4: FutureWarning: frame_query is deprecated, use read_sql\n"
     ]
    }
   ],
   "source": [
    "db = MySQLdb.connect(\"localhost\",\"root\",\"\",\"ge_hackathon\" )\n",
    "cursor = db.cursor()\n",
    "sql = \"SELECT * FROM answers WHERE finished='0'\"\n",
    "data = frame_query(sql, db)"
   ]
  },
  {
   "cell_type": "code",
   "execution_count": 5,
   "metadata": {
    "collapsed": false
   },
   "outputs": [
    {
     "data": {
      "text/html": [
       "<div>\n",
       "<table border=\"1\" class=\"dataframe\">\n",
       "  <thead>\n",
       "    <tr style=\"text-align: right;\">\n",
       "      <th></th>\n",
       "      <th>id</th>\n",
       "      <th>name</th>\n",
       "      <th>Age</th>\n",
       "      <th>BP</th>\n",
       "      <th>Morning Sickness</th>\n",
       "      <th>Breast discomfort</th>\n",
       "      <th>Sugar</th>\n",
       "      <th>UTI Burning maturation</th>\n",
       "      <th>L11P</th>\n",
       "      <th>L11A</th>\n",
       "      <th>...</th>\n",
       "      <th>Contraseption used</th>\n",
       "      <th>Fetal moments</th>\n",
       "      <th>L32P</th>\n",
       "      <th>L32A</th>\n",
       "      <th>dio-femoral delay</th>\n",
       "      <th>any deficit</th>\n",
       "      <th>Respiratory Rate</th>\n",
       "      <th>L33P</th>\n",
       "      <th>L33A</th>\n",
       "      <th>finished</th>\n",
       "    </tr>\n",
       "  </thead>\n",
       "  <tbody>\n",
       "    <tr>\n",
       "      <th>0</th>\n",
       "      <td>1010</td>\n",
       "      <td>kowshik</td>\n",
       "      <td>31</td>\n",
       "      <td>21</td>\n",
       "      <td>Yes</td>\n",
       "      <td>None</td>\n",
       "      <td>NaN</td>\n",
       "      <td>Yes</td>\n",
       "      <td>None</td>\n",
       "      <td>None</td>\n",
       "      <td>...</td>\n",
       "      <td>NaN</td>\n",
       "      <td>NaN</td>\n",
       "      <td>NaN</td>\n",
       "      <td>NaN</td>\n",
       "      <td>NaN</td>\n",
       "      <td>NaN</td>\n",
       "      <td>NaN</td>\n",
       "      <td>NaN</td>\n",
       "      <td>NaN</td>\n",
       "      <td>0</td>\n",
       "    </tr>\n",
       "    <tr>\n",
       "      <th>1</th>\n",
       "      <td>1011</td>\n",
       "      <td>kowshik</td>\n",
       "      <td>31</td>\n",
       "      <td>21</td>\n",
       "      <td>None</td>\n",
       "      <td>No</td>\n",
       "      <td>NaN</td>\n",
       "      <td>Yes</td>\n",
       "      <td>None</td>\n",
       "      <td>None</td>\n",
       "      <td>...</td>\n",
       "      <td>NaN</td>\n",
       "      <td>NaN</td>\n",
       "      <td>NaN</td>\n",
       "      <td>NaN</td>\n",
       "      <td>NaN</td>\n",
       "      <td>NaN</td>\n",
       "      <td>NaN</td>\n",
       "      <td>NaN</td>\n",
       "      <td>NaN</td>\n",
       "      <td>0</td>\n",
       "    </tr>\n",
       "    <tr>\n",
       "      <th>2</th>\n",
       "      <td>1012</td>\n",
       "      <td>kowshik</td>\n",
       "      <td>NaN</td>\n",
       "      <td>21</td>\n",
       "      <td>None</td>\n",
       "      <td>None</td>\n",
       "      <td>21</td>\n",
       "      <td>None</td>\n",
       "      <td>None</td>\n",
       "      <td>None</td>\n",
       "      <td>...</td>\n",
       "      <td>NaN</td>\n",
       "      <td>NaN</td>\n",
       "      <td>NaN</td>\n",
       "      <td>NaN</td>\n",
       "      <td>NaN</td>\n",
       "      <td>NaN</td>\n",
       "      <td>NaN</td>\n",
       "      <td>NaN</td>\n",
       "      <td>NaN</td>\n",
       "      <td>0</td>\n",
       "    </tr>\n",
       "  </tbody>\n",
       "</table>\n",
       "<p>3 rows × 51 columns</p>\n",
       "</div>"
      ],
      "text/plain": [
       "     id     name  Age  BP Morning Sickness Breast discomfort  Sugar  \\\n",
       "0  1010  kowshik   31  21              Yes              None    NaN   \n",
       "1  1011  kowshik   31  21             None                No    NaN   \n",
       "2  1012  kowshik  NaN  21             None              None     21   \n",
       "\n",
       "  UTI Burning maturation  L11P  L11A   ...    Contraseption used  \\\n",
       "0                    Yes  None  None   ...                   NaN   \n",
       "1                    Yes  None  None   ...                   NaN   \n",
       "2                   None  None  None   ...                   NaN   \n",
       "\n",
       "  Fetal moments L32P L32A dio-femoral delay any deficit Respiratory Rate L33P  \\\n",
       "0           NaN  NaN  NaN               NaN         NaN              NaN  NaN   \n",
       "1           NaN  NaN  NaN               NaN         NaN              NaN  NaN   \n",
       "2           NaN  NaN  NaN               NaN         NaN              NaN  NaN   \n",
       "\n",
       "  L33A finished  \n",
       "0  NaN        0  \n",
       "1  NaN        0  \n",
       "2  NaN        0  \n",
       "\n",
       "[3 rows x 51 columns]"
      ]
     },
     "execution_count": 5,
     "metadata": {},
     "output_type": "execute_result"
    }
   ],
   "source": [
    "data"
   ]
  },
  {
   "cell_type": "code",
   "execution_count": 13,
   "metadata": {
    "collapsed": true
   },
   "outputs": [],
   "source": [
    "def L31Night():\n",
    "        #L21 Night\n",
    "        URL = 'DUMB.csv'\n",
    "        DUMB = pandas.read_csv(URL)\n",
    "        db = MySQLdb.connect(\"localhost\",\"root\",\"\",\"ge_hackathon\" )\n",
    "        cursor = db.cursor()\n",
    "        sql = \"SELECT * FROM answers WHERE finished='1'\"\n",
    "        data = frame_query(sql, db)\n",
    "        N='22'\n",
    "        if N == '21':\n",
    "            Questions = list(data.columns[2:8])+ list(data.columns[10:15])\n",
    "            Dumbster = DUMB[DUMB.columns[1:7]+ DUMB.columns[9:14]]\n",
    "        elif N=='22':\n",
    "            Questions = list(data.columns[2:8])+ list(data.columns[17:21])\n",
    "            Dumbster = DUMB.columns[1:7]+ DUMB.columns[16:20]\n",
    "        elif N=='23':\n",
    "            Questions =list(data.columns[2:8])+ list(data.columns[23:27])\n",
    "            Dumbster = DUMB.columns[1:7]+ DUMB.columns[22:26]\n",
    "        else:\n",
    "            Questions = list(data.columns[2:8])+ list(data.columns[29:33])\n",
    "            Dumbster = DUMB.columns[1:7]+ DUMB.columns[28:32]\n",
    "        df_training = data\n",
    "        df_train = df_training[Questions + list(data.columns[35:39])]\n",
    "        Y_train = df_train['L31P'].values\n",
    "        del df_train['L31P']\n",
    "        #ENCODING\n",
    "        X_train = df_train.to_dict('records')\n",
    "        X_tr = []\n",
    "        X_tr.extend(X_train)\n",
    "        #One Hot Encoding \n",
    "        enc = DictVectorizer(sparse = True)\n",
    "        X_encoded_train =enc.fit_transform(X_tr)\n",
    "        estimator = GradientBoostingClassifier() \n",
    "        estimator.fit(X_encoded_train.toarray(),Y_train)\n",
    "        joblib.dump(estimator, 'EstL31.pkl') \n",
    "        return 'success'"
   ]
  },
  {
   "cell_type": "code",
   "execution_count": 14,
   "metadata": {
    "collapsed": false
   },
   "outputs": [
    {
     "name": "stderr",
     "output_type": "stream",
     "text": [
      "C:\\Users\\sai_praneeth7777\\Anaconda2\\lib\\site-packages\\ipykernel\\__main__.py:8: FutureWarning: frame_query is deprecated, use read_sql\n",
      "C:\\Users\\sai_praneeth7777\\Anaconda2\\lib\\site-packages\\ipykernel\\__main__.py:15: FutureWarning: using '+' to provide set union with Indexes is deprecated, use '|' or .union()\n"
     ]
    },
    {
     "data": {
      "text/plain": [
       "'success'"
      ]
     },
     "execution_count": 14,
     "metadata": {},
     "output_type": "execute_result"
    }
   ],
   "source": [
    "L31Night()"
   ]
  },
  {
   "cell_type": "code",
   "execution_count": 17,
   "metadata": {
    "collapsed": true
   },
   "outputs": [],
   "source": [
    "def L31pred():\n",
    "    URL = 'DUMB.csv'\n",
    "    DUMB = pandas.read_csv(URL)\n",
    "    db = MySQLdb.connect(\"localhost\",\"root\",\"\",\"ge_hackathon\" )\n",
    "    cursor = db.cursor()\n",
    "    sql = \"SELECT * FROM answers WHERE finished='0'\"\n",
    "    data = frame_query(sql, db)\n",
    "    N=str(int(data['L11A'].values[0]))\n",
    "    if N == '21':\n",
    "        Questions = list(data.columns[2:8])+ list(data.columns[10:15])\n",
    "        Dumbster = DUMB[DUMB.columns[1:7]+ DUMB.columns[9:14]]\n",
    "    elif N=='22':\n",
    "        Questions = list(data.columns[2:8])+ list(data.columns[17:21])\n",
    "        Dumbster = DUMB.columns[1:7]+ DUMB.columns[16:20]\n",
    "    elif N=='23':\n",
    "        Questions =list(data.columns[2:8])+ list(data.columns[23:27])\n",
    "        Dumbster = DUMB.columns[1:7]+ DUMB.columns[22:26]\n",
    "    else:\n",
    "        Questions = list(data.columns[2:8])+ list(data.columns[29:33])\n",
    "        Dumbster = DUMB.columns[1:7]+ DUMB.columns[28:32]\n",
    "    URL = 'DUMB.csv'\n",
    "    DUMB = pandas.read_csv(URL)\n",
    "    df_DUMB = DUMB[Dumbster + DUMB.columns[34:37] ] \n",
    "    df_test = data[ Questions + list(data.columns[35:38])]\n",
    "    frames = [ df_DUMB,df_test]\n",
    "    df_WH = pandas.concat(frames)\n",
    "    #ENCODING\n",
    "    X_test = df_WH.to_dict('records')\n",
    "    X_te = []\n",
    "    X_te.extend(X_test)\n",
    "    encoder = DictVectorizer(sparse = True)\n",
    "    X_encoded_test = encoder.fit_transform(X_te)\n",
    "    clf2 = joblib.load('EstL31.pkl') \n",
    "    Predictions = clf2.predict(X_encoded_test.toarray()[-1])\n",
    "    return str(int(Predictions))"
   ]
  },
  {
   "cell_type": "code",
   "execution_count": 18,
   "metadata": {
    "collapsed": false
   },
   "outputs": [
    {
     "name": "stderr",
     "output_type": "stream",
     "text": [
      "C:\\Users\\sai_praneeth7777\\Anaconda2\\lib\\site-packages\\ipykernel\\__main__.py:7: FutureWarning: frame_query is deprecated, use read_sql\n",
      "C:\\Users\\sai_praneeth7777\\Anaconda2\\lib\\site-packages\\ipykernel\\__main__.py:14: FutureWarning: using '+' to provide set union with Indexes is deprecated, use '|' or .union()\n",
      "C:\\Users\\sai_praneeth7777\\Anaconda2\\lib\\site-packages\\ipykernel\\__main__.py:23: FutureWarning: using '+' to provide set union with Indexes is deprecated, use '|' or .union()\n",
      "C:\\Users\\sai_praneeth7777\\Anaconda2\\lib\\site-packages\\sklearn\\utils\\validation.py:386: DeprecationWarning: Passing 1d arrays as data is deprecated in 0.17 and willraise ValueError in 0.19. Reshape your data either using X.reshape(-1, 1) if your data has a single feature or X.reshape(1, -1) if it contains a single sample.\n",
      "  DeprecationWarning)\n"
     ]
    },
    {
     "ename": "ValueError",
     "evalue": "Input contains NaN, infinity or a value too large for dtype('float32').",
     "output_type": "error",
     "traceback": [
      "\u001b[1;31m---------------------------------------------------------------------------\u001b[0m",
      "\u001b[1;31mValueError\u001b[0m                                Traceback (most recent call last)",
      "\u001b[1;32m<ipython-input-18-bc7441546f1b>\u001b[0m in \u001b[0;36m<module>\u001b[1;34m()\u001b[0m\n\u001b[1;32m----> 1\u001b[1;33m \u001b[0mL31pred\u001b[0m\u001b[1;33m(\u001b[0m\u001b[1;33m)\u001b[0m\u001b[1;33m\u001b[0m\u001b[0m\n\u001b[0m",
      "\u001b[1;32m<ipython-input-17-5e461b2a3ef6>\u001b[0m in \u001b[0;36mL31pred\u001b[1;34m()\u001b[0m\n\u001b[0;32m     32\u001b[0m     \u001b[0mX_encoded_test\u001b[0m \u001b[1;33m=\u001b[0m \u001b[0mencoder\u001b[0m\u001b[1;33m.\u001b[0m\u001b[0mfit_transform\u001b[0m\u001b[1;33m(\u001b[0m\u001b[0mX_te\u001b[0m\u001b[1;33m)\u001b[0m\u001b[1;33m\u001b[0m\u001b[0m\n\u001b[0;32m     33\u001b[0m     \u001b[0mclf2\u001b[0m \u001b[1;33m=\u001b[0m \u001b[0mjoblib\u001b[0m\u001b[1;33m.\u001b[0m\u001b[0mload\u001b[0m\u001b[1;33m(\u001b[0m\u001b[1;34m'EstL31.pkl'\u001b[0m\u001b[1;33m)\u001b[0m\u001b[1;33m\u001b[0m\u001b[0m\n\u001b[1;32m---> 34\u001b[1;33m     \u001b[0mPredictions\u001b[0m \u001b[1;33m=\u001b[0m \u001b[0mclf2\u001b[0m\u001b[1;33m.\u001b[0m\u001b[0mpredict\u001b[0m\u001b[1;33m(\u001b[0m\u001b[0mX_encoded_test\u001b[0m\u001b[1;33m.\u001b[0m\u001b[0mtoarray\u001b[0m\u001b[1;33m(\u001b[0m\u001b[1;33m)\u001b[0m\u001b[1;33m[\u001b[0m\u001b[1;33m-\u001b[0m\u001b[1;36m1\u001b[0m\u001b[1;33m]\u001b[0m\u001b[1;33m)\u001b[0m\u001b[1;33m\u001b[0m\u001b[0m\n\u001b[0m\u001b[0;32m     35\u001b[0m     \u001b[1;32mreturn\u001b[0m \u001b[0mstr\u001b[0m\u001b[1;33m(\u001b[0m\u001b[0mint\u001b[0m\u001b[1;33m(\u001b[0m\u001b[0mPredictions\u001b[0m\u001b[1;33m)\u001b[0m\u001b[1;33m)\u001b[0m\u001b[1;33m\u001b[0m\u001b[0m\n",
      "\u001b[1;32mC:\\Users\\sai_praneeth7777\\Anaconda2\\lib\\site-packages\\sklearn\\ensemble\\gradient_boosting.pyc\u001b[0m in \u001b[0;36mpredict\u001b[1;34m(self, X)\u001b[0m\n\u001b[0;32m   1496\u001b[0m             \u001b[0mThe\u001b[0m \u001b[0mpredicted\u001b[0m \u001b[0mvalues\u001b[0m\u001b[1;33m.\u001b[0m\u001b[1;33m\u001b[0m\u001b[0m\n\u001b[0;32m   1497\u001b[0m         \"\"\"\n\u001b[1;32m-> 1498\u001b[1;33m         \u001b[0mscore\u001b[0m \u001b[1;33m=\u001b[0m \u001b[0mself\u001b[0m\u001b[1;33m.\u001b[0m\u001b[0mdecision_function\u001b[0m\u001b[1;33m(\u001b[0m\u001b[0mX\u001b[0m\u001b[1;33m)\u001b[0m\u001b[1;33m\u001b[0m\u001b[0m\n\u001b[0m\u001b[0;32m   1499\u001b[0m         \u001b[0mdecisions\u001b[0m \u001b[1;33m=\u001b[0m \u001b[0mself\u001b[0m\u001b[1;33m.\u001b[0m\u001b[0mloss_\u001b[0m\u001b[1;33m.\u001b[0m\u001b[0m_score_to_decision\u001b[0m\u001b[1;33m(\u001b[0m\u001b[0mscore\u001b[0m\u001b[1;33m)\u001b[0m\u001b[1;33m\u001b[0m\u001b[0m\n\u001b[0;32m   1500\u001b[0m         \u001b[1;32mreturn\u001b[0m \u001b[0mself\u001b[0m\u001b[1;33m.\u001b[0m\u001b[0mclasses_\u001b[0m\u001b[1;33m.\u001b[0m\u001b[0mtake\u001b[0m\u001b[1;33m(\u001b[0m\u001b[0mdecisions\u001b[0m\u001b[1;33m,\u001b[0m \u001b[0maxis\u001b[0m\u001b[1;33m=\u001b[0m\u001b[1;36m0\u001b[0m\u001b[1;33m)\u001b[0m\u001b[1;33m\u001b[0m\u001b[0m\n",
      "\u001b[1;32mC:\\Users\\sai_praneeth7777\\Anaconda2\\lib\\site-packages\\sklearn\\ensemble\\gradient_boosting.pyc\u001b[0m in \u001b[0;36mdecision_function\u001b[1;34m(self, X)\u001b[0m\n\u001b[0;32m   1454\u001b[0m             \u001b[1;33m[\u001b[0m\u001b[0mn_samples\u001b[0m\u001b[1;33m]\u001b[0m\u001b[1;33m.\u001b[0m\u001b[1;33m\u001b[0m\u001b[0m\n\u001b[0;32m   1455\u001b[0m         \"\"\"\n\u001b[1;32m-> 1456\u001b[1;33m         \u001b[0mX\u001b[0m \u001b[1;33m=\u001b[0m \u001b[0mcheck_array\u001b[0m\u001b[1;33m(\u001b[0m\u001b[0mX\u001b[0m\u001b[1;33m,\u001b[0m \u001b[0mdtype\u001b[0m\u001b[1;33m=\u001b[0m\u001b[0mDTYPE\u001b[0m\u001b[1;33m,\u001b[0m \u001b[0morder\u001b[0m\u001b[1;33m=\u001b[0m\u001b[1;34m\"C\"\u001b[0m\u001b[1;33m)\u001b[0m\u001b[1;33m\u001b[0m\u001b[0m\n\u001b[0m\u001b[0;32m   1457\u001b[0m         \u001b[0mscore\u001b[0m \u001b[1;33m=\u001b[0m \u001b[0mself\u001b[0m\u001b[1;33m.\u001b[0m\u001b[0m_decision_function\u001b[0m\u001b[1;33m(\u001b[0m\u001b[0mX\u001b[0m\u001b[1;33m)\u001b[0m\u001b[1;33m\u001b[0m\u001b[0m\n\u001b[0;32m   1458\u001b[0m         \u001b[1;32mif\u001b[0m \u001b[0mscore\u001b[0m\u001b[1;33m.\u001b[0m\u001b[0mshape\u001b[0m\u001b[1;33m[\u001b[0m\u001b[1;36m1\u001b[0m\u001b[1;33m]\u001b[0m \u001b[1;33m==\u001b[0m \u001b[1;36m1\u001b[0m\u001b[1;33m:\u001b[0m\u001b[1;33m\u001b[0m\u001b[0m\n",
      "\u001b[1;32mC:\\Users\\sai_praneeth7777\\Anaconda2\\lib\\site-packages\\sklearn\\utils\\validation.pyc\u001b[0m in \u001b[0;36mcheck_array\u001b[1;34m(array, accept_sparse, dtype, order, copy, force_all_finite, ensure_2d, allow_nd, ensure_min_samples, ensure_min_features, warn_on_dtype, estimator)\u001b[0m\n\u001b[0;32m    396\u001b[0m                              % (array.ndim, estimator_name))\n\u001b[0;32m    397\u001b[0m         \u001b[1;32mif\u001b[0m \u001b[0mforce_all_finite\u001b[0m\u001b[1;33m:\u001b[0m\u001b[1;33m\u001b[0m\u001b[0m\n\u001b[1;32m--> 398\u001b[1;33m             \u001b[0m_assert_all_finite\u001b[0m\u001b[1;33m(\u001b[0m\u001b[0marray\u001b[0m\u001b[1;33m)\u001b[0m\u001b[1;33m\u001b[0m\u001b[0m\n\u001b[0m\u001b[0;32m    399\u001b[0m \u001b[1;33m\u001b[0m\u001b[0m\n\u001b[0;32m    400\u001b[0m     \u001b[0mshape_repr\u001b[0m \u001b[1;33m=\u001b[0m \u001b[0m_shape_repr\u001b[0m\u001b[1;33m(\u001b[0m\u001b[0marray\u001b[0m\u001b[1;33m.\u001b[0m\u001b[0mshape\u001b[0m\u001b[1;33m)\u001b[0m\u001b[1;33m\u001b[0m\u001b[0m\n",
      "\u001b[1;32mC:\\Users\\sai_praneeth7777\\Anaconda2\\lib\\site-packages\\sklearn\\utils\\validation.pyc\u001b[0m in \u001b[0;36m_assert_all_finite\u001b[1;34m(X)\u001b[0m\n\u001b[0;32m     52\u001b[0m             and not np.isfinite(X).all()):\n\u001b[0;32m     53\u001b[0m         raise ValueError(\"Input contains NaN, infinity\"\n\u001b[1;32m---> 54\u001b[1;33m                          \" or a value too large for %r.\" % X.dtype)\n\u001b[0m\u001b[0;32m     55\u001b[0m \u001b[1;33m\u001b[0m\u001b[0m\n\u001b[0;32m     56\u001b[0m \u001b[1;33m\u001b[0m\u001b[0m\n",
      "\u001b[1;31mValueError\u001b[0m: Input contains NaN, infinity or a value too large for dtype('float32')."
     ]
    }
   ],
   "source": [
    "L31pred()"
   ]
  },
  {
   "cell_type": "code",
   "execution_count": 19,
   "metadata": {
    "collapsed": false
   },
   "outputs": [
    {
     "name": "stderr",
     "output_type": "stream",
     "text": [
      "C:\\Users\\sai_praneeth7777\\Anaconda2\\lib\\site-packages\\ipykernel\\__main__.py:4: FutureWarning: frame_query is deprecated, use read_sql\n"
     ]
    }
   ],
   "source": [
    "    db = MySQLdb.connect(\"localhost\",\"root\",\"\",\"ge_hackathon\" )\n",
    "    cursor = db.cursor()\n",
    "    sql = \"SELECT * FROM answers WHERE finished='0'\"\n",
    "    data = frame_query(sql, db)"
   ]
  },
  {
   "cell_type": "code",
   "execution_count": 25,
   "metadata": {
    "collapsed": false
   },
   "outputs": [
    {
     "name": "stderr",
     "output_type": "stream",
     "text": [
      "C:\\Users\\sai_praneeth7777\\Anaconda2\\lib\\site-packages\\ipykernel\\__main__.py:4: FutureWarning: frame_query is deprecated, use read_sql\n"
     ]
    }
   ],
   "source": [
    "    db = MySQLdb.connect(\"localhost\",\"root\",\"\",\"ge_hackathon\" )\n",
    "    cursor = db.cursor()\n",
    "    sql = \"SELECT * FROM answers WHERE finished='0'\"\n",
    "    data = frame_query(sql, db)\n",
    "    N=str(int(data['L11A'].values[0]))"
   ]
  },
  {
   "cell_type": "code",
   "execution_count": 24,
   "metadata": {
    "collapsed": false
   },
   "outputs": [
    {
     "data": {
      "text/plain": [
       "'22'"
      ]
     },
     "execution_count": 24,
     "metadata": {},
     "output_type": "execute_result"
    }
   ],
   "source": [
    "str(int(N))"
   ]
  },
  {
   "cell_type": "code",
   "execution_count": 26,
   "metadata": {
    "collapsed": true
   },
   "outputs": [],
   "source": [
    "def L32Night():\n",
    "    URL = 'DUMB.csv'\n",
    "    DUMB = pandas.read_csv(URL)\n",
    "    db = MySQLdb.connect(\"localhost\",\"root\",\"\",\"ge_hackathon\" )\n",
    "    cursor = db.cursor()\n",
    "    sql = \"SELECT * FROM answers WHERE finished='1'\"\n",
    "    data = frame_query(sql, db)\n",
    "    N='22'\n",
    "    if N == '21':\n",
    "        Questions = list(data.columns[2:8])+ list(data.columns[10:15])\n",
    "        Dumbster = DUMB[DUMB.columns[1:7]+ DUMB.columns[9:14]]\n",
    "    elif N=='22':\n",
    "        Questions = list(data.columns[2:8])+ list(data.columns[17:21])\n",
    "        Dumbster = DUMB.columns[1:7]+ DUMB.columns[16:20]\n",
    "    elif N=='23':\n",
    "        Questions =list(data.columns[2:8])+ list(data.columns[23:27])\n",
    "        Dumbster = DUMB.columns[1:7]+ DUMB.columns[22:26]\n",
    "    else:\n",
    "        Questions = list(data.columns[2:8])+ list(data.columns[29:33])\n",
    "        Dumbster = DUMB.columns[1:7]+ DUMB.columns[28:32]\n",
    "    df_training = data\n",
    "    df_train = df_training[Questions + list(data.columns[40:44])]\n",
    "    Y_train = df_train['L32P'].values\n",
    "    del df_train['L32P']\n",
    "    #ENCODING\n",
    "    X_train = df_train.to_dict('records')\n",
    "    X_tr = []\n",
    "    X_tr.extend(X_train)\n",
    "    #One Hot Encoding \n",
    "    enc = DictVectorizer(sparse = True)\n",
    "    X_encoded_train =enc.fit_transform(X_tr)\n",
    "    estimator = GradientBoostingClassifier() \n",
    "    estimator.fit(X_encoded_train.toarray(),Y_train)\n",
    "    joblib.dump(estimator, 'EstL32.pkl') \n",
    "    return 'success'"
   ]
  },
  {
   "cell_type": "code",
   "execution_count": 27,
   "metadata": {
    "collapsed": false
   },
   "outputs": [
    {
     "name": "stderr",
     "output_type": "stream",
     "text": [
      "C:\\Users\\sai_praneeth7777\\Anaconda2\\lib\\site-packages\\ipykernel\\__main__.py:7: FutureWarning: frame_query is deprecated, use read_sql\n",
      "C:\\Users\\sai_praneeth7777\\Anaconda2\\lib\\site-packages\\ipykernel\\__main__.py:14: FutureWarning: using '+' to provide set union with Indexes is deprecated, use '|' or .union()\n"
     ]
    },
    {
     "data": {
      "text/plain": [
       "'success'"
      ]
     },
     "execution_count": 27,
     "metadata": {},
     "output_type": "execute_result"
    }
   ],
   "source": [
    "L32Night()"
   ]
  },
  {
   "cell_type": "code",
   "execution_count": 32,
   "metadata": {
    "collapsed": true
   },
   "outputs": [],
   "source": [
    "def L33Night():\n",
    "        URL = 'DUMB.csv'\n",
    "        DUMB = pandas.read_csv(URL)\n",
    "        #L21 Night\n",
    "        db = MySQLdb.connect(\"localhost\",\"root\",\"\",\"ge_hackathon\" )\n",
    "        cursor = db.cursor()\n",
    "        sql = \"SELECT * FROM answers WHERE finished='1'\"\n",
    "        data = frame_query(sql, db)\n",
    "        N=str(int(data['L11A'].values[0]))\n",
    "        if N == '21':\n",
    "            Questions = list(data.columns[2:8])+ list(data.columns[10:15])\n",
    "            Dumbster = DUMB[DUMB.columns[1:7]+ DUMB.columns[9:14]]\n",
    "        elif N=='22':\n",
    "            Questions = list(data.columns[2:8])+ list(data.columns[17:21])\n",
    "            Dumbster = DUMB.columns[1:7]+ DUMB.columns[16:20]\n",
    "        elif N=='23':\n",
    "            Questions =list(data.columns[2:8])+ list(data.columns[23:27])\n",
    "            Dumbster = DUMB.columns[1:7]+ DUMB.columns[22:26]\n",
    "        else:\n",
    "            Questions = list(data.columns[2:8])+ list(data.columns[29:33])\n",
    "            Dumbster = DUMB.columns[1:7]+ DUMB.columns[28:32]\n",
    "        df_training = data\n",
    "        df_train = df_training[Questions + list(data.columns[45:49])]\n",
    "        Y_train = df_train['L33P'].values\n",
    "        del df_train['L33P']\n",
    " \n",
    "        #ENCODING\n",
    "        X_train = df_train.to_dict('records')\n",
    "        X_tr = []\n",
    "        X_tr.extend(X_train)\n",
    "        #One Hot Encoding \n",
    "        enc = DictVectorizer(sparse = True)\n",
    "        X_encoded_train =enc.fit_transform(X_tr)\n",
    "        estimator = GradientBoostingClassifier() \n",
    "        estimator.fit(X_encoded_train.toarray(),Y_train)\n",
    "        joblib.dump(estimator, 'EstL33.pkl') \n",
    "        return 'success'"
   ]
  },
  {
   "cell_type": "code",
   "execution_count": 33,
   "metadata": {
    "collapsed": false
   },
   "outputs": [
    {
     "name": "stderr",
     "output_type": "stream",
     "text": [
      "C:\\Users\\sai_praneeth7777\\Anaconda2\\lib\\site-packages\\ipykernel\\__main__.py:8: FutureWarning: frame_query is deprecated, use read_sql\n",
      "C:\\Users\\sai_praneeth7777\\Anaconda2\\lib\\site-packages\\ipykernel\\__main__.py:12: FutureWarning: using '+' to provide set union with Indexes is deprecated, use '|' or .union()\n"
     ]
    },
    {
     "data": {
      "text/plain": [
       "'success'"
      ]
     },
     "execution_count": 33,
     "metadata": {},
     "output_type": "execute_result"
    }
   ],
   "source": [
    "L33Night()"
   ]
  },
  {
   "cell_type": "code",
   "execution_count": 39,
   "metadata": {
    "collapsed": false
   },
   "outputs": [
    {
     "name": "stderr",
     "output_type": "stream",
     "text": [
      "C:\\Users\\sai_praneeth7777\\Anaconda2\\lib\\site-packages\\ipykernel\\__main__.py:7: FutureWarning: frame_query is deprecated, use read_sql\n",
      "C:\\Users\\sai_praneeth7777\\Anaconda2\\lib\\site-packages\\ipykernel\\__main__.py:16: FutureWarning: using '+' to provide set union with Indexes is deprecated, use '|' or .union()\n",
      "C:\\Users\\sai_praneeth7777\\Anaconda2\\lib\\site-packages\\ipykernel\\__main__.py:24: FutureWarning: using '+' to provide set union with Indexes is deprecated, use '|' or .union()\n",
      "C:\\Users\\sai_praneeth7777\\Anaconda2\\lib\\site-packages\\sklearn\\utils\\validation.py:386: DeprecationWarning: Passing 1d arrays as data is deprecated in 0.17 and willraise ValueError in 0.19. Reshape your data either using X.reshape(-1, 1) if your data has a single feature or X.reshape(1, -1) if it contains a single sample.\n",
      "  DeprecationWarning)\n"
     ]
    },
    {
     "ename": "ValueError",
     "evalue": "Input contains NaN, infinity or a value too large for dtype('float32').",
     "output_type": "error",
     "traceback": [
      "\u001b[1;31m---------------------------------------------------------------------------\u001b[0m",
      "\u001b[1;31mValueError\u001b[0m                                Traceback (most recent call last)",
      "\u001b[1;32m<ipython-input-39-ccd6131822ba>\u001b[0m in \u001b[0;36m<module>\u001b[1;34m()\u001b[0m\n\u001b[0;32m     36\u001b[0m \u001b[0mX_encoded_test\u001b[0m \u001b[1;33m=\u001b[0m \u001b[0mencoder\u001b[0m\u001b[1;33m.\u001b[0m\u001b[0mfit_transform\u001b[0m\u001b[1;33m(\u001b[0m\u001b[0mX_te\u001b[0m\u001b[1;33m)\u001b[0m\u001b[1;33m\u001b[0m\u001b[0m\n\u001b[0;32m     37\u001b[0m \u001b[0mclf2\u001b[0m \u001b[1;33m=\u001b[0m \u001b[0mjoblib\u001b[0m\u001b[1;33m.\u001b[0m\u001b[0mload\u001b[0m\u001b[1;33m(\u001b[0m\u001b[1;34m'EstL33.pkl'\u001b[0m\u001b[1;33m)\u001b[0m\u001b[1;33m\u001b[0m\u001b[0m\n\u001b[1;32m---> 38\u001b[1;33m \u001b[0mPredictions\u001b[0m \u001b[1;33m=\u001b[0m \u001b[0mclf2\u001b[0m\u001b[1;33m.\u001b[0m\u001b[0mpredict\u001b[0m\u001b[1;33m(\u001b[0m\u001b[0mX_encoded_test\u001b[0m\u001b[1;33m.\u001b[0m\u001b[0mtoarray\u001b[0m\u001b[1;33m(\u001b[0m\u001b[1;33m)\u001b[0m\u001b[1;33m[\u001b[0m\u001b[1;33m-\u001b[0m\u001b[1;36m1\u001b[0m\u001b[1;33m]\u001b[0m\u001b[1;33m)\u001b[0m\u001b[1;33m\u001b[0m\u001b[0m\n\u001b[0m\u001b[0;32m     39\u001b[0m \u001b[0mstr\u001b[0m\u001b[1;33m(\u001b[0m\u001b[0mint\u001b[0m\u001b[1;33m(\u001b[0m\u001b[0mPredictions\u001b[0m\u001b[1;33m)\u001b[0m\u001b[1;33m)\u001b[0m\u001b[1;33m\u001b[0m\u001b[0m\n",
      "\u001b[1;32mC:\\Users\\sai_praneeth7777\\Anaconda2\\lib\\site-packages\\sklearn\\ensemble\\gradient_boosting.pyc\u001b[0m in \u001b[0;36mpredict\u001b[1;34m(self, X)\u001b[0m\n\u001b[0;32m   1496\u001b[0m             \u001b[0mThe\u001b[0m \u001b[0mpredicted\u001b[0m \u001b[0mvalues\u001b[0m\u001b[1;33m.\u001b[0m\u001b[1;33m\u001b[0m\u001b[0m\n\u001b[0;32m   1497\u001b[0m         \"\"\"\n\u001b[1;32m-> 1498\u001b[1;33m         \u001b[0mscore\u001b[0m \u001b[1;33m=\u001b[0m \u001b[0mself\u001b[0m\u001b[1;33m.\u001b[0m\u001b[0mdecision_function\u001b[0m\u001b[1;33m(\u001b[0m\u001b[0mX\u001b[0m\u001b[1;33m)\u001b[0m\u001b[1;33m\u001b[0m\u001b[0m\n\u001b[0m\u001b[0;32m   1499\u001b[0m         \u001b[0mdecisions\u001b[0m \u001b[1;33m=\u001b[0m \u001b[0mself\u001b[0m\u001b[1;33m.\u001b[0m\u001b[0mloss_\u001b[0m\u001b[1;33m.\u001b[0m\u001b[0m_score_to_decision\u001b[0m\u001b[1;33m(\u001b[0m\u001b[0mscore\u001b[0m\u001b[1;33m)\u001b[0m\u001b[1;33m\u001b[0m\u001b[0m\n\u001b[0;32m   1500\u001b[0m         \u001b[1;32mreturn\u001b[0m \u001b[0mself\u001b[0m\u001b[1;33m.\u001b[0m\u001b[0mclasses_\u001b[0m\u001b[1;33m.\u001b[0m\u001b[0mtake\u001b[0m\u001b[1;33m(\u001b[0m\u001b[0mdecisions\u001b[0m\u001b[1;33m,\u001b[0m \u001b[0maxis\u001b[0m\u001b[1;33m=\u001b[0m\u001b[1;36m0\u001b[0m\u001b[1;33m)\u001b[0m\u001b[1;33m\u001b[0m\u001b[0m\n",
      "\u001b[1;32mC:\\Users\\sai_praneeth7777\\Anaconda2\\lib\\site-packages\\sklearn\\ensemble\\gradient_boosting.pyc\u001b[0m in \u001b[0;36mdecision_function\u001b[1;34m(self, X)\u001b[0m\n\u001b[0;32m   1454\u001b[0m             \u001b[1;33m[\u001b[0m\u001b[0mn_samples\u001b[0m\u001b[1;33m]\u001b[0m\u001b[1;33m.\u001b[0m\u001b[1;33m\u001b[0m\u001b[0m\n\u001b[0;32m   1455\u001b[0m         \"\"\"\n\u001b[1;32m-> 1456\u001b[1;33m         \u001b[0mX\u001b[0m \u001b[1;33m=\u001b[0m \u001b[0mcheck_array\u001b[0m\u001b[1;33m(\u001b[0m\u001b[0mX\u001b[0m\u001b[1;33m,\u001b[0m \u001b[0mdtype\u001b[0m\u001b[1;33m=\u001b[0m\u001b[0mDTYPE\u001b[0m\u001b[1;33m,\u001b[0m \u001b[0morder\u001b[0m\u001b[1;33m=\u001b[0m\u001b[1;34m\"C\"\u001b[0m\u001b[1;33m)\u001b[0m\u001b[1;33m\u001b[0m\u001b[0m\n\u001b[0m\u001b[0;32m   1457\u001b[0m         \u001b[0mscore\u001b[0m \u001b[1;33m=\u001b[0m \u001b[0mself\u001b[0m\u001b[1;33m.\u001b[0m\u001b[0m_decision_function\u001b[0m\u001b[1;33m(\u001b[0m\u001b[0mX\u001b[0m\u001b[1;33m)\u001b[0m\u001b[1;33m\u001b[0m\u001b[0m\n\u001b[0;32m   1458\u001b[0m         \u001b[1;32mif\u001b[0m \u001b[0mscore\u001b[0m\u001b[1;33m.\u001b[0m\u001b[0mshape\u001b[0m\u001b[1;33m[\u001b[0m\u001b[1;36m1\u001b[0m\u001b[1;33m]\u001b[0m \u001b[1;33m==\u001b[0m \u001b[1;36m1\u001b[0m\u001b[1;33m:\u001b[0m\u001b[1;33m\u001b[0m\u001b[0m\n",
      "\u001b[1;32mC:\\Users\\sai_praneeth7777\\Anaconda2\\lib\\site-packages\\sklearn\\utils\\validation.pyc\u001b[0m in \u001b[0;36mcheck_array\u001b[1;34m(array, accept_sparse, dtype, order, copy, force_all_finite, ensure_2d, allow_nd, ensure_min_samples, ensure_min_features, warn_on_dtype, estimator)\u001b[0m\n\u001b[0;32m    396\u001b[0m                              % (array.ndim, estimator_name))\n\u001b[0;32m    397\u001b[0m         \u001b[1;32mif\u001b[0m \u001b[0mforce_all_finite\u001b[0m\u001b[1;33m:\u001b[0m\u001b[1;33m\u001b[0m\u001b[0m\n\u001b[1;32m--> 398\u001b[1;33m             \u001b[0m_assert_all_finite\u001b[0m\u001b[1;33m(\u001b[0m\u001b[0marray\u001b[0m\u001b[1;33m)\u001b[0m\u001b[1;33m\u001b[0m\u001b[0m\n\u001b[0m\u001b[0;32m    399\u001b[0m \u001b[1;33m\u001b[0m\u001b[0m\n\u001b[0;32m    400\u001b[0m     \u001b[0mshape_repr\u001b[0m \u001b[1;33m=\u001b[0m \u001b[0m_shape_repr\u001b[0m\u001b[1;33m(\u001b[0m\u001b[0marray\u001b[0m\u001b[1;33m.\u001b[0m\u001b[0mshape\u001b[0m\u001b[1;33m)\u001b[0m\u001b[1;33m\u001b[0m\u001b[0m\n",
      "\u001b[1;32mC:\\Users\\sai_praneeth7777\\Anaconda2\\lib\\site-packages\\sklearn\\utils\\validation.pyc\u001b[0m in \u001b[0;36m_assert_all_finite\u001b[1;34m(X)\u001b[0m\n\u001b[0;32m     52\u001b[0m             and not np.isfinite(X).all()):\n\u001b[0;32m     53\u001b[0m         raise ValueError(\"Input contains NaN, infinity\"\n\u001b[1;32m---> 54\u001b[1;33m                          \" or a value too large for %r.\" % X.dtype)\n\u001b[0m\u001b[0;32m     55\u001b[0m \u001b[1;33m\u001b[0m\u001b[0m\n\u001b[0;32m     56\u001b[0m \u001b[1;33m\u001b[0m\u001b[0m\n",
      "\u001b[1;31mValueError\u001b[0m: Input contains NaN, infinity or a value too large for dtype('float32')."
     ]
    }
   ],
   "source": [
    "\n",
    "URL = 'DUMB.csv'\n",
    "DUMB = pandas.read_csv(URL)\n",
    "db = MySQLdb.connect(\"localhost\",\"root\",\"\",\"ge_hackathon\" )\n",
    "cursor = db.cursor()\n",
    "sql = \"SELECT * FROM answers WHERE finished='0'\"\n",
    "data = frame_query(sql, db)\n",
    "URL = 'DUMB.csv'\n",
    "DUMB = pandas.read_csv(URL)\n",
    "N=str(int(data['L11A'].values[0]))\n",
    "if N == '21':\n",
    "    Questions = list(data.columns[2:8])+ list(data.columns[10:15])\n",
    "    Dumbster = DUMB[DUMB.columns[1:7]+ DUMB.columns[9:14]]\n",
    "elif N=='22':\n",
    "    Questions = list(data.columns[2:8])+ list(data.columns[17:21])\n",
    "    Dumbster = DUMB.columns[1:7]+ DUMB.columns[16:20]\n",
    "elif N=='23':\n",
    "    Questions =list(data.columns[2:8])+ list(data.columns[23:27])\n",
    "    Dumbster = DUMB.columns[1:7]+ DUMB.columns[22:26]\n",
    "else:\n",
    "    Questions = list(data.columns[2:8])+ list(data.columns[29:33])\n",
    "    Dumbster = DUMB.columns[1:7]+ DUMB.columns[28:32]\n",
    "\n",
    "df_DUMB = DUMB[Dumbster + DUMB.columns[44:47]] \n",
    "\n",
    "df_test = data[ Questions + list(data.columns[45:48])]\n",
    "frames = [ df_DUMB,df_test]\n",
    "df_WH = pandas.concat(frames)\n",
    "\n",
    "#ENCODING\n",
    "X_test = df_WH.to_dict('records')\n",
    "X_te = []\n",
    "X_te.extend(X_test)\n",
    "\n",
    "encoder = DictVectorizer(sparse = True)\n",
    "X_encoded_test = encoder.fit_transform(X_te)\n",
    "clf2 = joblib.load('EstL33.pkl') \n",
    "Predictions = clf2.predict(X_encoded_test.toarray()[-1])\n",
    "str(int(Predictions))"
   ]
  },
  {
   "cell_type": "code",
   "execution_count": 40,
   "metadata": {
    "collapsed": false
   },
   "outputs": [
    {
     "data": {
      "text/html": [
       "<div>\n",
       "<table border=\"1\" class=\"dataframe\">\n",
       "  <thead>\n",
       "    <tr style=\"text-align: right;\">\n",
       "      <th></th>\n",
       "      <th>Age</th>\n",
       "      <th>BP</th>\n",
       "      <th>Morning Sickness</th>\n",
       "      <th>Breast discomfort</th>\n",
       "      <th>Sugar</th>\n",
       "      <th>UTI Burning maturation</th>\n",
       "      <th>Drugs</th>\n",
       "      <th>Weight gain /Week</th>\n",
       "      <th>Abdominal pain</th>\n",
       "      <th>Ultra Sound</th>\n",
       "      <th>dio-femoral delay</th>\n",
       "      <th>any deficit</th>\n",
       "      <th>Respiratory Rate</th>\n",
       "    </tr>\n",
       "  </thead>\n",
       "  <tbody>\n",
       "    <tr>\n",
       "      <th>0</th>\n",
       "      <td>21</td>\n",
       "      <td>120</td>\n",
       "      <td>Yes</td>\n",
       "      <td>No</td>\n",
       "      <td>21</td>\n",
       "      <td>No</td>\n",
       "      <td>No</td>\n",
       "      <td>21</td>\n",
       "      <td>No</td>\n",
       "      <td>Yes</td>\n",
       "      <td>None</td>\n",
       "      <td>None</td>\n",
       "      <td>None</td>\n",
       "    </tr>\n",
       "  </tbody>\n",
       "</table>\n",
       "</div>"
      ],
      "text/plain": [
       "   Age   BP Morning Sickness Breast discomfort  Sugar UTI Burning maturation  \\\n",
       "0   21  120              Yes                No     21                     No   \n",
       "\n",
       "  Drugs  Weight gain /Week Abdominal pain Ultra Sound dio-femoral delay  \\\n",
       "0    No                 21             No         Yes              None   \n",
       "\n",
       "  any deficit Respiratory Rate  \n",
       "0        None             None  "
      ]
     },
     "execution_count": 40,
     "metadata": {},
     "output_type": "execute_result"
    }
   ],
   "source": [
    "df_test"
   ]
  },
  {
   "cell_type": "code",
   "execution_count": 36,
   "metadata": {
    "collapsed": false
   },
   "outputs": [
    {
     "name": "stderr",
     "output_type": "stream",
     "text": [
      "C:\\Users\\sai_praneeth7777\\Anaconda2\\lib\\site-packages\\ipykernel\\__main__.py:4: FutureWarning: frame_query is deprecated, use read_sql\n"
     ]
    }
   ],
   "source": [
    "    db = MySQLdb.connect(\"localhost\",\"root\",\"\",\"ge_hackathon\" )\n",
    "    cursor = db.cursor()\n",
    "    sql = \"SELECT * FROM answers WHERE finished='0'\"\n",
    "    data = frame_query(sql, db)\n",
    "    URL = 'DUMB.csv'\n",
    "    DUMB = pandas.read_csv(URL)\n",
    "    N=str(int(data['L11A'].values[0]))"
   ]
  },
  {
   "cell_type": "code",
   "execution_count": 37,
   "metadata": {
    "collapsed": false
   },
   "outputs": [
    {
     "data": {
      "text/plain": [
       "'22'"
      ]
     },
     "execution_count": 37,
     "metadata": {},
     "output_type": "execute_result"
    }
   ],
   "source": [
    "N"
   ]
  },
  {
   "cell_type": "code",
   "execution_count": 38,
   "metadata": {
    "collapsed": false
   },
   "outputs": [
    {
     "data": {
      "text/html": [
       "<div>\n",
       "<table border=\"1\" class=\"dataframe\">\n",
       "  <thead>\n",
       "    <tr style=\"text-align: right;\">\n",
       "      <th></th>\n",
       "      <th>id</th>\n",
       "      <th>name</th>\n",
       "      <th>Age</th>\n",
       "      <th>BP</th>\n",
       "      <th>Morning Sickness</th>\n",
       "      <th>Breast discomfort</th>\n",
       "      <th>Sugar</th>\n",
       "      <th>UTI Burning maturation</th>\n",
       "      <th>L11P</th>\n",
       "      <th>L11A</th>\n",
       "      <th>...</th>\n",
       "      <th>Contraseption used</th>\n",
       "      <th>Fetal moments</th>\n",
       "      <th>L32P</th>\n",
       "      <th>L32A</th>\n",
       "      <th>dio-femoral delay</th>\n",
       "      <th>any deficit</th>\n",
       "      <th>Respiratory Rate</th>\n",
       "      <th>L33P</th>\n",
       "      <th>L33A</th>\n",
       "      <th>finished</th>\n",
       "    </tr>\n",
       "  </thead>\n",
       "  <tbody>\n",
       "    <tr>\n",
       "      <th>0</th>\n",
       "      <td>1051</td>\n",
       "      <td>kowshik</td>\n",
       "      <td>21</td>\n",
       "      <td>120</td>\n",
       "      <td>Yes</td>\n",
       "      <td>No</td>\n",
       "      <td>21</td>\n",
       "      <td>No</td>\n",
       "      <td>24</td>\n",
       "      <td>22</td>\n",
       "      <td>...</td>\n",
       "      <td>NaN</td>\n",
       "      <td>NaN</td>\n",
       "      <td>NaN</td>\n",
       "      <td>NaN</td>\n",
       "      <td>NaN</td>\n",
       "      <td>NaN</td>\n",
       "      <td>NaN</td>\n",
       "      <td>NaN</td>\n",
       "      <td>NaN</td>\n",
       "      <td>0</td>\n",
       "    </tr>\n",
       "  </tbody>\n",
       "</table>\n",
       "<p>1 rows × 51 columns</p>\n",
       "</div>"
      ],
      "text/plain": [
       "     id     name  Age   BP Morning Sickness Breast discomfort  Sugar  \\\n",
       "0  1051  kowshik   21  120              Yes                No     21   \n",
       "\n",
       "  UTI Burning maturation  L11P  L11A   ...     Contraseption used  \\\n",
       "0                     No    24    22   ...                    NaN   \n",
       "\n",
       "   Fetal moments L32P L32A dio-femoral delay any deficit Respiratory Rate  \\\n",
       "0            NaN  NaN  NaN               NaN         NaN              NaN   \n",
       "\n",
       "  L33P  L33A finished  \n",
       "0  NaN   NaN        0  \n",
       "\n",
       "[1 rows x 51 columns]"
      ]
     },
     "execution_count": 38,
     "metadata": {},
     "output_type": "execute_result"
    }
   ],
   "source": [
    "data"
   ]
  },
  {
   "cell_type": "code",
   "execution_count": 50,
   "metadata": {
    "collapsed": false
   },
   "outputs": [
    {
     "name": "stderr",
     "output_type": "stream",
     "text": [
      "C:\\Users\\sai_praneeth7777\\Anaconda2\\lib\\site-packages\\ipykernel\\__main__.py:7: FutureWarning: frame_query is deprecated, use read_sql\n"
     ]
    },
    {
     "ename": "TypeError",
     "evalue": "int() argument must be a string or a number, not 'NoneType'",
     "output_type": "error",
     "traceback": [
      "\u001b[1;31m---------------------------------------------------------------------------\u001b[0m",
      "\u001b[1;31mTypeError\u001b[0m                                 Traceback (most recent call last)",
      "\u001b[1;32m<ipython-input-50-4b094b43fde2>\u001b[0m in \u001b[0;36m<module>\u001b[1;34m()\u001b[0m\n\u001b[0;32m      8\u001b[0m \u001b[0mURL\u001b[0m \u001b[1;33m=\u001b[0m \u001b[1;34m'DUMB.csv'\u001b[0m\u001b[1;33m\u001b[0m\u001b[0m\n\u001b[0;32m      9\u001b[0m \u001b[0mDUMB\u001b[0m \u001b[1;33m=\u001b[0m \u001b[0mpandas\u001b[0m\u001b[1;33m.\u001b[0m\u001b[0mread_csv\u001b[0m\u001b[1;33m(\u001b[0m\u001b[0mURL\u001b[0m\u001b[1;33m)\u001b[0m\u001b[1;33m\u001b[0m\u001b[0m\n\u001b[1;32m---> 10\u001b[1;33m \u001b[0mN\u001b[0m\u001b[1;33m=\u001b[0m\u001b[0mstr\u001b[0m\u001b[1;33m(\u001b[0m\u001b[0mint\u001b[0m\u001b[1;33m(\u001b[0m\u001b[0mdata\u001b[0m\u001b[1;33m[\u001b[0m\u001b[1;34m'L11A'\u001b[0m\u001b[1;33m]\u001b[0m\u001b[1;33m.\u001b[0m\u001b[0mvalues\u001b[0m\u001b[1;33m[\u001b[0m\u001b[1;36m0\u001b[0m\u001b[1;33m]\u001b[0m\u001b[1;33m)\u001b[0m\u001b[1;33m)\u001b[0m\u001b[1;33m\u001b[0m\u001b[0m\n\u001b[0m\u001b[0;32m     11\u001b[0m \u001b[1;32mif\u001b[0m \u001b[0mN\u001b[0m \u001b[1;33m==\u001b[0m \u001b[1;34m'21'\u001b[0m\u001b[1;33m:\u001b[0m\u001b[1;33m\u001b[0m\u001b[0m\n\u001b[0;32m     12\u001b[0m     \u001b[0mQuestions\u001b[0m \u001b[1;33m=\u001b[0m \u001b[0mlist\u001b[0m\u001b[1;33m(\u001b[0m\u001b[0mdata\u001b[0m\u001b[1;33m.\u001b[0m\u001b[0mcolumns\u001b[0m\u001b[1;33m[\u001b[0m\u001b[1;36m2\u001b[0m\u001b[1;33m:\u001b[0m\u001b[1;36m8\u001b[0m\u001b[1;33m]\u001b[0m\u001b[1;33m)\u001b[0m\u001b[1;33m+\u001b[0m \u001b[0mlist\u001b[0m\u001b[1;33m(\u001b[0m\u001b[0mdata\u001b[0m\u001b[1;33m.\u001b[0m\u001b[0mcolumns\u001b[0m\u001b[1;33m[\u001b[0m\u001b[1;36m10\u001b[0m\u001b[1;33m:\u001b[0m\u001b[1;36m15\u001b[0m\u001b[1;33m]\u001b[0m\u001b[1;33m)\u001b[0m\u001b[1;33m\u001b[0m\u001b[0m\n",
      "\u001b[1;31mTypeError\u001b[0m: int() argument must be a string or a number, not 'NoneType'"
     ]
    }
   ],
   "source": [
    "\n",
    "URL = 'DUMB.csv'\n",
    "DUMB = pandas.read_csv(URL)\n",
    "db = MySQLdb.connect(\"localhost\",\"root\",\"\",\"ge_hackathon\" )\n",
    "cursor = db.cursor()\n",
    "sql = \"SELECT * FROM answers WHERE finished='0'\"\n",
    "data = frame_query(sql, db)\n",
    "URL = 'DUMB.csv'\n",
    "DUMB = pandas.read_csv(URL)\n",
    "N=str(int(data['L11A'].values[0]))\n",
    "if N == '21':\n",
    "    Questions = list(data.columns[2:8])+ list(data.columns[10:15])\n",
    "    Dumbster = DUMB[DUMB.columns[1:7]+ DUMB.columns[9:14]]\n",
    "elif N=='22':\n",
    "    Questions = list(data.columns[2:8])+ list(data.columns[17:21])\n",
    "    Dumbster = DUMB.columns[1:7]+ DUMB.columns[16:20]\n",
    "elif N=='23':\n",
    "    Questions =list(data.columns[2:8])+ list(data.columns[23:27])\n",
    "    Dumbster = DUMB.columns[1:7]+ DUMB.columns[22:26]\n",
    "else:\n",
    "    Questions = list(data.columns[2:8])+ list(data.columns[29:33])\n",
    "    Dumbster = DUMB.columns[1:7]+ DUMB.columns[28:32]\n",
    "df_DUMB = DUMB[Dumbster + DUMB.columns[39:42] ] \n",
    "df_test = data[ Questions + list(data.columns[40:43])]\n",
    "frames = [ df_DUMB,df_test]\n",
    "df_WH = pandas.concat(frames)\n",
    "#ENCODING\n",
    "X_test = df_WH.to_dict('records')\n",
    "X_te = []\n",
    "X_te.extend(X_test)\n",
    "encoder = DictVectorizer(sparse = True)\n",
    "X_encoded_test = encoder.fit_transform(X_te)\n",
    "clf2 = joblib.load('EstL32.pkl') \n",
    "Predictions = clf2.predict(X_encoded_test.toarray()[-1])\n",
    "return str(int(Predictions))"
   ]
  },
  {
   "cell_type": "code",
   "execution_count": 53,
   "metadata": {
    "collapsed": false
   },
   "outputs": [
    {
     "data": {
      "text/plain": [
       "0    None\n",
       "Name: L11A, dtype: object"
      ]
     },
     "execution_count": 53,
     "metadata": {},
     "output_type": "execute_result"
    }
   ],
   "source": [
    "data['L11A']"
   ]
  },
  {
   "cell_type": "code",
   "execution_count": 43,
   "metadata": {
    "collapsed": false
   },
   "outputs": [
    {
     "name": "stderr",
     "output_type": "stream",
     "text": [
      "C:\\Users\\sai_praneeth7777\\Anaconda2\\lib\\site-packages\\ipykernel\\__main__.py:6: FutureWarning: frame_query is deprecated, use read_sql\n"
     ]
    }
   ],
   "source": [
    "URL = 'DUMB.csv'\n",
    "DUMB = pandas.read_csv(URL)\n",
    "db = MySQLdb.connect(\"localhost\",\"root\",\"\",\"ge_hackathon\" )\n",
    "cursor = db.cursor()\n",
    "sql = \"SELECT * FROM answers WHERE finished='0'\"\n",
    "data = frame_query(sql, db)\n",
    "URL = 'DUMB.csv'\n",
    "DUMB = pandas.read_csv(URL)"
   ]
  },
  {
   "cell_type": "code",
   "execution_count": 44,
   "metadata": {
    "collapsed": false
   },
   "outputs": [
    {
     "data": {
      "text/html": [
       "<div>\n",
       "<table border=\"1\" class=\"dataframe\">\n",
       "  <thead>\n",
       "    <tr style=\"text-align: right;\">\n",
       "      <th></th>\n",
       "      <th>id</th>\n",
       "      <th>name</th>\n",
       "      <th>Age</th>\n",
       "      <th>BP</th>\n",
       "      <th>Morning Sickness</th>\n",
       "      <th>Breast discomfort</th>\n",
       "      <th>Sugar</th>\n",
       "      <th>UTI Burning maturation</th>\n",
       "      <th>L11P</th>\n",
       "      <th>L11A</th>\n",
       "      <th>...</th>\n",
       "      <th>Contraseption used</th>\n",
       "      <th>Fetal moments</th>\n",
       "      <th>L32P</th>\n",
       "      <th>L32A</th>\n",
       "      <th>dio-femoral delay</th>\n",
       "      <th>any deficit</th>\n",
       "      <th>Respiratory Rate</th>\n",
       "      <th>L33P</th>\n",
       "      <th>L33A</th>\n",
       "      <th>finished</th>\n",
       "    </tr>\n",
       "  </thead>\n",
       "  <tbody>\n",
       "    <tr>\n",
       "      <th>0</th>\n",
       "      <td>1058</td>\n",
       "      <td>Sai</td>\n",
       "      <td>20</td>\n",
       "      <td>22</td>\n",
       "      <td>Yes</td>\n",
       "      <td>Yes</td>\n",
       "      <td>22</td>\n",
       "      <td>Yes</td>\n",
       "      <td>None</td>\n",
       "      <td>None</td>\n",
       "      <td>...</td>\n",
       "      <td>No</td>\n",
       "      <td>Yes</td>\n",
       "      <td>31</td>\n",
       "      <td>32</td>\n",
       "      <td>None</td>\n",
       "      <td>None</td>\n",
       "      <td>None</td>\n",
       "      <td>None</td>\n",
       "      <td>None</td>\n",
       "      <td>0</td>\n",
       "    </tr>\n",
       "  </tbody>\n",
       "</table>\n",
       "<p>1 rows × 51 columns</p>\n",
       "</div>"
      ],
      "text/plain": [
       "     id name  Age  BP Morning Sickness Breast discomfort  Sugar  \\\n",
       "0  1058  Sai   20  22              Yes               Yes     22   \n",
       "\n",
       "  UTI Burning maturation  L11P  L11A   ...    Contraseption used  \\\n",
       "0                    Yes  None  None   ...                    No   \n",
       "\n",
       "  Fetal moments L32P L32A dio-femoral delay any deficit Respiratory Rate  \\\n",
       "0           Yes   31   32              None        None             None   \n",
       "\n",
       "   L33P  L33A finished  \n",
       "0  None  None        0  \n",
       "\n",
       "[1 rows x 51 columns]"
      ]
     },
     "execution_count": 44,
     "metadata": {},
     "output_type": "execute_result"
    }
   ],
   "source": [
    "data"
   ]
  },
  {
   "cell_type": "code",
   "execution_count": 54,
   "metadata": {
    "collapsed": false
   },
   "outputs": [
    {
     "name": "stderr",
     "output_type": "stream",
     "text": [
      "C:\\Users\\sai_praneeth7777\\Anaconda2\\lib\\site-packages\\ipykernel\\__main__.py:7: FutureWarning: frame_query is deprecated, use read_sql\n",
      "C:\\Users\\sai_praneeth7777\\Anaconda2\\lib\\site-packages\\ipykernel\\__main__.py:14: FutureWarning: using '+' to provide set union with Indexes is deprecated, use '|' or .union()\n",
      "C:\\Users\\sai_praneeth7777\\Anaconda2\\lib\\site-packages\\ipykernel\\__main__.py:23: FutureWarning: using '+' to provide set union with Indexes is deprecated, use '|' or .union()\n",
      "C:\\Users\\sai_praneeth7777\\Anaconda2\\lib\\site-packages\\sklearn\\utils\\validation.py:386: DeprecationWarning: Passing 1d arrays as data is deprecated in 0.17 and willraise ValueError in 0.19. Reshape your data either using X.reshape(-1, 1) if your data has a single feature or X.reshape(1, -1) if it contains a single sample.\n",
      "  DeprecationWarning)\n"
     ]
    },
    {
     "ename": "ValueError",
     "evalue": "Input contains NaN, infinity or a value too large for dtype('float32').",
     "output_type": "error",
     "traceback": [
      "\u001b[1;31m---------------------------------------------------------------------------\u001b[0m",
      "\u001b[1;31mValueError\u001b[0m                                Traceback (most recent call last)",
      "\u001b[1;32m<ipython-input-54-55afa5965d92>\u001b[0m in \u001b[0;36m<module>\u001b[1;34m()\u001b[0m\n\u001b[0;32m     32\u001b[0m \u001b[0mX_encoded_test\u001b[0m \u001b[1;33m=\u001b[0m \u001b[0mencoder\u001b[0m\u001b[1;33m.\u001b[0m\u001b[0mfit_transform\u001b[0m\u001b[1;33m(\u001b[0m\u001b[0mX_te\u001b[0m\u001b[1;33m)\u001b[0m\u001b[1;33m\u001b[0m\u001b[0m\n\u001b[0;32m     33\u001b[0m \u001b[0mclf2\u001b[0m \u001b[1;33m=\u001b[0m \u001b[0mjoblib\u001b[0m\u001b[1;33m.\u001b[0m\u001b[0mload\u001b[0m\u001b[1;33m(\u001b[0m\u001b[1;34m'EstL31.pkl'\u001b[0m\u001b[1;33m)\u001b[0m\u001b[1;33m\u001b[0m\u001b[0m\n\u001b[1;32m---> 34\u001b[1;33m \u001b[0mPredictions\u001b[0m \u001b[1;33m=\u001b[0m \u001b[0mclf2\u001b[0m\u001b[1;33m.\u001b[0m\u001b[0mpredict\u001b[0m\u001b[1;33m(\u001b[0m\u001b[0mX_encoded_test\u001b[0m\u001b[1;33m.\u001b[0m\u001b[0mtoarray\u001b[0m\u001b[1;33m(\u001b[0m\u001b[1;33m)\u001b[0m\u001b[1;33m[\u001b[0m\u001b[1;33m-\u001b[0m\u001b[1;36m1\u001b[0m\u001b[1;33m]\u001b[0m\u001b[1;33m)\u001b[0m\u001b[1;33m\u001b[0m\u001b[0m\n\u001b[0m\u001b[0;32m     35\u001b[0m \u001b[1;32mreturn\u001b[0m \u001b[0mstr\u001b[0m\u001b[1;33m(\u001b[0m\u001b[0mint\u001b[0m\u001b[1;33m(\u001b[0m\u001b[0mPredictions\u001b[0m\u001b[1;33m)\u001b[0m\u001b[1;33m)\u001b[0m\u001b[1;33m\u001b[0m\u001b[0m\n",
      "\u001b[1;32mC:\\Users\\sai_praneeth7777\\Anaconda2\\lib\\site-packages\\sklearn\\ensemble\\gradient_boosting.pyc\u001b[0m in \u001b[0;36mpredict\u001b[1;34m(self, X)\u001b[0m\n\u001b[0;32m   1496\u001b[0m             \u001b[0mThe\u001b[0m \u001b[0mpredicted\u001b[0m \u001b[0mvalues\u001b[0m\u001b[1;33m.\u001b[0m\u001b[1;33m\u001b[0m\u001b[0m\n\u001b[0;32m   1497\u001b[0m         \"\"\"\n\u001b[1;32m-> 1498\u001b[1;33m         \u001b[0mscore\u001b[0m \u001b[1;33m=\u001b[0m \u001b[0mself\u001b[0m\u001b[1;33m.\u001b[0m\u001b[0mdecision_function\u001b[0m\u001b[1;33m(\u001b[0m\u001b[0mX\u001b[0m\u001b[1;33m)\u001b[0m\u001b[1;33m\u001b[0m\u001b[0m\n\u001b[0m\u001b[0;32m   1499\u001b[0m         \u001b[0mdecisions\u001b[0m \u001b[1;33m=\u001b[0m \u001b[0mself\u001b[0m\u001b[1;33m.\u001b[0m\u001b[0mloss_\u001b[0m\u001b[1;33m.\u001b[0m\u001b[0m_score_to_decision\u001b[0m\u001b[1;33m(\u001b[0m\u001b[0mscore\u001b[0m\u001b[1;33m)\u001b[0m\u001b[1;33m\u001b[0m\u001b[0m\n\u001b[0;32m   1500\u001b[0m         \u001b[1;32mreturn\u001b[0m \u001b[0mself\u001b[0m\u001b[1;33m.\u001b[0m\u001b[0mclasses_\u001b[0m\u001b[1;33m.\u001b[0m\u001b[0mtake\u001b[0m\u001b[1;33m(\u001b[0m\u001b[0mdecisions\u001b[0m\u001b[1;33m,\u001b[0m \u001b[0maxis\u001b[0m\u001b[1;33m=\u001b[0m\u001b[1;36m0\u001b[0m\u001b[1;33m)\u001b[0m\u001b[1;33m\u001b[0m\u001b[0m\n",
      "\u001b[1;32mC:\\Users\\sai_praneeth7777\\Anaconda2\\lib\\site-packages\\sklearn\\ensemble\\gradient_boosting.pyc\u001b[0m in \u001b[0;36mdecision_function\u001b[1;34m(self, X)\u001b[0m\n\u001b[0;32m   1454\u001b[0m             \u001b[1;33m[\u001b[0m\u001b[0mn_samples\u001b[0m\u001b[1;33m]\u001b[0m\u001b[1;33m.\u001b[0m\u001b[1;33m\u001b[0m\u001b[0m\n\u001b[0;32m   1455\u001b[0m         \"\"\"\n\u001b[1;32m-> 1456\u001b[1;33m         \u001b[0mX\u001b[0m \u001b[1;33m=\u001b[0m \u001b[0mcheck_array\u001b[0m\u001b[1;33m(\u001b[0m\u001b[0mX\u001b[0m\u001b[1;33m,\u001b[0m \u001b[0mdtype\u001b[0m\u001b[1;33m=\u001b[0m\u001b[0mDTYPE\u001b[0m\u001b[1;33m,\u001b[0m \u001b[0morder\u001b[0m\u001b[1;33m=\u001b[0m\u001b[1;34m\"C\"\u001b[0m\u001b[1;33m)\u001b[0m\u001b[1;33m\u001b[0m\u001b[0m\n\u001b[0m\u001b[0;32m   1457\u001b[0m         \u001b[0mscore\u001b[0m \u001b[1;33m=\u001b[0m \u001b[0mself\u001b[0m\u001b[1;33m.\u001b[0m\u001b[0m_decision_function\u001b[0m\u001b[1;33m(\u001b[0m\u001b[0mX\u001b[0m\u001b[1;33m)\u001b[0m\u001b[1;33m\u001b[0m\u001b[0m\n\u001b[0;32m   1458\u001b[0m         \u001b[1;32mif\u001b[0m \u001b[0mscore\u001b[0m\u001b[1;33m.\u001b[0m\u001b[0mshape\u001b[0m\u001b[1;33m[\u001b[0m\u001b[1;36m1\u001b[0m\u001b[1;33m]\u001b[0m \u001b[1;33m==\u001b[0m \u001b[1;36m1\u001b[0m\u001b[1;33m:\u001b[0m\u001b[1;33m\u001b[0m\u001b[0m\n",
      "\u001b[1;32mC:\\Users\\sai_praneeth7777\\Anaconda2\\lib\\site-packages\\sklearn\\utils\\validation.pyc\u001b[0m in \u001b[0;36mcheck_array\u001b[1;34m(array, accept_sparse, dtype, order, copy, force_all_finite, ensure_2d, allow_nd, ensure_min_samples, ensure_min_features, warn_on_dtype, estimator)\u001b[0m\n\u001b[0;32m    396\u001b[0m                              % (array.ndim, estimator_name))\n\u001b[0;32m    397\u001b[0m         \u001b[1;32mif\u001b[0m \u001b[0mforce_all_finite\u001b[0m\u001b[1;33m:\u001b[0m\u001b[1;33m\u001b[0m\u001b[0m\n\u001b[1;32m--> 398\u001b[1;33m             \u001b[0m_assert_all_finite\u001b[0m\u001b[1;33m(\u001b[0m\u001b[0marray\u001b[0m\u001b[1;33m)\u001b[0m\u001b[1;33m\u001b[0m\u001b[0m\n\u001b[0m\u001b[0;32m    399\u001b[0m \u001b[1;33m\u001b[0m\u001b[0m\n\u001b[0;32m    400\u001b[0m     \u001b[0mshape_repr\u001b[0m \u001b[1;33m=\u001b[0m \u001b[0m_shape_repr\u001b[0m\u001b[1;33m(\u001b[0m\u001b[0marray\u001b[0m\u001b[1;33m.\u001b[0m\u001b[0mshape\u001b[0m\u001b[1;33m)\u001b[0m\u001b[1;33m\u001b[0m\u001b[0m\n",
      "\u001b[1;32mC:\\Users\\sai_praneeth7777\\Anaconda2\\lib\\site-packages\\sklearn\\utils\\validation.pyc\u001b[0m in \u001b[0;36m_assert_all_finite\u001b[1;34m(X)\u001b[0m\n\u001b[0;32m     52\u001b[0m             and not np.isfinite(X).all()):\n\u001b[0;32m     53\u001b[0m         raise ValueError(\"Input contains NaN, infinity\"\n\u001b[1;32m---> 54\u001b[1;33m                          \" or a value too large for %r.\" % X.dtype)\n\u001b[0m\u001b[0;32m     55\u001b[0m \u001b[1;33m\u001b[0m\u001b[0m\n\u001b[0;32m     56\u001b[0m \u001b[1;33m\u001b[0m\u001b[0m\n",
      "\u001b[1;31mValueError\u001b[0m: Input contains NaN, infinity or a value too large for dtype('float32')."
     ]
    }
   ],
   "source": [
    "\n",
    "URL = 'DUMB.csv'\n",
    "DUMB = pandas.read_csv(URL)\n",
    "db = MySQLdb.connect(\"localhost\",\"root\",\"\",\"ge_hackathon\" )\n",
    "cursor = db.cursor()\n",
    "sql = \"SELECT * FROM answers WHERE finished='0'\"\n",
    "data = frame_query(sql, db)\n",
    "N=str(int(data['L11A'].values[0]))\n",
    "if N == '21':\n",
    "    Questions = list(data.columns[2:8])+ list(data.columns[10:15])\n",
    "    Dumbster = DUMB[DUMB.columns[1:7]+ DUMB.columns[9:14]]\n",
    "elif N=='22':\n",
    "    Questions = list(data.columns[2:8])+ list(data.columns[17:21])\n",
    "    Dumbster = DUMB.columns[1:7]+ DUMB.columns[16:20]\n",
    "elif N=='23':\n",
    "    Questions =list(data.columns[2:8])+ list(data.columns[23:27])\n",
    "    Dumbster = DUMB.columns[1:7]+ DUMB.columns[22:26]\n",
    "else:\n",
    "    Questions = list(data.columns[2:8])+ list(data.columns[29:33])\n",
    "    Dumbster = DUMB.columns[1:7]+ DUMB.columns[28:32]\n",
    "URL = 'DUMB.csv'\n",
    "DUMB = pandas.read_csv(URL)\n",
    "df_DUMB = DUMB[Dumbster + DUMB.columns[34:37] ] \n",
    "df_test = data[ Questions + list(data.columns[35:38])]\n",
    "frames = [ df_DUMB,df_test]\n",
    "df_WH = pandas.concat(frames)\n",
    "#ENCODING\n",
    "X_test = df_WH.to_dict('records')\n",
    "X_te = []\n",
    "X_te.extend(X_test)\n",
    "encoder = DictVectorizer(sparse = True)\n",
    "X_encoded_test = encoder.fit_transform(X_te)\n",
    "clf2 = joblib.load('EstL31.pkl') \n",
    "Predictions = clf2.predict(X_encoded_test.toarray()[-1])\n",
    "return str(int(Predictions))"
   ]
  },
  {
   "cell_type": "code",
   "execution_count": 56,
   "metadata": {
    "collapsed": false
   },
   "outputs": [
    {
     "name": "stderr",
     "output_type": "stream",
     "text": [
      "C:\\Users\\sai_praneeth7777\\Anaconda2\\lib\\site-packages\\ipykernel\\__main__.py:6: FutureWarning: frame_query is deprecated, use read_sql\n"
     ]
    },
    {
     "ename": "TypeError",
     "evalue": "int() argument must be a string or a number, not 'NoneType'",
     "output_type": "error",
     "traceback": [
      "\u001b[1;31m---------------------------------------------------------------------------\u001b[0m",
      "\u001b[1;31mTypeError\u001b[0m                                 Traceback (most recent call last)",
      "\u001b[1;32m<ipython-input-56-89954ab2846d>\u001b[0m in \u001b[0;36m<module>\u001b[1;34m()\u001b[0m\n\u001b[0;32m      7\u001b[0m \u001b[0mURL\u001b[0m \u001b[1;33m=\u001b[0m \u001b[1;34m'DUMB.csv'\u001b[0m\u001b[1;33m\u001b[0m\u001b[0m\n\u001b[0;32m      8\u001b[0m \u001b[0mDUMB\u001b[0m \u001b[1;33m=\u001b[0m \u001b[0mpandas\u001b[0m\u001b[1;33m.\u001b[0m\u001b[0mread_csv\u001b[0m\u001b[1;33m(\u001b[0m\u001b[0mURL\u001b[0m\u001b[1;33m)\u001b[0m\u001b[1;33m\u001b[0m\u001b[0m\n\u001b[1;32m----> 9\u001b[1;33m \u001b[0mN\u001b[0m\u001b[1;33m=\u001b[0m\u001b[0mstr\u001b[0m\u001b[1;33m(\u001b[0m\u001b[0mint\u001b[0m\u001b[1;33m(\u001b[0m\u001b[0mdata\u001b[0m\u001b[1;33m[\u001b[0m\u001b[1;34m'L11A'\u001b[0m\u001b[1;33m]\u001b[0m\u001b[1;33m.\u001b[0m\u001b[0mvalues\u001b[0m\u001b[1;33m[\u001b[0m\u001b[1;36m0\u001b[0m\u001b[1;33m]\u001b[0m\u001b[1;33m)\u001b[0m\u001b[1;33m)\u001b[0m\u001b[1;33m\u001b[0m\u001b[0m\n\u001b[0m\u001b[0;32m     10\u001b[0m \u001b[1;32mif\u001b[0m \u001b[0mN\u001b[0m \u001b[1;33m==\u001b[0m \u001b[1;34m'21'\u001b[0m\u001b[1;33m:\u001b[0m\u001b[1;33m\u001b[0m\u001b[0m\n\u001b[0;32m     11\u001b[0m     \u001b[0mQuestions\u001b[0m \u001b[1;33m=\u001b[0m \u001b[0mlist\u001b[0m\u001b[1;33m(\u001b[0m\u001b[0mdata\u001b[0m\u001b[1;33m.\u001b[0m\u001b[0mcolumns\u001b[0m\u001b[1;33m[\u001b[0m\u001b[1;36m2\u001b[0m\u001b[1;33m:\u001b[0m\u001b[1;36m8\u001b[0m\u001b[1;33m]\u001b[0m\u001b[1;33m)\u001b[0m\u001b[1;33m+\u001b[0m \u001b[0mlist\u001b[0m\u001b[1;33m(\u001b[0m\u001b[0mdata\u001b[0m\u001b[1;33m.\u001b[0m\u001b[0mcolumns\u001b[0m\u001b[1;33m[\u001b[0m\u001b[1;36m10\u001b[0m\u001b[1;33m:\u001b[0m\u001b[1;36m15\u001b[0m\u001b[1;33m]\u001b[0m\u001b[1;33m)\u001b[0m\u001b[1;33m\u001b[0m\u001b[0m\n",
      "\u001b[1;31mTypeError\u001b[0m: int() argument must be a string or a number, not 'NoneType'"
     ]
    }
   ],
   "source": [
    "URL = 'DUMB.csv'\n",
    "DUMB = pandas.read_csv(URL)\n",
    "db = MySQLdb.connect(\"localhost\",\"root\",\"\",\"ge_hackathon\" )\n",
    "cursor = db.cursor()\n",
    "sql = \"SELECT * FROM answers WHERE finished='0'\"\n",
    "data = frame_query(sql, db)\n",
    "URL = 'DUMB.csv'\n",
    "DUMB = pandas.read_csv(URL)\n",
    "N=str(int(data['L11A'].values[0]))\n",
    "if N == '21':\n",
    "    Questions = list(data.columns[2:8])+ list(data.columns[10:15])\n",
    "    Dumbster = DUMB[DUMB.columns[1:7]+ DUMB.columns[9:14]]\n",
    "elif N=='22':\n",
    "    Questions = list(data.columns[2:8])+ list(data.columns[17:21])\n",
    "    Dumbster = DUMB.columns[1:7]+ DUMB.columns[16:20]\n",
    "elif N=='23':\n",
    "    Questions =list(data.columns[2:8])+ list(data.columns[23:27])\n",
    "    Dumbster = DUMB.columns[1:7]+ DUMB.columns[22:26]\n",
    "else:\n",
    "    Questions = list(data.columns[2:8])+ list(data.columns[29:33])\n",
    "    Dumbster = DUMB.columns[1:7]+ DUMB.columns[28:32]\n",
    "\n",
    "df_DUMB = DUMB[Dumbster + DUMB.columns[44:47]] \n",
    "\n",
    "df_test = data[ Questions + list(data.columns[45:48])]\n",
    "frames = [ df_DUMB,df_test]\n",
    "df_WH = pandas.concat(frames)\n",
    "\n",
    "#ENCODING\n",
    "X_test = df_WH.to_dict('records')\n",
    "X_te = []\n",
    "X_te.extend(X_test)\n",
    "\n",
    "encoder = DictVectorizer(sparse = True)\n",
    "X_encoded_test = encoder.fit_transform(X_te)\n",
    "clf2 = joblib.load('EstL33.pkl') \n",
    "Predictions = clf2.predict(X_encoded_test.toarray()[-1])"
   ]
  },
  {
   "cell_type": "code",
   "execution_count": null,
   "metadata": {
    "collapsed": true
   },
   "outputs": [],
   "source": []
  }
 ],
 "metadata": {
  "kernelspec": {
   "display_name": "Python 2",
   "language": "python",
   "name": "python2"
  },
  "language_info": {
   "codemirror_mode": {
    "name": "ipython",
    "version": 2
   },
   "file_extension": ".py",
   "mimetype": "text/x-python",
   "name": "python",
   "nbconvert_exporter": "python",
   "pygments_lexer": "ipython2",
   "version": "2.7.11"
  }
 },
 "nbformat": 4,
 "nbformat_minor": 0
}
